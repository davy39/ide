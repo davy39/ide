{
  "cells": [
    {
      "cell_type": "markdown",
      "metadata": {},
      "source": [
        "---\n",
        "subject: Bases de données\n",
        "venue: SQL\n",
        "title: \"Présentation de xeus-sqlite\"\n",
        "subtitle: Requêtes SQL et graphiques XVEGA avec Jupyterlite\n",
        "authors:\n",
        "  - name: Davy Cottet\n",
        "    affiliations:\n",
        "      - Lycée Expérimental\n",
        "license: CC-BY-NC-4.0\n",
        "---"
      ]
    },
    {
      "cell_type": "markdown",
      "metadata": {},
      "source": [
        "Bienvenue dans ce tutoriel interactif ! Ce notebook a pour but de vous introduire aux bases du langage SQL (Structured Query Language) pour interroger des bases de données, ainsi qu'à la création de visualisations de données directement depuis vos requêtes grâce à la fonctionnalité `XVEGA_PLOT`.\n",
        "\n",
        "Nous utiliserons le noyau **xsqlite** pour Jupyter, qui permet d'exécuter des commandes SQL et des commandes spéciales (appelées \"magiques\") directement dans les cellules d'un notebook."
      ]
    },
    {
      "cell_type": "markdown",
      "metadata": {},
      "source": [
        "## 1. Les bases de SQL : Créer et interroger une base de données\n",
        "\n",
        "Commençons par créer notre propre base de données. Pour cela, nous utilisons une commande magique propre au noyau `xsqlite`."
      ]
    },
    {
      "cell_type": "markdown",
      "metadata": {},
      "source": [
        "### Création d'une base de données\n",
        "\n",
        "La commande `%CREATE` permet de créer un nouveau fichier de base de données SQLite. Si le fichier existe déjà, cette commande l'ouvrira.\n",
        "\n",
        "````{admonition} Commandes Magiques\n",
        ":class: tip\n",
        "Dans le noyau `xsqlite`, les commandes qui commencent par un `%` ne sont pas du SQL standard. Ce sont des instructions spécifiques au noyau pour gérer la base de données (créer, charger, supprimer, etc.) ou pour générer des visualisations.\n",
        "````"
      ]
    },
    {
      "cell_type": "code",
      "execution_count": null,
      "metadata": {},
      "outputs": [],
      "source": [
        "%CREATE example_db.db"
      ]
    },
    {
      "cell_type": "markdown",
      "metadata": {},
      "source": [
        "### Création d'une table\n",
        "\n",
        "Maintenant que nous avons une base de données, nous avons besoin d'une structure pour stocker nos données : une **table**. Une table est organisée en colonnes (avec un nom et un type de données) et en lignes (les enregistrements).\n",
        "\n",
        "La commande `CREATE TABLE` permet de définir cette structure. Nous allons créer une table `players` pour stocker des informations sur des personnages de jeu.\n"
      ]
    },
    {
      "cell_type": "code",
      "execution_count": null,
      "metadata": {},
      "outputs": [],
      "source": [
        "CREATE TABLE players (Name STRING, Class STRING, Level INTEGER, Hitpoints INTEGER)"
      ]
    },
    {
      "cell_type": "markdown",
      "metadata": {},
      "source": [
        "### Insertion de données\n",
        "\n",
        "Notre table `players` est vide. Utilisons la commande `INSERT INTO` pour y ajouter des lignes (des personnages).\n",
        "\n",
        "La syntaxe est la suivante : `INSERT INTO nom_table (colonne1, colonne2) VALUES (valeur1, valeur2);`"
      ]
    },
    {
      "cell_type": "code",
      "execution_count": null,
      "metadata": {},
      "outputs": [],
      "source": [
        "INSERT INTO players (Name, Class, Level, Hitpoints) VALUES (\"Martin Splitskull\", \"Warrior\", 3, 40)"
      ]
    },
    {
      "cell_type": "code",
      "execution_count": null,
      "metadata": {},
      "outputs": [],
      "source": [
        "INSERT INTO players (Name, Class, Level, Hitpoints) VALUES (\"Sir Wolf\", \"Cleric\", 2, 20)"
      ]
    },
    {
      "cell_type": "code",
      "execution_count": null,
      "metadata": {},
      "outputs": [],
      "source": [
        "INSERT INTO players (Name, Class, Level, Hitpoints) VALUES (\"Sylvain, The Grey\", \"Wizard\", 1, 10)"
      ]
    },
    {
      "cell_type": "markdown",
      "metadata": {},
      "source": [
        "### Sélection de données\n",
        "\n",
        "La commande la plus courante en SQL est `SELECT`. Elle permet d'extraire des données d'une table.\n",
        "\n",
        "Pour afficher uniquement les colonnes `Level` et `Hitpoints` de tous les joueurs, nous exécutons la requête suivante :"
      ]
    },
    {
      "cell_type": "code",
      "execution_count": null,
      "metadata": {},
      "outputs": [],
      "source": [
        "SELECT Level, Hitpoints FROM players"
      ]
    },
    {
      "cell_type": "markdown",
      "metadata": {},
      "source": [
        "### Fonctions d'agrégation\n",
        "\n",
        "SQL peut également effectuer des calculs sur des ensembles de données. Par exemple, pour connaître la somme des niveaux de tous les joueurs, on utilise la fonction `SUM()`."
      ]
    },
    {
      "cell_type": "code",
      "execution_count": null,
      "metadata": {},
      "outputs": [],
      "source": [
        "SELECT SUM (Level) FROM players"
      ]
    },
    {
      "cell_type": "markdown",
      "metadata": {},
      "source": [
        "## 2. Visualisation avec XVEGA_PLOT\n",
        "\n",
        "Le principal atout du noyau `xsqlite` est sa capacité à générer des graphiques à partir de requêtes SQL en utilisant la grammaire de visualisation [Vega-Lite](https://vega.github.io/vega-lite/).\n",
        "\n",
        "La commande magique `%XVEGA_PLOT` transforme le résultat d'une requête `SELECT` en un graphique."
      ]
    },
    {
      "cell_type": "markdown",
      "metadata": {},
      "source": [
        "### Premier graphique : un nuage de points\n",
        "\n",
        "Visualisons la relation entre le niveau (`Level`) et les points de vie (`Hitpoints`) de nos personnages.\n",
        "\n",
        "````{admonition} Syntaxe de XVEGA_PLOT\n",
        ":class: note\n",
        "La structure de la commande est la suivante :\n",
        "`%XVEGA_PLOT [OPTIONS] <> REQUETE_SQL`\n",
        "Où les options de base sont :\n",
        "- `X_FIELD`: Le nom de la colonne pour l'axe des X.\n",
        "- `Y_FIELD`: Le nom de la colonne pour l'axe des Y.\n",
        "- `MARK`: Le type de marqueur visuel à utiliser (`circle`, `bar`, `line`, `square`, `area`...).\n",
        "- `WIDTH` / `HEIGHT`: Les dimensions du graphique en pixels.\n",
        "````"
      ]
    },
    {
      "cell_type": "code",
      "execution_count": null,
      "metadata": {},
      "outputs": [],
      "source": [
        "%XVEGA_PLOT X_FIELD Level Y_FIELD Hitpoints MARK circle WIDTH 100 HEIGHT 200 <> SELECT Level, Hitpoints FROM players"
      ]
    },
    {
      "cell_type": "markdown",
      "metadata": {},
      "source": [
        "### Explorer d'autres options de visualisation\n",
        "\n",
        "Pour montrer plus de fonctionnalités, chargeons une base de données plus complète, `chinook.db`, qui contient des données sur des pistes musicales, des artistes et des employés d'un magasin de musique.\n",
        "\n",
        "Nous utilisons pour cela la commande magique `%LOAD`."
      ]
    },
    {
      "cell_type": "code",
      "execution_count": null,
      "metadata": {},
      "outputs": [],
      "source": [
        "%LOAD chinook.db"
      ]
    },
    {
      "cell_type": "markdown",
      "metadata": {},
      "source": [
        "#### Regroupement de données (`BIN`)\n",
        "\n",
        "L'option `BIN TRUE` permet de regrouper les données en \"bacs\" ou intervalles, ce qui est utile pour créer des histogrammes."
      ]
    },
    {
      "cell_type": "code",
      "execution_count": null,
      "metadata": {},
      "outputs": [],
      "source": [
        "%XVEGA_PLOT X_FIELD EmployeeId Y_FIELD ReportsTo BIN TRUE MARK square WIDTH 100 HEIGHT 200 <> SELECT EmployeeId, ReportsTo FROM employees"
      ]
    },
    {
      "cell_type": "markdown",
      "metadata": {},
      "source": [
        "#### Personnalisation des bacs et des couleurs\n",
        "\n",
        "On peut spécifier le nombre maximal de bacs avec `MAXBINS` et changer la couleur avec `COLOR`."
      ]
    },
    {
      "cell_type": "code",
      "execution_count": null,
      "metadata": {},
      "outputs": [],
      "source": [
        "%XVEGA_PLOT X_FIELD EmployeeId Y_FIELD ReportsTo BIN MAXBINS 3 MARK bar COLOR red WIDTH 200 HEIGHT 200 <> SELECT EmployeeId, ReportsTo FROM employees"
      ]
    },
    {
      "cell_type": "markdown",
      "metadata": {},
      "source": [
        "#### Spécifier le type de données (`TYPE`)\n",
        "\n",
        "L'option `TYPE` permet de préciser la nature des données (`quantitative`, `nominal`, `ordinal`, `temporal`). Ici, `ordinal` indique que les données ont un ordre intrinsèque."
      ]
    },
    {
      "cell_type": "code",
      "execution_count": null,
      "metadata": {},
      "outputs": [],
      "source": [
        "%XVEGA_PLOT X_FIELD EmployeeId Y_FIELD ReportsTo TYPE ordinal MARK bar COLOR green WIDTH 200 HEIGHT 200 <> SELECT EmployeeId, ReportsTo FROM employees"
      ]
    },
    {
      "cell_type": "markdown",
      "metadata": {},
      "source": [
        "#### Graphique en ligne (`line`)\n",
        "\n",
        "Le marqueur `line` est idéal pour visualiser des tendances. Utilisons la clause `LIMIT` en SQL pour ne sélectionner que les 10 premiers artistes."
      ]
    },
    {
      "cell_type": "code",
      "execution_count": null,
      "metadata": {},
      "outputs": [],
      "source": [
        "%XVEGA_PLOT X_FIELD Name TYPE nominal Y_FIELD ArtistId BIN MAXBINS 1 MARK line COLOR purple WIDTH 200 HEIGHT 200 <> SELECT Name, ArtistId FROM artists LIMIT 10"
      ]
    },
    {
      "cell_type": "markdown",
      "metadata": {},
      "source": [
        "#### Graphique en aires (`area`) et options d'affichage\n",
        "\n",
        "Le marqueur `area` remplit l'espace sous une ligne. L'option `GRID false` permet de masquer la grille de fond du graphique."
      ]
    },
    {
      "cell_type": "code",
      "execution_count": null,
      "metadata": {},
      "outputs": [],
      "source": [
        "%XVEGA_PLOT X_FIELD EmployeeId GRID false Y_FIELD ReportsTo MARK area COLOR pink WIDTH 200 HEIGHT 200 <> SELECT EmployeeId, ReportsTo FROM employees"
      ]
    },
    {
      "cell_type": "markdown",
      "metadata": {},
      "source": [
        "## 3. Autres commandes magiques utiles\n",
        "\n",
        "Le noyau `xsqlite` fournit d'autres commandes pour gérer votre environnement."
      ]
    },
    {
      "cell_type": "markdown",
      "metadata": {},
      "source": [
        "### Vérifier l'existence d'une table\n",
        "La commande `%TABLE_EXISTS` renvoie `True` ou `False` selon que la table spécifiée existe ou non dans la base de données courante.\n",
        "Rechargeons notre première base de données pour tester."
      ]
    },
    {
      "cell_type": "code",
      "execution_count": null,
      "metadata": {},
      "outputs": [],
      "source": [
        "%LOAD example_db.db"
      ]
    },
    {
      "cell_type": "code",
      "execution_count": null,
      "metadata": {},
      "outputs": [],
      "source": [
        "%TABLE_EXISTS players"
      ]
    },
    {
      "cell_type": "code",
      "execution_count": null,
      "metadata": {},
      "outputs": [],
      "source": [
        "%TABLE_EXISTS npcs"
      ]
    },
    {
      "cell_type": "markdown",
      "metadata": {},
      "source": [
        "### Obtenir des informations sur la connexion\n",
        "La commande `%GET_INFO` affiche des détails sur la base de données actuellement chargée."
      ]
    },
    {
      "cell_type": "code",
      "execution_count": null,
      "metadata": {},
      "outputs": [],
      "source": [
        "%GET_INFO"
      ]
    },
    {
      "cell_type": "markdown",
      "metadata": {},
      "source": [
        "### Supprimer la base de données\n",
        "\n",
        "La commande `%DELETE` ferme la connexion et supprime le fichier de la base de données du disque.\n",
        "\n",
        "````{admonition} Attention\n",
        ":class: warning\n",
        "Cette opération est irréversible ! Toutes les données contenues dans le fichier `example_db.db` seront perdues.\n",
        "````"
      ]
    },
    {
      "cell_type": "code",
      "execution_count": null,
      "metadata": {},
      "outputs": [],
      "source": [
        "%DELETE"
      ]
    },
    {
      "cell_type": "markdown",
      "metadata": {},
      "source": [
        "## Conclusion\n",
        "\n",
        "Félicitations ! Vous avez parcouru les bases de SQL pour créer, remplir et interroger une base de données. Vous avez également découvert comment utiliser la puissance de `XVEGA_PLOT` pour créer des visualisations de données directement dans votre notebook Jupyter.\n",
        "\n",
        "N'hésitez pas à expérimenter avec d'autres types de requêtes, d'autres options de visualisation et d'autres ensembles de données pour approfondir vos connaissances."
      ]
    }
  ],
  "metadata": {
    "kernelspec": {
      "display_name": "SQL",
      "language": "sqlite",
      "name": "xsqlite"
    },
    "language_info": {
      "codemirror_mode": "sql",
      "file_extension": "",
      "mimetype": "",
      "name": "sql",
      "version": "3.49.2"
    }
  },
  "nbformat": 4,
  "nbformat_minor": 4
}
