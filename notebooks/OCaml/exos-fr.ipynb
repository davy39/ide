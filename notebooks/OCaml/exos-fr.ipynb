{
  "metadata": {
    "kernelspec": {
      "name": "xocaml",
      "display_name": "OCaml",
      "language": "ocaml"
    },
    "language_info": {
      "codemirror_mode": "ocaml",
      "file_extension": ".ml",
      "mimetype": "text/x-ocaml",
      "name": "ocaml",
      "nbconvert_exporter": "",
      "pygments_lexer": "ocaml",
      "version": "5.4.0"
    }
  },
  "nbformat_minor": 5,
  "nbformat": 4,
  "cells": [
    {
      "id": "cc6f4d58-20cf-409d-94b0-d5ca0d43d967",
      "cell_type": "markdown",
      "source": "---\nsubject: Programmation\nvenue: OCaml\ntitle: \"Exercices\"\nsubtitle: OCaml\nshort_title: \"\"\nauthors:\n  - name: OCaml.org\nlicense: CC-BY-4.0\n---",
      "metadata": {}
    },
    {
      "id": "0ff9e74f-2d90-418d-992b-3f5310000ad6",
      "cell_type": "markdown",
      "source": "*Extraits et traduits automatiquement depuis : [https://ocaml.org/exercises](https://ocaml.org/exercises)*\n\n*Pour toute erreur de traduction (ou autre),* **🚨[ouvrir une issue](https://github.com/davy39/ide/issues/new/choose)🚨**.\n\n:::{note} Difficulté \n - 🟢 Débutant·e \n - 🟡 Intermédiaire\n - 🔴 Expert·e\n:::",
      "metadata": {}
    },
    {
      "id": "63f0b6e2-b1f7-4d90-8f6b-8881c06e8ae4",
      "cell_type": "markdown",
      "source": ":::{exercise} Queue d'une Liste 🟢\n:label: ex1\n\n**Tags:** `list`\n\nÉcrire une fonction `last : 'a list -> 'a option` qui retourne le dernier élément d'une liste.\n\n```ocaml\n# last [\"a\" ; \"b\" ; \"c\" ; \"d\"];;\n- : string option = Some \"d\"\n# last [];;\n- : 'a option = None\n```\n:::",
      "metadata": {
        "tags": []
      }
    },
    {
      "id": "08e3ef5c-6454-4af6-ba68-736b5382e6f4",
      "cell_type": "code",
      "source": "let rec last (l: 'a list) : 'a = \n    match l with\n    |[]-> failwith \"Liste vide\"\n    |[e] -> e\n    |_::t -> last t",
      "metadata": {
        "tags": [],
        "trusted": true
      },
      "outputs": [
        {
          "execution_count": 2,
          "output_type": "execute_result",
          "data": {
            "text/plain": "val last : 'a list -> 'a = <fun>\n"
          },
          "metadata": {}
        }
      ],
      "execution_count": 2
    },
    {
      "id": "ec10702e-cc8a-45e6-975d-79d287eafee9",
      "cell_type": "markdown",
      "source": ":::{solution} ex1\n:class: dropdown\n:label: sol1\n\n```ocaml\n# let rec last = function \n  | [] -> None\n  | [ x ] -> Some x\n  | _ :: t -> last t;;\nval last : 'a list -> 'a option = <fun>\n```\n:::",
      "metadata": {
        "tags": []
      }
    },
    {
      "id": "c7c4cac3-3f10-4cc0-b22c-b2bb02b1f847",
      "cell_type": "markdown",
      "source": ":::{exercise} Les Deux Derniers Éléments d'une Liste 🟢\n:label: ex2\n\n**Tags:** `list`\n\nTrouver les deux derniers éléments (le dernier et l'avant-dernier) d'une liste.\n\n```ocaml\n# last_two [\"a\"; \"b\"; \"c\"; \"d\"];;\n- : (string * string) option = Some (\"c\", \"d\")\n# last_two [\"a\"];;\n- : (string * string) option = None\n```\n:::",
      "metadata": {
        "tags": []
      }
    },
    {
      "id": "3d211436-f235-4bdf-b71c-b90bad6b55ae",
      "cell_type": "code",
      "source": "(* Votre réponse ici *)",
      "metadata": {
        "tags": []
      },
      "outputs": [],
      "execution_count": null
    },
    {
      "id": "4ff65e33-60a3-4130-aa09-7232a30a8808",
      "cell_type": "markdown",
      "source": ":::{solution} ex2\n:class: dropdown\n:label: sol2\n\n```ocaml\n# let rec last_two = function\n    | [] | [_] -> None\n    | [x; y] -> Some (x,y)\n    | _ :: t -> last_two t;;\nval last_two : 'a list -> ('a * 'a) option = <fun>\n```\n:::",
      "metadata": {
        "tags": []
      }
    },
    {
      "id": "f8c6d545-af32-4c41-a514-8cc8518d9d02",
      "cell_type": "markdown",
      "source": ":::{exercise} N-ième Élément d'une Liste 🟢\n:label: ex3\n\n**Tags:** `list`\n\nTrouver le N-ième élément d'une liste.\n\n```ocaml\n# at 2 [\"a\"; \"b\"; \"c\"; \"d\"; \"e\"];;\n- : string option = Some \"c\"\n# at 2 [\"a\"];;\n- : string option = None\n```\n\n**Remarque :** OCaml a `List.nth` qui numérote les éléments à partir de `0` et\nlève une exception si l'indice est hors limites.\n\n```ocaml\n# List.nth [\"a\"; \"b\"; \"c\"; \"d\"; \"e\"] 2;;\n- : string = \"c\"\n# List.nth [\"a\"] 2;;\nException: Failure \"nth\".\n```\n:::",
      "metadata": {
        "tags": []
      }
    },
    {
      "id": "ca5d1cf7-6ff0-489b-8b51-ba22b9f38be6",
      "cell_type": "code",
      "source": "(* Votre réponse ici *)",
      "metadata": {
        "tags": []
      },
      "outputs": [],
      "execution_count": null
    },
    {
      "id": "8b1d1794-9ee7-4e48-b3d4-e3d839402936",
      "cell_type": "markdown",
      "source": ":::{solution} ex3\n:class: dropdown\n:label: sol3\n\n```ocaml\n# let rec at k = function\n    | [] -> None\n    | h :: t -> if k = 0 then Some h else at (k - 1) t;;\nval at : int -> 'a list -> 'a option = <fun>\n```\n:::",
      "metadata": {
        "tags": []
      }
    },
    {
      "id": "d0fd17f5-1620-4b16-b3f6-8212f6ec9a74",
      "cell_type": "markdown",
      "source": ":::{exercise} Longueur d'une Liste 🟢\n:label: ex4\n\n**Tags:** `list`\n\nTrouver le nombre d'éléments d'une liste.\n\nLa bibliothèque standard d'OCaml a `List.length` mais nous vous demandons de la réimplémenter.\nBonus pour une solution [récursive terminale](https://fr.wikipedia.org/wiki/R%C3%A9cursivit%C3%A9_terminale).\n\n```ocaml\n# length [\"a\"; \"b\"; \"c\"];;\n- : int = 3\n# length [];;\n- : int = 0\n```\n:::",
      "metadata": {
        "tags": []
      }
    },
    {
      "id": "799babdb-bca7-46d8-a2c7-c624754fc97e",
      "cell_type": "code",
      "source": "(* Votre réponse ici *)",
      "metadata": {
        "tags": []
      },
      "outputs": [],
      "execution_count": null
    },
    {
      "id": "831c4dba-906f-4655-9a72-18a69d96b85e",
      "cell_type": "markdown",
      "source": ":::{solution} ex4\n:class: dropdown\n:label: sol4\n\n```ocaml\n# let length list =\n    let rec aux n = function\n      | [] -> n\n      | _ :: t -> aux (n + 1) t\n    in\n    aux 0 list;;\nval length : 'a list -> int = <fun>\n```\n:::",
      "metadata": {
        "tags": []
      }
    },
    {
      "id": "b74679a0-b35a-46ef-963c-ebe5193a5bd0",
      "cell_type": "markdown",
      "source": ":::{exercise} Inverser une Liste 🟢\n:label: ex5\n\n**Tags:** `list`\n\nInverser une liste.\n\nLa bibliothèque standard d'OCaml a `List.rev` mais nous vous demandons de la réimplémenter.\n\n\n```ocaml\n# rev [\"a\"; \"b\"; \"c\"];;\n- : string list = [\"c\"; \"b\"; \"a\"]\n```\n:::",
      "metadata": {
        "tags": []
      }
    },
    {
      "id": "42d29611-2c88-46d8-bbd7-ff404c1791bc",
      "cell_type": "code",
      "source": "(* Votre réponse ici *)",
      "metadata": {
        "tags": []
      },
      "outputs": [],
      "execution_count": null
    },
    {
      "id": "7704f9fb-735a-4748-9308-11346ddc375c",
      "cell_type": "markdown",
      "source": ":::{solution} ex5\n:class: dropdown\n:label: sol5\n\n```ocaml\n# let rev list =\n    let rec aux acc = function\n      | [] -> acc\n      | h :: t -> aux (h :: acc) t\n    in\n    aux [] list;;\nval rev : 'a list -> 'a list = <fun>\n```\n:::",
      "metadata": {
        "tags": []
      }
    },
    {
      "id": "f532a86b-113a-426d-b512-82a0f8e153d3",
      "cell_type": "markdown",
      "source": ":::{exercise} Palindrome 🟢\n:label: ex6\n\n**Tags:** `list`\n\nDéterminer si une liste est un palindrome.\n\n**Indice :** Un palindrome est sa propre inverse.\n\n```ocaml\n# is_palindrome [\"x\"; \"a\"; \"m\"; \"a\"; \"x\"];;\n- : bool = true\n# not (is_palindrome [\"a\"; \"b\"]);;\n- : bool = true\n```\n:::",
      "metadata": {
        "tags": []
      }
    },
    {
      "id": "dc35b0bf-569b-45e7-a45d-e41452697ac1",
      "cell_type": "code",
      "source": "(* Votre réponse ici *)",
      "metadata": {
        "tags": []
      },
      "outputs": [],
      "execution_count": null
    },
    {
      "id": "a2e90ae2-e060-4094-b29f-7d30f515eacc",
      "cell_type": "markdown",
      "source": ":::{solution} ex6\n:class: dropdown\n:label: sol6\n\n```ocaml\n# let is_palindrome list =\n    (* On peut utiliser soit la fonction rev du problème précédent, soit la fonction intégrée List.rev *)\n    list = List.rev list;;\nval is_palindrome : 'a list -> bool = <fun>\n```\n:::",
      "metadata": {
        "tags": []
      }
    },
    {
      "id": "931851b6-1f31-4990-b4e2-6b3feee04f61",
      "cell_type": "markdown",
      "source": ":::{exercise} Aplatir une Liste 🟡\n:label: ex7\n\n**Tags:** `list`\n\nAplatir une structure de liste imbriquée.\n\n```ocaml\ntype 'a node =\n  | One of 'a \n  | Many of 'a node list\n```\n\n```ocaml\n# flatten [One \"a\"; Many [One \"b\"; Many [One \"c\" ;One \"d\"]; One \"e\"]];;\n- : string list = [\"a\"; \"b\"; \"c\"; \"d\"; \"e\"]\n```\n:::",
      "metadata": {
        "tags": []
      }
    },
    {
      "id": "3e02c479-377a-4133-a984-921a0101f669",
      "cell_type": "code",
      "source": "(* Votre réponse ici *)",
      "metadata": {
        "tags": []
      },
      "outputs": [],
      "execution_count": null
    },
    {
      "id": "22432ac8-9a25-4a09-8958-d2d538026c31",
      "cell_type": "markdown",
      "source": ":::{solution} ex7\n:class: dropdown\n:label: sol7\n\n```ocaml\n# type 'a node =\n    | One of 'a \n    | Many of 'a node list;;\ntype 'a node = One of 'a | Many of 'a node list\n# (* Cette fonction parcourt la liste, en ajoutant au début d'un accumulateur tous les éléments rencontrés,\n   ce qui aplatit la liste dans l'ordre inverse. Elle peut ensuite être inversée pour obtenir\n   la liste aplatie réelle. *);;\n# let flatten list =\n    let rec aux acc = function\n      | [] -> acc\n      | One x :: t -> aux (x :: acc) t\n      | Many l :: t -> aux (aux acc l) t\n    in\n    List.rev (aux [] list);;\nval flatten : 'a node list -> 'a list = <fun>\n```\n:::",
      "metadata": {
        "tags": []
      }
    },
    {
      "id": "b47f81ff-9d39-4192-a5b6-3fa77dd829e3",
      "cell_type": "markdown",
      "source": ":::{exercise} Éliminer les Doublons 🟡\n:label: ex8\n\n**Tags:** `list`\n\nÉliminer les doublons consécutifs des éléments d'une liste.\n\n```ocaml\n# compress [\"a\"; \"a\"; \"a\"; \"a\"; \"b\"; \"c\"; \"c\"; \"a\"; \"a\"; \"d\"; \"e\"; \"e\"; \"e\"; \"e\"];;\n- : string list = [\"a\"; \"b\"; \"c\"; \"a\"; \"d\"; \"e\"]\n```\n:::",
      "metadata": {
        "tags": []
      }
    },
    {
      "id": "521ab7f8-8fe1-4cb9-ae62-c3738bea8b39",
      "cell_type": "code",
      "source": "(* Votre réponse ici *)",
      "metadata": {
        "tags": []
      },
      "outputs": [],
      "execution_count": null
    },
    {
      "id": "1097f719-2e1e-445b-9567-0ccee158f8ce",
      "cell_type": "markdown",
      "source": ":::{solution} ex8\n:class: dropdown\n:label: sol8\n\n```ocaml\n# let rec compress = function\n    | a :: (b :: _ as t) -> if a = b then compress t else a :: compress t\n    | smaller -> smaller;;\nval compress : 'a list -> 'a list = <fun>\n```\n:::",
      "metadata": {
        "tags": []
      }
    },
    {
      "id": "f01c657f-9017-4892-b98f-56436025fef2",
      "cell_type": "markdown",
      "source": ":::{exercise} Regrouper les Doublons Consécutifs 🟡\n:label: ex9\n\n**Tags:** `list`\n\nRegrouper les doublons consécutifs des éléments d'une liste en sous-listes.\n\n```ocaml\n# pack [\"a\"; \"a\"; \"a\"; \"a\"; \"b\"; \"c\"; \"c\"; \"a\"; \"a\"; \"d\"; \"d\"; \"e\"; \"e\"; \"e\"; \"e\"];;\n- : string list list =\n[[\"a\"; \"a\"; \"a\"; \"a\"]; [\"b\"]; [\"c\"; \"c\"]; [\"a\"; \"a\"]; [\"d\"; \"d\"];\n [\"e\"; \"e\"; \"e\"; \"e\"]]\n```\n:::",
      "metadata": {
        "tags": []
      }
    },
    {
      "id": "b70116a8-fda0-4484-a6c6-4faa8b2fba27",
      "cell_type": "code",
      "source": "(* Votre réponse ici *)",
      "metadata": {
        "tags": []
      },
      "outputs": [],
      "execution_count": null
    },
    {
      "id": "dd077c4d-34f0-4485-8458-d9f7acaa3c39",
      "cell_type": "markdown",
      "source": ":::{solution} ex9\n:class: dropdown\n:label: sol9\n\n```ocaml\n# let pack list =\n    let rec aux current acc = function\n      | [] -> []    (* Ne peut être atteint que si la liste originale est vide *)\n      | [x] -> (x :: current) :: acc\n      | a :: (b :: _ as t) ->\n         if a = b then aux (a :: current) acc t\n         else aux [] ((a :: current) :: acc) t  in\n    List.rev (aux [] [] list);;\nval pack : 'a list -> 'a list list = <fun>\n```\n:::",
      "metadata": {
        "tags": []
      }
    },
    {
      "id": "7342f8df-2ef5-4cea-8a90-2980511b6db8",
      "cell_type": "markdown",
      "source": ":::{exercise} Encodage par Plages (Run-Length Encoding) 🟢\n:label: ex10\n\n**Tags:** `list`\n\nSi besoin, rafraîchissez votre mémoire sur l'[encodage par plages](https://fr.wikipedia.org/wiki/Codage_par_plages).\n\nVoici un exemple :\n\n```ocaml\n# encode [\"a\"; \"a\"; \"a\"; \"a\"; \"b\"; \"c\"; \"c\"; \"a\"; \"a\"; \"d\"; \"e\"; \"e\"; \"e\"; \"e\"];;\n- : (int * string) list =\n[(4, \"a\"); (1, \"b\"); (2, \"c\"); (2, \"a\"); (1, \"d\"); (4, \"e\")]\n```\n:::",
      "metadata": {
        "tags": []
      }
    },
    {
      "id": "c22b7bd7-8ad1-4fb5-a6c9-82f06f359f87",
      "cell_type": "code",
      "source": "(* Votre réponse ici *)",
      "metadata": {
        "tags": []
      },
      "outputs": [],
      "execution_count": null
    },
    {
      "id": "25977ce3-13fd-472f-a29b-5eda877c54fc",
      "cell_type": "markdown",
      "source": ":::{solution} ex10\n:class: dropdown\n:label: sol10\n\n```ocaml\n# let encode list =\n    let rec aux count acc = function\n      | [] -> [] (* Ne peut être atteint que si la liste originale est vide *)\n      | [x] -> (count + 1, x) :: acc\n      | a :: (b :: _ as t) -> if a = b then aux (count + 1) acc t\n                              else aux 0 ((count + 1, a) :: acc) t in\n    List.rev (aux 0 [] list);;\nval encode : 'a list -> (int * 'a) list = <fun>\n```\n:::",
      "metadata": {
        "tags": []
      }
    },
    {
      "id": "7a049da7-7bf9-4ace-8b4d-7412009259e6",
      "cell_type": "markdown",
      "source": ":::{exercise} Encodage par Plages Modifié 🟢\n:label: ex11\n\n**Tags:** `list`\n\nModifiez le résultat du problème précédent de telle manière que si un\nélément n'a pas de doublons, il est simplement copié dans la liste de résultat. Seuls\nles éléments avec des doublons sont transférés sous forme de listes (N E).\n\nPuisque les listes OCaml sont homogènes, il faut définir un type pour contenir\nà la fois les éléments uniques et les sous-listes.\n\n<!-- $MDX skip -->\n```ocaml\ntype 'a rle =\n  | One of 'a\n  | Many of int * 'a\n```\n\n```ocaml\n# encode [\"a\"; \"a\"; \"a\"; \"a\"; \"b\"; \"c\"; \"c\"; \"a\"; \"a\"; \"d\"; \"e\"; \"e\"; \"e\"; \"e\"];;\n- : string rle list =\n[Many (4, \"a\"); One \"b\"; Many (2, \"c\"); Many (2, \"a\"); One \"d\";\n Many (4, \"e\")]\n```\n:::",
      "metadata": {
        "tags": []
      }
    },
    {
      "id": "32d5a45f-0340-421b-8f4a-0d67f556cdd7",
      "cell_type": "code",
      "source": "(* Votre réponse ici *)",
      "metadata": {
        "tags": []
      },
      "outputs": [],
      "execution_count": null
    },
    {
      "id": "624028bc-d8f6-402d-9bc4-764c2cf9c34c",
      "cell_type": "markdown",
      "source": ":::{solution} ex11\n:class: dropdown\n:label: sol11\n\n```ocaml\n# type 'a rle =\n  | One of 'a\n  | Many of int * 'a;;\ntype 'a rle = One of 'a | Many of int * 'a\n# let encode l =\n    let create_tuple cnt elem =\n      if cnt = 1 then One elem\n      else Many (cnt, elem) in\n    let rec aux count acc = function\n      | [] -> []\n      | [x] -> (create_tuple (count + 1) x) :: acc\n      | hd :: (snd :: _ as tl) ->\n          if hd = snd then aux (count + 1) acc tl\n          else aux 0 ((create_tuple (count + 1) hd) :: acc) tl in\n      List.rev (aux 0 [] l);;\nval encode : 'a list -> 'a rle list = <fun>\n```\n:::",
      "metadata": {
        "tags": []
      }
    },
    {
      "id": "5a2b87bc-54e6-4738-970b-63793e461767",
      "cell_type": "markdown",
      "source": ":::{exercise} Décoder une Liste Encodée par Plages 🟡\n:label: ex12\n\n**Tags:** `list`\n\nÉtant donné une liste encodée par plages générée comme spécifié dans le problème\nprécédent, construisez sa version non compressée.\n\n```ocaml\n#  decode [Many (4, \"a\"); One \"b\"; Many (2, \"c\"); Many (2, \"a\"); One \"d\"; Many (4, \"e\")];;\n- : string list =\n[\"a\"; \"a\"; \"a\"; \"a\"; \"b\"; \"c\"; \"c\"; \"a\"; \"a\"; \"d\"; \"e\"; \"e\"; \"e\"; \"e\"]\n```\n:::",
      "metadata": {
        "tags": []
      }
    },
    {
      "id": "32d7a553-9b48-402c-b4bd-658d17b3b8b3",
      "cell_type": "code",
      "source": "(* Votre réponse ici *)",
      "metadata": {
        "tags": []
      },
      "outputs": [],
      "execution_count": null
    },
    {
      "id": "2cb98b34-41f3-4d34-87df-6ca7a07116fa",
      "cell_type": "markdown",
      "source": ":::{solution} ex12\n:class: dropdown\n:label: sol12\n\n```ocaml\n# let decode list =\n    let rec many acc n x =\n      if n = 0 then acc else many (x :: acc) (n - 1) x\n    in\n    let rec aux acc = function\n      | [] -> acc\n      | One x :: t -> aux (x :: acc) t\n      | Many (n, x) :: t -> aux (many acc n x) t\n    in\n      aux [] (List.rev list);;\nval decode : 'a rle list -> 'a list = <fun>\n```\n:::",
      "metadata": {
        "tags": []
      }
    },
    {
      "id": "5d6fba86-3357-42af-bcb5-5b9820a80970",
      "cell_type": "markdown",
      "source": ":::{exercise} Encodage par Plages d'une Liste (Solution Directe) 🟡\n:label: ex13\n\n**Tags:** `list`\n\nImplémentez la méthode de compression de données par encodage par plages\ndirectement. C'est-à-dire, ne créez pas explicitement les sous-listes contenant les\ndoublons, comme dans le problème \"[Regrouper les doublons consécutifs des éléments d'une liste en sous-listes](#9)\", mais comptez-les seulement. Comme dans le problème\n\"[Encodage par plages modifié](#10)\", simplifiez la liste de résultat en remplaçant les listes singletons (1 X) par X.\n\n```ocaml\n# encode [\"a\";\"a\";\"a\";\"a\";\"b\";\"c\";\"c\";\"a\";\"a\";\"d\";\"e\";\"e\";\"e\";\"e\"];;\n- : string rle list =\n[Many (4, \"a\"); One \"b\"; Many (2, \"c\"); Many (2, \"a\"); One \"d\";\n Many (4, \"e\")]\n```\n:::",
      "metadata": {
        "tags": []
      }
    },
    {
      "id": "0699af00-3fe7-48ae-b848-928e359e331b",
      "cell_type": "code",
      "source": "(* Votre réponse ici *)",
      "metadata": {
        "tags": []
      },
      "outputs": [],
      "execution_count": null
    },
    {
      "id": "08566c86-d2be-498a-8c5c-6fad1eba3f03",
      "cell_type": "markdown",
      "source": ":::{solution} ex13\n:class: dropdown\n:label: sol13\n\n```ocaml\n# let encode list =\n    let rle count x = if count = 0 then One x else Many (count + 1, x) in\n    let rec aux count acc = function\n      | [] -> [] (* Ne peut être atteint que si la liste originale est vide *)\n      | [x] -> rle count x :: acc\n      | a :: (b :: _ as t) -> if a = b then aux (count + 1) acc t\n                              else aux 0 (rle count a :: acc) t\n    in\n      List.rev (aux 0 [] list);;\nval encode : 'a list -> 'a rle list = <fun>\n```\n:::",
      "metadata": {
        "tags": []
      }
    },
    {
      "id": "fcb5b97f-6eab-4886-be68-c5ba632fa459",
      "cell_type": "markdown",
      "source": ":::{exercise} Dupliquer les Éléments d'une Liste 🟢\n:label: ex14\n\n**Tags:** `list`\n\nDupliquer les éléments d'une liste.\n\n```ocaml\n# duplicate [\"a\"; \"b\"; \"c\"; \"c\"; \"d\"];;\n- : string list = [\"a\"; \"a\"; \"b\"; \"b\"; \"c\"; \"c\"; \"c\"; \"c\"; \"d\"; \"d\"]\n```\n:::",
      "metadata": {
        "tags": []
      }
    },
    {
      "id": "7260513b-fa23-4a38-9e21-53a8394ceabb",
      "cell_type": "code",
      "source": "(* Votre réponse ici *)",
      "metadata": {
        "tags": []
      },
      "outputs": [],
      "execution_count": null
    },
    {
      "id": "7144726b-eed9-4b4b-a26a-d8ccdb2da7e7",
      "cell_type": "markdown",
      "source": ":::{solution} ex14\n:class: dropdown\n:label: sol14\n\n```ocaml\n# let rec duplicate = function\n    | [] -> []\n    | h :: t -> h :: h :: duplicate t;;\nval duplicate : 'a list -> 'a list = <fun>\n```\n:::",
      "metadata": {
        "tags": []
      }
    },
    {
      "id": "95f9d46f-5c21-4a03-bfd8-8f2eb0f22b25",
      "cell_type": "markdown",
      "source": ":::{exercise} Répliquer les Éléments d'une Liste un Nombre de Fois Donné 🟡\n:label: ex15\n\n**Tags:** `list`\n\nRépliquer les éléments d'une liste un nombre de fois donné.\n\n```ocaml\n# replicate [\"a\"; \"b\"; \"c\"] 3;;\n- : string list = [\"a\"; \"a\"; \"a\"; \"b\"; \"b\"; \"b\"; \"c\"; \"c\"; \"c\"]\n```\n:::",
      "metadata": {
        "tags": []
      }
    },
    {
      "id": "452df0b4-7e3c-433c-bf5c-da1b7f4046f2",
      "cell_type": "code",
      "source": "(* Votre réponse ici *)",
      "metadata": {
        "tags": []
      },
      "outputs": [],
      "execution_count": null
    },
    {
      "id": "78b75695-e318-4475-95f3-875855512da6",
      "cell_type": "markdown",
      "source": ":::{solution} ex15\n:class: dropdown\n:label: sol15\n\n```ocaml\n# let replicate list n =\n    let rec prepend n acc x =\n      if n = 0 then acc else prepend (n-1) (x :: acc) x in\n    let rec aux acc = function\n      | [] -> acc\n      | h :: t -> aux (prepend n acc h) t in\n    (* Ceci pourrait aussi être écrit comme :\n       List.fold_left (prepend n) [] (List.rev list) *)\n    aux [] (List.rev list);;\nval replicate : 'a list -> int -> 'a list = <fun>\n```\n:::",
      "metadata": {
        "tags": []
      }
    },
    {
      "id": "7da6bf1b-6c17-4a2c-878e-a84c4bbf919c",
      "cell_type": "markdown",
      "source": ":::{exercise} Supprimer Chaque N-ième Élément d'une Liste 🟡\n:label: ex16\n\n**Tags:** `list`\n\nSupprimer chaque N-ième élément d'une liste.\n\n```ocaml\n# drop [\"a\"; \"b\"; \"c\"; \"d\"; \"e\"; \"f\"; \"g\"; \"h\"; \"i\"; \"j\"] 3;;\n- : string list = [\"a\"; \"b\"; \"d\"; \"e\"; \"g\"; \"h\"; \"j\"]\n```\n:::",
      "metadata": {
        "tags": []
      }
    },
    {
      "id": "39ac465f-5523-4fbf-96fc-b3db8d05e0fa",
      "cell_type": "code",
      "source": "(* Votre réponse ici *)",
      "metadata": {
        "tags": []
      },
      "outputs": [],
      "execution_count": null
    },
    {
      "id": "bef265c2-e6d5-4dca-8521-e331bbb5101a",
      "cell_type": "markdown",
      "source": ":::{solution} ex16\n:class: dropdown\n:label: sol16\n\n```ocaml\n# let drop list n =\n    let rec aux i = function\n      | [] -> []\n      | h :: t -> if i = n then aux 1 t else h :: aux (i + 1) t  in\n    aux 1 list;;\nval drop : 'a list -> int -> 'a list = <fun>\n```\n:::",
      "metadata": {
        "tags": []
      }
    },
    {
      "id": "ac829dc0-6e13-4ef1-a8c3-230ce10e000b",
      "cell_type": "markdown",
      "source": ":::{exercise} Diviser une Liste en Deux Parties ; la Longueur de la Première Partie est Donnée 🟢\n:label: ex17\n\n**Tags:** `list`\n\nDiviser une liste en deux parties ; la longueur de la première partie est donnée.\n\nSi la longueur de la première partie est plus longue que la liste entière, alors la\npremière partie est la liste et la seconde partie est vide.\n\n```ocaml\n# split [\"a\"; \"b\"; \"c\"; \"d\"; \"e\"; \"f\"; \"g\"; \"h\"; \"i\"; \"j\"] 3;;\n- : string list * string list =\n([\"a\"; \"b\"; \"c\"], [\"d\"; \"e\"; \"f\"; \"g\"; \"h\"; \"i\"; \"j\"])\n# split [\"a\"; \"b\"; \"c\"; \"d\"] 5;;\n- : string list * string list = ([\"a\"; \"b\"; \"c\"; \"d\"], [])\n```\n:::",
      "metadata": {
        "tags": []
      }
    },
    {
      "id": "ceb3eeff-9c80-4312-ae14-288ccf1ebb28",
      "cell_type": "code",
      "source": "(* Votre réponse ici *)",
      "metadata": {
        "tags": []
      },
      "outputs": [],
      "execution_count": null
    },
    {
      "id": "d2dc8343-067f-4258-bd80-dfd13bf96f2c",
      "cell_type": "markdown",
      "source": ":::{solution} ex17\n:class: dropdown\n:label: sol17\n\n```ocaml\n# let split list n =\n    let rec aux i acc = function\n      | [] -> List.rev acc, []\n      | h :: t as l -> if i = 0 then List.rev acc, l\n                       else aux (i - 1) (h :: acc) t \n    in\n      aux n [] list;;\nval split : 'a list -> int -> 'a list * 'a list = <fun>\n```\n:::",
      "metadata": {
        "tags": []
      }
    },
    {
      "id": "f52dd500-c670-48a9-9f7e-5d11daedecff",
      "cell_type": "markdown",
      "source": ":::{exercise} Extraire une Tranche d'une Liste 🟡\n:label: ex18\n\n**Tags:** `list`\n\nÉtant donné deux indices, `i` et `k`, la tranche est la liste contenant les\néléments entre le `i`-ème et le `k`-ème élément de la liste originale\n(les deux limites incluses). Commencez à compter les éléments à partir de 0 (c'est la\nfaçon dont le module `List` numérote les éléments).\n\n```ocaml\n# slice [\"a\"; \"b\"; \"c\"; \"d\"; \"e\"; \"f\"; \"g\"; \"h\"; \"i\"; \"j\"] 2 6;;\n- : string list = [\"c\"; \"d\"; \"e\"; \"f\"; \"g\"]\n```\n:::",
      "metadata": {
        "tags": []
      }
    },
    {
      "id": "dc2201ef-3acd-45a8-9621-8f1d261a3d5c",
      "cell_type": "code",
      "source": "(* Votre réponse ici *)",
      "metadata": {
        "tags": []
      },
      "outputs": [],
      "execution_count": null
    },
    {
      "id": "f2e877b9-0286-4471-8709-4043ce7ab543",
      "cell_type": "markdown",
      "source": ":::{solution} ex18\n:class: dropdown\n:label: sol18\n\n```ocaml\n# let slice list i k =\n    let rec take n = function\n      | [] -> []\n      | h :: t -> if n = 0 then [] else h :: take (n - 1) t\n    in\n    let rec drop n = function\n      | [] -> []\n      | h :: t as l -> if n = 0 then l else drop (n - 1) t\n    in\n    take (k - i + 1) (drop i list);;\nval slice : 'a list -> int -> int -> 'a list = <fun>\n```\n:::",
      "metadata": {
        "tags": []
      }
    },
    {
      "id": "6c0954de-fe8e-4fbd-8f2c-9a2bc0e8e698",
      "cell_type": "markdown",
      "source": ":::{exercise} Faire une Rotation d'une Liste de N Places vers la Gauche 🟡\n:label: ex19\n\n**Tags:** `list`\n\nFaire une rotation d'une liste de N places vers la gauche.\n\n```ocaml\n# rotate [\"a\"; \"b\"; \"c\"; \"d\"; \"e\"; \"f\"; \"g\"; \"h\"] 3;;\n- : string list = [\"d\"; \"e\"; \"f\"; \"g\"; \"h\"; \"a\"; \"b\"; \"c\"]\n```\n:::",
      "metadata": {
        "tags": []
      }
    },
    {
      "id": "872dcbff-c32e-4c26-aa58-7dab70eb69ba",
      "cell_type": "code",
      "source": "(* Votre réponse ici *)",
      "metadata": {
        "tags": []
      },
      "outputs": [],
      "execution_count": null
    },
    {
      "id": "35908d4e-5b87-4126-8bce-3560015cd1ce",
      "cell_type": "markdown",
      "source": ":::{solution} ex19\n:class: dropdown\n:label: sol19\n\n```ocaml\n# let split list n =\n    let rec aux i acc = function\n      | [] -> List.rev acc, []\n      | h :: t as l -> if i = 0 then List.rev acc, l\n                       else aux (i - 1) (h :: acc) t  in\n    aux n [] list\n\n  let rotate list n =\n    let len = List.length list in\n    (* Calculer une valeur de rotation entre 0 et len - 1 *)\n    let n = if len = 0 then 0 else (n mod len + len) mod len in\n    if n = 0 then list\n    else let a, b = split list n in b @ a;;\nval split : 'a list -> int -> 'a list * 'a list = <fun>\nval rotate : 'a list -> int -> 'a list = <fun>\n```\n:::",
      "metadata": {
        "tags": []
      }
    },
    {
      "id": "97bc56a2-b916-4c1b-9cfb-d383221ccaf4",
      "cell_type": "markdown",
      "source": ":::{exercise} Supprimer le K-ième Élément d'une Liste 🟢\n:label: ex20\n\n**Tags:** `list`\n\nSupprimer le K-ième élément d'une liste.\n\nLe premier élément de la liste est numéroté 0, le deuxième 1,...\n\n```ocaml\n# remove_at 1 [\"a\"; \"b\"; \"c\"; \"d\"];;\n- : string list = [\"a\"; \"c\"; \"d\"]\n```\n:::",
      "metadata": {
        "tags": []
      }
    },
    {
      "id": "c25106ec-7ee0-49c6-897e-739b156d2b5a",
      "cell_type": "code",
      "source": "(* Votre réponse ici *)",
      "metadata": {
        "tags": []
      },
      "outputs": [],
      "execution_count": null
    },
    {
      "id": "0d58075d-f749-4196-b6ee-e43256cd58e9",
      "cell_type": "markdown",
      "source": ":::{solution} ex20\n:class: dropdown\n:label: sol20\n\n```ocaml\n# let rec remove_at n = function\n    | [] -> []\n    | h :: t -> if n = 0 then t else h :: remove_at (n - 1) t;;\nval remove_at : int -> 'a list -> 'a list = <fun>\n```\n:::",
      "metadata": {
        "tags": []
      }
    },
    {
      "id": "87097d91-e23f-4b75-9c19-490c54a3fd64",
      "cell_type": "markdown",
      "source": ":::{exercise} Insérer un Élément à une Position Donnée dans une Liste 🟢\n:label: ex21\n\n**Tags:** `list`\n\nCommencez à compter les éléments de la liste à partir de 0. Si la position est plus grande ou\négale à la longueur de la liste, insérez l'élément à la fin. (Le\ncomportement n'est pas spécifié si la position est négative.)\n\n```ocaml\n# insert_at \"alfa\" 1 [\"a\"; \"b\"; \"c\"; \"d\"];;\n- : string list = [\"a\"; \"alfa\"; \"b\"; \"c\"; \"d\"]\n```\n:::",
      "metadata": {
        "tags": []
      }
    },
    {
      "id": "c00f99ee-7ae6-4d59-8f46-8c1b5e299843",
      "cell_type": "code",
      "source": "(* Votre réponse ici *)",
      "metadata": {
        "tags": []
      },
      "outputs": [],
      "execution_count": null
    },
    {
      "id": "33dd7896-c764-498d-9c39-5f6b05727411",
      "cell_type": "markdown",
      "source": ":::{solution} ex21\n:class: dropdown\n:label: sol21\n\n```ocaml\n# let rec insert_at x n = function\n    | [] -> [x]\n    | h :: t as l -> if n = 0 then x :: l else h :: insert_at x (n - 1) t;;\nval insert_at : 'a -> int -> 'a list -> 'a list = <fun>\n```\n:::",
      "metadata": {
        "tags": []
      }
    },
    {
      "id": "5d85f154-5681-41f1-a54d-12d261ba8074",
      "cell_type": "markdown",
      "source": ":::{exercise} Créer une Liste Contenant Tous les Entiers dans un Intervalle Donné 🟢\n:label: ex22\n\n**Tags:** `list`\n\nSi le premier argument est plus grand que le second, produire une liste dans l'ordre\ndécroissant.\n\n```ocaml\n# range 4 9;;\n- : int list = [4; 5; 6; 7; 8; 9]\n```\n:::",
      "metadata": {
        "tags": []
      }
    },
    {
      "id": "7276dffe-745e-424b-923c-ea6192c1ad53",
      "cell_type": "code",
      "source": "(* Votre réponse ici *)",
      "metadata": {
        "tags": []
      },
      "outputs": [],
      "execution_count": null
    },
    {
      "id": "d4b20ea6-1aee-42d0-afd8-16d275847fcb",
      "cell_type": "markdown",
      "source": ":::{solution} ex22\n:class: dropdown\n:label: sol22\n\n```ocaml\n# let range a b =\n    let rec aux a b =\n      if a > b then [] else a :: aux (a + 1) b\n    in\n      if a > b then List.rev (aux b a) else aux a b;;\nval range : int -> int -> int list = <fun>\n```\n:::",
      "metadata": {
        "tags": []
      }
    },
    {
      "id": "48f3b170-56fc-4e86-aed2-f2943be8c7d2",
      "cell_type": "markdown",
      "source": ":::{exercise} Extraire un Nombre Donné d'Éléments Sélectionnés Aléatoirement d'une Liste 🟡\n:label: ex23\n\n**Tags:** `list`\n\nLes éléments sélectionnés doivent être retournés dans une liste. Nous utilisons le module `Random`\net l'initialisons avec `Random.init 0` au début de \nla fonction pour la reproductibilité et pour valider la solution. Pour rendre la fonction vraiment aléatoire, cependant,\nil faudrait supprimer l'appel à `Random.init 0`\n\n```ocaml\n# rand_select [\"a\"; \"b\"; \"c\"; \"d\"; \"e\"; \"f\"; \"g\"; \"h\"] 3;;\n- : string list = [\"e\"; \"c\"; \"g\"]\n```\n:::",
      "metadata": {
        "tags": []
      }
    },
    {
      "id": "667360aa-8d7f-4029-ada9-6ef64693292b",
      "cell_type": "code",
      "source": "(* Votre réponse ici *)",
      "metadata": {
        "tags": []
      },
      "outputs": [],
      "execution_count": null
    },
    {
      "id": "d95eb458-be15-4f3e-9d33-6f4a64a060f2",
      "cell_type": "markdown",
      "source": ":::{solution} ex23\n:class: dropdown\n:label: sol23\n\n```ocaml\n# let rand_select list n =\n    Random.init 0;\n    let rec extract acc n = function\n      | [] -> raise Not_found\n      | h :: t -> if n = 0 then (h, acc @ t) else extract (h :: acc) (n - 1) t\n    in\n    let extract_rand list len =\n      extract [] (Random.int len) list\n    in\n    let rec aux n acc list len =\n      if n = 0 then acc else\n        let picked, rest = extract_rand list len in\n        aux (n - 1) (picked :: acc) rest (len - 1)\n    in\n    let len = List.length list in\n      aux (min n len) [] list len;;\nval rand_select : 'a list -> int -> 'a list = <fun>\n```\n:::",
      "metadata": {
        "tags": []
      }
    },
    {
      "id": "e5481c55-ac66-4cce-be55-e637f905fcf2",
      "cell_type": "markdown",
      "source": ":::{exercise} Loto : Tirer N Nombres Aléatoires Différents de l'Ensemble 1..M 🟢\n:label: ex24\n\n**Tags:** `list`\n\nTirer N nombres aléatoires différents de l'ensemble `1..M`.\n\nLes nombres sélectionnés doivent être retournés dans une liste.\n\n```ocaml\n# lotto_select 6 49;;\n- : int list = [20; 28; 45; 16; 24; 38]\n```\n:::",
      "metadata": {
        "tags": []
      }
    },
    {
      "id": "adf719af-1911-4e23-b1e3-ca6446d85a9c",
      "cell_type": "code",
      "source": "(* Votre réponse ici *)",
      "metadata": {
        "tags": []
      },
      "outputs": [],
      "execution_count": null
    },
    {
      "id": "289ea1c2-73e8-43b5-a0de-536d5d4cb396",
      "cell_type": "markdown",
      "source": ":::{solution} ex24\n:class: dropdown\n:label: sol24\n\n```ocaml\n# (* [range] et [rand_select] sont définis dans les problèmes ci-dessus *)\n  let lotto_select n m = rand_select (range 1 m) n;;\nval lotto_select : int -> int -> int list = <fun>\n```\n:::",
      "metadata": {
        "tags": []
      }
    },
    {
      "id": "a364f673-62e0-497c-b2cc-950e11ba50b6",
      "cell_type": "markdown",
      "source": ":::{exercise} Générer une Permutation Aléatoire des Éléments d'une Liste 🟢\n:label: ex25\n\n**Tags:** `list`\n\nGénérer une permutation aléatoire des éléments d'une liste.\n\n```ocaml\n# permutation [\"a\"; \"b\"; \"c\"; \"d\"; \"e\"; \"f\"];;\n- : string list = [\"c\"; \"d\"; \"f\"; \"e\"; \"b\"; \"a\"]\n```\n:::",
      "metadata": {
        "tags": []
      }
    },
    {
      "id": "3b0e5967-f766-42ee-a6ae-28e2e6e4d470",
      "cell_type": "code",
      "source": "(* Votre réponse ici *)",
      "metadata": {
        "tags": []
      },
      "outputs": [],
      "execution_count": null
    },
    {
      "id": "00803e95-9791-4a20-ae3d-a20a689a9c3c",
      "cell_type": "markdown",
      "source": ":::{solution} ex25\n:class: dropdown\n:label: sol25\n\n```ocaml\n# let permutation list =\n    let rec extract acc n = function\n      | [] -> raise Not_found\n      | h :: t -> if n = 0 then (h, acc @ t) else extract (h :: acc) (n - 1) t\n    in\n    let extract_rand list len =\n      extract [] (Random.int len) list\n    in\n    let rec aux acc list len =\n      if len = 0 then acc else\n        let picked, rest = extract_rand list len in\n        aux (picked :: acc) rest (len - 1)\n    in\n    aux [] list (List.length list);;\nval permutation : 'a list -> 'a list = <fun>\n```\n:::",
      "metadata": {
        "tags": []
      }
    },
    {
      "id": "831fed25-064f-4e7f-8444-aab74edbb9d0",
      "cell_type": "markdown",
      "source": ":::{exercise} Générer les Combinaisons de K Objets Distincts Choisis Parmi les N Éléments d'une Liste 🟡\n:label: ex26\n\n**Tags:** `list`\n\nGénérer les combinaisons de K objets distincts choisis parmi les N éléments d'une liste.\n\nDe combien de manières peut-on choisir un comité de 3 personnes dans un groupe de 12\npersonnes ? Nous savons tous qu'il y a C(12,3) = 220 possibilités (C(N,K)\ndénote les coefficients binomiaux bien connus). Pour les mathématiciens purs,\nce résultat peut être formidable. Mais nous voulons vraiment générer toutes les\npossibilités dans une liste.\n\n```ocaml\n# extract 2 [\"a\"; \"b\"; \"c\"; \"d\"];;\n- : string list list =\n[[\"a\"; \"b\"]; [\"a\"; \"c\"]; [\"a\"; \"d\"]; [\"b\"; \"c\"]; [\"b\"; \"d\"]; [\"c\"; \"d\"]]\n```\n:::",
      "metadata": {
        "tags": []
      }
    },
    {
      "id": "f5517b95-2bfd-4d04-a2cb-a8d62f5831e4",
      "cell_type": "code",
      "source": "(* Votre réponse ici *)",
      "metadata": {
        "tags": []
      },
      "outputs": [],
      "execution_count": null
    },
    {
      "id": "2dc47425-d050-43b5-8295-6c07ce181890",
      "cell_type": "markdown",
      "source": ":::{solution} ex26\n:class: dropdown\n:label: sol26\n\n```ocaml\n# let rec extract k list =\n    if k <= 0 then [[]]\n    else match list with\n         | [] -> []\n         | h :: tl ->\n            let with_h = List.map (fun l -> h :: l) (extract (k - 1) tl) in\n            let without_h = extract k tl in\n            with_h @ without_h;;\nval extract : int -> 'a list -> 'a list list = <fun>\n```\n:::",
      "metadata": {
        "tags": []
      }
    },
    {
      "id": "38887ce4-812e-411f-9e57-eb511948ce2f",
      "cell_type": "markdown",
      "source": ":::{exercise} Grouper les Éléments d'un Ensemble en Sous-ensembles Disjoints 🟡\n:label: ex27\n\n**Tags:** `list`\n\nGrouper les éléments d'un ensemble en sous-ensembles disjoints\n\n1. De combien de manières un groupe de 9 personnes peut-il travailler en 3 sous-groupes disjoints\nde 2, 3 et 4 personnes ? Écrivez une fonction qui génère toutes les\npossibilités et les retourne dans une liste.\n2. Généralisez la fonction ci-dessus de manière à ce que l'on puisse spécifier une liste de\ntailles de groupe et que la fonction retourne une liste de groupes.\n\n```ocaml\n# group [\"a\"; \"b\"; \"c\"; \"d\"] [2; 1];;\n- : string list list list =\n[[[\"a\"; \"b\"]; [\"c\"]]; [[\"a\"; \"c\"]; [\"b\"]]; [[\"b\"; \"c\"]; [\"a\"]];\n [[\"a\"; \"b\"]; [\"d\"]]; [[\"a\"; \"c\"]; [\"d\"]]; [[\"b\"; \"c\"]; [\"d\"]];\n [[\"a\"; \"d\"]; [\"b\"]]; [[\"b\"; \"d\"]; [\"a\"]]; [[\"a\"; \"d\"]; [\"c\"]];\n [[\"b\"; \"d\"]; [\"c\"]]; [[\"c\"; \"d\"]; [\"a\"]]; [[\"c\"; \"d\"]; [\"b\"]]]\n```\n:::",
      "metadata": {
        "tags": []
      }
    },
    {
      "id": "3eb2e314-dae0-428d-8236-6bcd24bc1c8c",
      "cell_type": "code",
      "source": "(* Votre réponse ici *)",
      "metadata": {
        "tags": []
      },
      "outputs": [],
      "execution_count": null
    },
    {
      "id": "4fb2f724-64ef-4ee1-9507-fba5b2239bf6",
      "cell_type": "markdown",
      "source": ":::{solution} ex27\n:class: dropdown\n:label: sol27\n\n```ocaml\n# (* Cette implémentation est moins optimisée que la version avec une seule extraction\n  , car plus de travail est fait sur les listes après chaque\n  transformation pour ajouter les éléments réels. Le résultat final est plus propre\n  en termes de code, cependant. *)\n\n  let group list sizes =\n    let initial = List.map (fun size -> size, []) sizes in\n    (* Le cœur de la fonction. Prepend accepte une liste de groupes,\n        chacun avec le nombre d'éléments qui doivent être ajoutés, et\n        ajoute l'élément à chaque groupe qui peut le supporter, transformant ainsi\n        [1,a ; 2,b ; 0,c] en [ [0,x::a ; 2,b ; 0,c ];\n        [1,a ; 1,x::b ; 0,c]; [ 1,a ; 2,b ; 0,c ]]\n\n        Encore une fois, dans le langage Prolog (pour lequel ces questions sont\n        initialement prévues), cette fonction est beaucoup plus simple.  *)\n  let prepend p list =\n    let emit l acc = l :: acc in\n    let rec aux emit acc = function\n      | [] -> emit [] acc\n      | (n, l) as h :: t ->\n         let acc = if n > 0 then emit ((n - 1, p :: l) :: t) acc\n                   else acc in\n         aux (fun l acc -> emit (h :: l) acc) acc t\n    in\n    aux emit [] list\n  in\n  let rec aux = function\n    | [] -> [initial]\n    | h :: t -> List.concat_map (prepend h) (aux t)\n  in\n  let all = aux list in\n  (* N'oubliez pas d'éliminer tous les ensembles de groupes qui ont des groupes\n     non complets *)\n  let complete = List.filter (List.for_all (fun (x, _) -> x = 0)) all in\n    List.map (List.map snd) complete;;\nval group : 'a list -> int list -> 'a list list list = <fun>\n```\n:::",
      "metadata": {
        "tags": []
      }
    },
    {
      "id": "1e2d2034-bff3-4318-ae70-96056b57232d",
      "cell_type": "markdown",
      "source": ":::{exercise} Trier une Liste de Listes selon la Longueur des Sous-listes 🟡\n:label: ex28\n\n**Tags:** `list`\n\nTrier une liste de listes selon la longueur des sous-listes.\n\n1. Nous supposons qu'une liste contient des éléments qui sont eux-mêmes des listes.\nL'objectif est de trier les éléments de cette liste en fonction de leur\nlongueur. Par exemple, les listes courtes d'abord, les listes plus longues ensuite, ou vice versa.\n\n2. Encore une fois, nous supposons qu'une liste contient des éléments qui sont eux-mêmes des listes.\nMais cette fois, l'objectif est de trier les éléments de cette\nliste en fonction de leur **fréquence de longueur** ; c'est-à-dire, par défaut,\noù le tri est croissant, les listes avec des longueurs rares sont placées\nen premier, les autres avec une longueur plus fréquente viennent après.\n\n```ocaml\n# length_sort [[\"a\"; \"b\"; \"c\"]; [\"d\"; \"e\"]; [\"f\"; \"g\"; \"h\"]; [\"d\"; \"e\"];\n             [\"i\"; \"j\"; \"k\"; \"l\"]; [\"m\"; \"n\"]; [\"o\"]];;\n- : string list list =\n[[\"o\"]; [\"d\"; \"e\"]; [\"d\"; \"e\"]; [\"m\"; \"n\"]; [\"a\"; \"b\"; \"c\"]; [\"f\"; \"g\"; \"h\"];\n [\"i\"; \"j\"; \"k\"; \"l\"]]\n# frequency_sort [[\"a\"; \"b\"; \"c\"]; [\"d\"; \"e\"]; [\"f\"; \"g\"; \"h\"]; [\"d\"; \"e\"];\n                [\"i\"; \"j\"; \"k\"; \"l\"]; [\"m\"; \"n\"]; [\"o\"]];;\n- : string list list =\n[[\"i\"; \"j\"; \"k\"; \"l\"]; [\"o\"]; [\"a\"; \"b\"; \"c\"]; [\"f\"; \"g\"; \"h\"]; [\"d\"; \"e\"];\n [\"d\"; \"e\"]; [\"m\"; \"n\"]]\n```\n:::",
      "metadata": {
        "tags": []
      }
    },
    {
      "id": "2ad305a2-4c73-440b-9614-6f968fb9cde4",
      "cell_type": "code",
      "source": "(* Votre réponse ici *)",
      "metadata": {
        "tags": []
      },
      "outputs": [],
      "execution_count": null
    },
    {
      "id": "580461d0-0e4d-4b10-b737-ea8e66e65d2c",
      "cell_type": "markdown",
      "source": ":::{solution} ex28\n:class: dropdown\n:label: sol28\n\n```ocaml\n(* Il se peut que nous ne soyons pas autorisés à utiliser la fonction intégrée List.sort, voici donc une\n   implémentation en huit lignes du tri par insertion — complexité temporelle O(n²). *)\nlet rec insert cmp e = function\n  | [] -> [e]\n  | h :: t as l -> if cmp e h <= 0 then e :: l else h :: insert cmp e t\n\nlet rec sort cmp = function\n  | [] -> []\n  | h :: t -> insert cmp h (sort cmp t)\n\n(* Tri selon la longueur : ajouter la longueur en préfixe, trier, supprimer la longueur *)\nlet length_sort lists =\n  let lists = List.map (fun list -> List.length list, list) lists in\n  let lists = sort (fun a b -> compare (fst a) (fst b)) lists in\n  List.map snd lists\n;;\n\n(* Tri selon la fréquence de longueur : ajouter la fréquence en préfixe, trier,\n   supprimer la fréquence. Les fréquences sont extraites en triant les longueurs\n   et en appliquant le RLE pour compter les occurrences de chaque longueur (voir le problème\n   \"Encodage par plages d'une liste.\") *)\nlet rle list =\n  let rec aux count acc = function\n    | [] -> [] (* Ne peut être atteint que si la liste originale est vide *)\n    | [x] -> (x, count + 1) :: acc\n    | a :: (b :: _ as t) ->\n       if a = b then aux (count + 1) acc t\n       else aux 0 ((a, count + 1) :: acc) t in\n  aux 0 [] list\n\nlet frequency_sort lists =\n  let lengths = List.map List.length lists in\n  let freq = rle (sort compare lengths) in\n  let by_freq =\n    List.map (fun list -> List.assoc (List.length list) freq , list) lists in\n  let sorted = sort (fun a b -> compare (fst a) (fst b)) by_freq in\n  List.map snd sorted\n```\n:::",
      "metadata": {
        "tags": []
      }
    },
    {
      "id": "3a9e91b3-7e81-4be9-9131-98f17cab9380",
      "cell_type": "markdown",
      "source": ":::{exercise} Déterminer si un Nombre Entier Donné est Premier 🟡\n:label: ex29\n\n**Tags:** `arithmetic`\n\nDéterminer si un nombre entier donné est premier.\n\n```ocaml\n# not (is_prime 1);;\n- : bool = true\n# is_prime 7;;\n- : bool = true\n# not (is_prime 12);;\n- : bool = true\n```\n:::",
      "metadata": {
        "tags": []
      }
    },
    {
      "id": "833408c9-8a65-4dd6-b92d-6d1a32be5ac8",
      "cell_type": "code",
      "source": "(* Votre réponse ici *)",
      "metadata": {
        "tags": []
      },
      "outputs": [],
      "execution_count": null
    },
    {
      "id": "b815c0da-b870-4c90-8226-be89f48df5d1",
      "cell_type": "markdown",
      "source": ":::{solution} ex29\n:class: dropdown\n:label: sol29\n\n```ocaml\n# let is_prime n =\n    let n = abs n in\n    let rec is_not_divisor d =\n      d * d > n || (n mod d <> 0 && is_not_divisor (d + 1)) in\n    n > 1 && is_not_divisor 2;;\nval is_prime : int -> bool = <fun>\n```\n:::",
      "metadata": {
        "tags": []
      }
    },
    {
      "id": "567a451f-d855-47c3-8d53-cbcc633852c1",
      "cell_type": "markdown",
      "source": ":::{exercise} Déterminer le Plus Grand Commun Diviseur de Deux Nombres Entiers Positifs 🟡\n:label: ex30\n\n**Tags:** `arithmetic`\n\nDéterminer le plus grand commun diviseur de deux nombres entiers positifs.\n\nUtilisez l'algorithme d'Euclide.\n\n```ocaml\n# gcd 13 27;;\n- : int = 1\n# gcd 20536 7826;;\n- : int = 2\n```\n:::",
      "metadata": {
        "tags": []
      }
    },
    {
      "id": "a4773371-069b-4be5-930b-6cc8f376470a",
      "cell_type": "code",
      "source": "(* Votre réponse ici *)",
      "metadata": {
        "tags": []
      },
      "outputs": [],
      "execution_count": null
    },
    {
      "id": "d413994b-a581-4b90-b9b2-2e20abdcc526",
      "cell_type": "markdown",
      "source": ":::{solution} ex30\n:class: dropdown\n:label: sol30\n\n```ocaml\n# let rec gcd a b =\n    if b = 0 then a else gcd b (a mod b);;\nval gcd : int -> int -> int = <fun>\n```\n:::",
      "metadata": {
        "tags": []
      }
    },
    {
      "id": "9e747075-fb8e-43fd-b29f-bdb7395f430f",
      "cell_type": "markdown",
      "source": ":::{exercise} Déterminer si Deux Nombres Entiers Positifs sont Premiers Entre Eux 🟢\n:label: ex31\n\n**Tags:** `arithmetic`\n\nDéterminer si deux nombres entiers positifs sont premiers entre eux.\n\nDeux nombres sont premiers entre eux si leur plus grand commun diviseur est égal à 1.\n\n```ocaml\n# coprime 13 27;;\n- : bool = true\n# not (coprime 20536 7826);;\n- : bool = true\n```\n:::",
      "metadata": {
        "tags": []
      }
    },
    {
      "id": "bf912a2f-07ba-4f94-9f65-f0d001bb011e",
      "cell_type": "code",
      "source": "(* Votre réponse ici *)",
      "metadata": {
        "tags": []
      },
      "outputs": [],
      "execution_count": null
    },
    {
      "id": "b1533d68-2283-4f1f-880f-86bd8839374a",
      "cell_type": "markdown",
      "source": ":::{solution} ex31\n:class: dropdown\n:label: sol31\n\n```ocaml\n# (* [gcd] est défini dans la question précédente *)\n  let coprime a b = gcd a b = 1;;\nval coprime : int -> int -> bool = <fun>\n```\n:::",
      "metadata": {
        "tags": []
      }
    },
    {
      "id": "24d938a1-8cbd-46e4-a0be-6ae12a0dc2fd",
      "cell_type": "markdown",
      "source": ":::{exercise} Calculer l'Indicatrice d'Euler Φ(m) 🟡\n:label: ex32\n\n**Tags:** `arithmetic`\n\nL'indicatrice d'Euler, aussi appelée fonction totient φ(m), est définie comme le nombre d'entiers\npositifs r (1 ≤ r < m) qui sont premiers avec m. On pose φ(1) = 1.\n\nTrouvez la valeur de φ(m) si m est un nombre premier. L'indicatrice\nd'Euler joue un rôle important dans l'une des méthodes de cryptographie à clé\npublique les plus utilisées (RSA). Dans cet exercice, vous devez utiliser\nla méthode la plus primitive pour calculer cette fonction (il existe des\nfaçons plus intelligentes que nous aborderons plus tard).\n\n```ocaml\n# phi 10;;\n- : int = 4\n```\n:::",
      "metadata": {
        "tags": []
      }
    },
    {
      "id": "c7b71a53-6d2f-4b6a-9e96-889eac80cf09",
      "cell_type": "code",
      "source": "(* Votre réponse ici *)",
      "metadata": {
        "tags": []
      },
      "outputs": [],
      "execution_count": null
    },
    {
      "id": "b97505af-a073-4f42-a8ad-bc42cc213ed6",
      "cell_type": "markdown",
      "source": ":::{solution} ex32\n:class: dropdown\n:label: sol32\n\n```ocaml\n# (* [coprime] est défini dans la question précédente *)\n  let phi n =\n    let rec count_coprime acc d =\n      if d < n then\n        count_coprime (if coprime n d then acc + 1 else acc) (d + 1)\n      else acc\n    in\n      if n = 1 then 1 else count_coprime 0 1;;\nval phi : int -> int = <fun>\n```\n:::",
      "metadata": {
        "tags": []
      }
    },
    {
      "id": "1ad5a462-50e6-4de2-8e2d-63399f2178ac",
      "cell_type": "markdown",
      "source": ":::{exercise} Déterminer les Facteurs Premiers d'un Entier Positif Donné 🟡\n:label: ex33\n\n**Tags:** `arithmetic`\n\nConstruire une liste plate contenant les facteurs premiers par ordre croissant.\n\n\n```ocaml\n# factors 315;;\n- : int list = [3; 3; 5; 7]\n```\n:::",
      "metadata": {
        "tags": []
      }
    },
    {
      "id": "5632e450-0032-4401-95c4-8658f52f65a3",
      "cell_type": "code",
      "source": "(* Votre réponse ici *)",
      "metadata": {
        "tags": []
      },
      "outputs": [],
      "execution_count": null
    },
    {
      "id": "8b73eec8-b330-4cff-b37d-f1c0d70f4ee8",
      "cell_type": "markdown",
      "source": ":::{solution} ex33\n:class: dropdown\n:label: sol33\n\n```ocaml\n# (* Rappelons que d divise n si et seulement si [n mod d = 0] *)\n  let factors n =\n    let rec aux d n =\n      if n = 1 then [] else\n        if n mod d = 0 then d :: aux d (n / d) else aux (d + 1) n\n    in\n      aux 2 n;;\nval factors : int -> int list = <fun>\n```\n:::",
      "metadata": {
        "tags": []
      }
    },
    {
      "id": "092c442f-d4e7-436a-9b42-ed14b2a63838",
      "cell_type": "markdown",
      "source": ":::{exercise} Déterminer les Facteurs Premiers d'un Entier Positif Donné (2) 🟡\n:label: ex34\n\n**Tags:** `arithmetic`\n\nConstruire une liste contenant les facteurs premiers et leur multiplicité.\n\n**Indice :** Le problème est similaire au problème\n[Encodage par plages d'une liste (solution directe)](#10).\n\n```ocaml\n# factors 315;;\n- : (int * int) list = [(3, 2); (5, 1); (7, 1)]\n```\n:::",
      "metadata": {
        "tags": []
      }
    },
    {
      "id": "d43939bc-1d9d-4796-b7e1-73642a8decfb",
      "cell_type": "code",
      "source": "(* Votre réponse ici *)",
      "metadata": {
        "tags": []
      },
      "outputs": [],
      "execution_count": null
    },
    {
      "id": "7332fe57-f384-447d-b3a4-a493fa5f524f",
      "cell_type": "markdown",
      "source": ":::{solution} ex34\n:class: dropdown\n:label: sol34\n\n```ocaml\n# let factors n =\n    let rec aux d n =\n      if n = 1 then [] else\n        if n mod d = 0 then\n          match aux d (n / d) with\n          | (h, n) :: t when h = d -> (h, n + 1) :: t\n          | l -> (d, 1) :: l\n        else aux (d + 1) n\n    in\n      aux 2 n;;\nval factors : int -> (int * int) list = <fun>\n```\n:::",
      "metadata": {
        "tags": []
      }
    },
    {
      "id": "eceb9c45-33e5-4211-bbaf-68502f01261b",
      "cell_type": "markdown",
      "source": ":::{exercise} Calculer l'Indicatrice d'Euler Φ(m) (Amélioré) 🟡\n:label: ex35\n\n**Tags:** `arithmetic`\n\nVoir le problème \"[Calculer l'indicatrice d'Euler φ(m)](#34)\" pour\nla définition de l'indicatrice d'Euler. Si la liste des facteurs\npremiers d'un nombre m est connue sous la forme du problème précédent, alors\nla fonction phi(m) peut être calculée efficacement comme suit : Soit\n`[(p1, m1); (p2, m2); (p3, m3); ...]` la liste des facteurs premiers\n(et leurs multiplicités) d'un nombre m donné. Alors φ(m) peut être\ncalculé avec la formule suivante :\n\nφ(m) = (p1 - 1) × p1<sup>m1 - 1</sup> × (p2 - 1) ×\np2<sup>m2 - 1</sup> × (p3 - 1) × p3<sup>m3 - 1</sup> × ⋯\n\n```ocaml\n# phi_improved 10;;\n- : int = 4\n# phi_improved 13;;\n- : int = 12\n```\n:::",
      "metadata": {
        "tags": []
      }
    },
    {
      "id": "6cc93884-18b1-4150-9b62-969f4ab9b017",
      "cell_type": "code",
      "source": "(* Votre réponse ici *)",
      "metadata": {
        "tags": []
      },
      "outputs": [],
      "execution_count": null
    },
    {
      "id": "7e10f3e0-3513-48ac-8f11-26d9cd99483f",
      "cell_type": "markdown",
      "source": ":::{solution} ex35\n:class: dropdown\n:label: sol35\n\n```ocaml\n(* Fonction puissance naïve. *)\nlet rec pow n p = if p < 1 then 1 else n * pow n (p - 1)\n\n(* [factors] est défini dans la question précédente. *)\nlet phi_improved n =\n  let rec aux acc = function\n    | [] -> acc\n    | (p, m) :: t -> aux ((p - 1) * pow p (m - 1) * acc) t\n  in\n    aux 1 (factors n)\n```\n:::",
      "metadata": {
        "tags": []
      }
    },
    {
      "id": "ec2aec64-ceb9-4f09-8015-068daeda3613",
      "cell_type": "markdown",
      "source": ":::{exercise} Comparer les Deux Méthodes de Calcul de l'Indicatrice d'Euler 🟢\n:label: ex36\n\n**Tags:** `arithmetic`\n\nUtilisez les solutions des problèmes \n\"[Calculer l'indicatrice d'Euler φ(m)](#34)\" et\n\"[Calculer l'indicatrice d'Euler φ(m) (amélioré)](#37)\"\npour comparer les algorithmes. Prenez le nombre d'inférences logiques comme mesure d'efficacité. Essayez de calculer φ(10090) comme exemple.\n\n```ocaml\ntimeit phi 10090\n```\n:::",
      "metadata": {
        "tags": []
      }
    },
    {
      "id": "cc85548e-cb1a-47c5-baab-ea5ead18cdd1",
      "cell_type": "code",
      "source": "(* Votre réponse ici *)",
      "metadata": {
        "tags": []
      },
      "outputs": [],
      "execution_count": null
    },
    {
      "id": "58462317-b83c-4c6a-9759-fb5abbf6136a",
      "cell_type": "markdown",
      "source": ":::{solution} ex36\n:class: dropdown\n:label: sol36\n\n```ocaml\n# (* Fonction [timeit] naïve. Elle nécessite le chargement du module [Unix]. *)\n  let timeit f a =\n    let t0 = Unix.gettimeofday() in\n      ignore (f a);\n    let t1 = Unix.gettimeofday() in\n      t1 -. t0;;\nval timeit : ('a -> 'b) -> 'a -> float = <fun>\n```\n:::",
      "metadata": {
        "tags": []
      }
    },
    {
      "id": "9d4c092a-9281-48af-b634-cbe3715268e3",
      "cell_type": "markdown",
      "source": ":::{exercise} Une Liste de Nombres Premiers 🟢\n:label: ex37\n\n**Tags:** `arithmetic`\n\nÉtant donné un intervalle d'entiers par sa limite inférieure et supérieure, construire une liste\nde tous les nombres premiers dans cet intervalle.\n\n```ocaml\n# List.length (all_primes 2 7920);;\n- : int = 1000\n```\n:::",
      "metadata": {
        "tags": []
      }
    },
    {
      "id": "6e012504-6250-44e4-83c5-5fee729170dd",
      "cell_type": "code",
      "source": "(* Votre réponse ici *)",
      "metadata": {
        "tags": []
      },
      "outputs": [],
      "execution_count": null
    },
    {
      "id": "ede06231-4c16-4b2d-8916-6c70e21eb37d",
      "cell_type": "markdown",
      "source": ":::{solution} ex37\n:class: dropdown\n:label: sol37\n\n```ocaml\n# let is_prime n =\n    let n = max n (-n) in\n    let rec is_not_divisor d =\n      d * d > n || (n mod d <> 0 && is_not_divisor (d + 1))\n    in\n      is_not_divisor 2\n\n  let rec all_primes a b =\n    if a > b then [] else\n      let rest = all_primes (a + 1) b in\n      if is_prime a then a :: rest else rest;;\nval is_prime : int -> bool = <fun>\nval all_primes : int -> int -> int list = <fun>\n```\n:::",
      "metadata": {
        "tags": []
      }
    },
    {
      "id": "bd658962-8c34-4202-8d2a-69aafab1c2f3",
      "cell_type": "markdown",
      "source": ":::{exercise} Conjecture de Goldbach 🟡\n:label: ex38\n\n**Tags:** `arithmetic`\n\nLa conjecture de Goldbach dit que tout nombre pair positif supérieur à\n2 est la somme de deux nombres premiers. Exemple : 28 = 5 + 23. C'est l'un\ndes faits les plus célèbres de la théorie des nombres qui n'a pas été prouvé\ncorrect dans le cas général. Il a été *confirmé numériquement* jusqu'à de\ntrès grands nombres. Écrivez une fonction pour trouver les deux nombres premiers qui\ns'additionnent pour donner un entier pair donné.\n\n```ocaml\n# goldbach 28;;\n- : int * int = (5, 23)\n```\n:::",
      "metadata": {
        "tags": []
      }
    },
    {
      "id": "cd0071b5-607d-40f8-b9c5-d88bdcce4e01",
      "cell_type": "code",
      "source": "(* Votre réponse ici *)",
      "metadata": {
        "tags": []
      },
      "outputs": [],
      "execution_count": null
    },
    {
      "id": "5926d5b3-2e15-4b5a-9955-d488a6d19392",
      "cell_type": "markdown",
      "source": ":::{solution} ex38\n:class: dropdown\n:label: sol38\n\n```ocaml\n# (* [is_prime] est défini dans la solution précédente *)\n  let goldbach n =\n    let rec aux d =\n      if is_prime d && is_prime (n - d) then (d, n - d)\n      else aux (d + 1)\n    in\n      aux 2;;\nval goldbach : int -> int * int = <fun>\n```\n:::",
      "metadata": {
        "tags": []
      }
    },
    {
      "id": "34a980c6-020b-475a-86d1-515021ccd3f0",
      "cell_type": "markdown",
      "source": ":::{exercise} Une Liste de Compositions de Goldbach 🟡\n:label: ex39\n\n**Tags:** `arithmetic`\n\nÉtant donné un intervalle d'entiers par sa limite inférieure et supérieure, imprimer une liste\nde tous les nombres pairs et leur composition de Goldbach.\n\nDans la plupart des cas, si un nombre pair est écrit comme la somme de deux nombres\npremiers, l'un d'eux est très petit. Très rarement, les nombres premiers sont tous les deux\nplus grands que, disons, 50. Essayez de trouver combien de cas de ce type il y a dans\nl'intervalle 2..3000.\n\n```ocaml\n# goldbach_list 9 20;;\n- : (int * (int * int)) list =\n[(10, (3, 7)); (12, (5, 7)); (14, (3, 11)); (16, (3, 13)); (18, (5, 13));\n (20, (3, 17))]\n```\n:::",
      "metadata": {
        "tags": []
      }
    },
    {
      "id": "19d5480b-4d61-49da-9514-16088a69ca1c",
      "cell_type": "code",
      "source": "(* Votre réponse ici *)",
      "metadata": {
        "tags": []
      },
      "outputs": [],
      "execution_count": null
    },
    {
      "id": "133659ff-8c3c-4b77-9b7f-bdf4edcf58a5",
      "cell_type": "markdown",
      "source": ":::{solution} ex39\n:class: dropdown\n:label: sol39\n\n```ocaml\n# (* [goldbach] est défini dans la question précédente. *)\n  let rec goldbach_list a b =\n    if a > b then [] else\n      if a mod 2 = 1 then goldbach_list (a + 1) b\n      else (a, goldbach a) :: goldbach_list (a + 2) b\n\n  let goldbach_limit a b lim =\n    List.filter (fun (_, (a, b)) -> a > lim && b > lim) (goldbach_list a b);;\nval goldbach_list : int -> int -> (int * (int * int)) list = <fun>\nval goldbach_limit : int -> int -> int -> (int * (int * int)) list = <fun>\n```\n:::",
      "metadata": {
        "tags": []
      }
    },
    {
      "id": "aab38c2e-a525-468d-922e-3daedc96c7e9",
      "cell_type": "markdown",
      "source": ":::{exercise} Tables de Vérité pour les Expressions Logiques (2 Variables) 🟡\n:label: ex40\n\n**Tags:** `logic`\n\nDéfinissons un petit \"langage\" pour les expressions booléennes contenant\ndes variables :\n\n```ocaml\n# type bool_expr =\n  | Var of string\n  | Not of bool_expr\n  | And of bool_expr * bool_expr\n  | Or of bool_expr * bool_expr;;\ntype bool_expr =\n    Var of string\n  | Not of bool_expr\n  | And of bool_expr * bool_expr\n  | Or of bool_expr * bool_expr\n```\n\nUne expression logique à deux variables peut alors être écrite en notation\npréfixe. Par exemple, `(a ∨ b) ∧ (a ∧ b)` s'écrit :\n\n```ocaml\n# And (Or (Var \"a\", Var \"b\"), And (Var \"a\", Var \"b\"));;\n- : bool_expr = And (Or (Var \"a\", Var \"b\"), And (Var \"a\", Var \"b\"))\n```\n\nDéfinissez une fonction, `table2` qui retourne la table de vérité d'une expression\nlogique donnée à deux variables (spécifiées en arguments). La valeur de\nretour doit être une liste de triplets contenant\n`(valeur_de_a, valeur_de_b, valeur_de_expr)`.\n\n```ocaml\n# table2 \"a\" \"b\" (And (Var \"a\", Or (Var \"a\", Var \"b\")));;\n- : (bool * bool * bool) list =\n[(true, true, true); (true, false, true); (false, true, false);\n (false, false, false)]\n```\n:::",
      "metadata": {
        "tags": []
      }
    },
    {
      "id": "bd02d7ab-412f-46de-af03-ad6aef925d66",
      "cell_type": "code",
      "source": "(* Votre réponse ici *)",
      "metadata": {
        "tags": []
      },
      "outputs": [],
      "execution_count": null
    },
    {
      "id": "86f9aba6-d98e-425d-ade5-34485b50a178",
      "cell_type": "markdown",
      "source": ":::{solution} ex40\n:class: dropdown\n:label: sol40\n\n```ocaml\n# let rec eval2 a val_a b val_b = function\n    | Var x -> if x = a then val_a\n               else if x = b then val_b\n               else failwith \"L'expression contient une variable invalide\"\n    | Not e -> not (eval2 a val_a b val_b e)\n    | And(e1, e2) -> eval2 a val_a b val_b e1 && eval2 a val_a b val_b e2\n    | Or(e1, e2) -> eval2 a val_a b val_b e1 || eval2 a val_a b val_b e2\n  let table2 a b expr =\n    [(true,  true,  eval2 a true  b true  expr);\n     (true,  false, eval2 a true  b false expr);\n     (false, true,  eval2 a false b true  expr);\n     (false, false, eval2 a false b false expr)];;\nval eval2 : string -> bool -> string -> bool -> bool_expr -> bool = <fun>\nval table2 : string -> string -> bool_expr -> (bool * bool * bool) list =\n  <fun>\n```\n:::",
      "metadata": {
        "tags": []
      }
    },
    {
      "id": "e04a1470-ce9a-4438-9b2e-e25dc228beab",
      "cell_type": "markdown",
      "source": ":::{exercise} Tables de Vérité pour les Expressions Logiques 🟡\n:label: ex41\n\n**Tags:** `logic`\n\nGénéralisez le problème précédent de telle manière que l'expression\nlogique puisse contenir n'importe quel nombre de variables logiques. Définissez `table`\nde manière à ce que `table variables expr` retourne la table de vérité pour\nl'expression `expr`, qui contient les variables logiques énumérées dans\n`variables`.\n\n```ocaml\n# table [\"a\"; \"b\"] (And (Var \"a\", Or (Var \"a\", Var \"b\")));;\n- : ((string * bool) list * bool) list =\n[([(\"a\", true); (\"b\", true)], true); ([(\"a\", true); (\"b\", false)], true);\n ([(\"a\", false); (\"b\", true)], false); ([(\"a\", false); (\"b\", false)], false)]\n```\n:::",
      "metadata": {
        "tags": []
      }
    },
    {
      "id": "95a483de-3774-4705-afc7-dd2fba215161",
      "cell_type": "code",
      "source": "(* Votre réponse ici *)",
      "metadata": {
        "tags": []
      },
      "outputs": [],
      "execution_count": null
    },
    {
      "id": "10ae112e-6ef2-443d-aab4-63086ef42028",
      "cell_type": "markdown",
      "source": ":::{solution} ex41\n:class: dropdown\n:label: sol41\n\n```ocaml\n# (* [val_vars] est une liste associative contenant la valeur de vérité de\n     chaque variable. Pour l'efficacité, un Map ou un Hashtbl devrait être\n     préféré. *)\n\n  let rec eval val_vars = function\n    | Var x -> List.assoc x val_vars\n    | Not e -> not (eval val_vars e)\n    | And(e1, e2) -> eval val_vars e1 && eval val_vars e2\n    | Or(e1, e2) -> eval val_vars e1 || eval val_vars e2\n\n  (* Encore une fois, c'est une implémentation facile et courte plutôt qu'une\n     implémentation efficace. *)\n  let rec table_make val_vars vars expr =\n    match vars with\n    | [] -> [(List.rev val_vars, eval val_vars expr)]\n    | v :: tl ->\n         table_make ((v, true) :: val_vars) tl expr\n       @ table_make ((v, false) :: val_vars) tl expr\n\n  let table vars expr = table_make [] vars expr;;\nval eval : (string * bool) list -> bool_expr -> bool = <fun>\nval table_make :\n  (string * bool) list ->\n  string list -> bool_expr -> ((string * bool) list * bool) list = <fun>\nval table : string list -> bool_expr -> ((string * bool) list * bool) list =\n  <fun>\n```\n:::",
      "metadata": {
        "tags": []
      }
    },
    {
      "id": "21d2c1e6-ddf4-45eb-ae6a-a4bfa19ca465",
      "cell_type": "markdown",
      "source": ":::{exercise} Code de Gray 🟡\n:label: ex42\n\n**Tags:** `logic`\n\nUn code de Gray à n bits est une séquence de chaînes de n bits construite selon\ncertaines règles. Par exemple,\n\n```text\nn = 1: C(1) = ['0', '1'].\nn = 2: C(2) = ['00', '01', '11', '10'].\nn = 3: C(3) = ['000', '001', '011', '010', '110', '111', '101', '100'].\n```\nTrouvez les règles de construction et écrivez une fonction avec la\nspécification suivante : `gray n` retourne le code de Gray à `n` bits.\n\n```ocaml\n# gray 1;;\n- : string list = [\"0\"; \"1\"]\n# gray 2;;\n- : string list = [\"00\"; \"01\"; \"11\"; \"10\"]\n# gray 3;;\n- : string list = [\"000\"; \"001\"; \"011\"; \"010\"; \"110\"; \"111\"; \"101\"; \"100\"]\n```\n:::",
      "metadata": {
        "tags": []
      }
    },
    {
      "id": "1c82052b-1060-4589-8ce1-4bd7bb2ae0e7",
      "cell_type": "code",
      "source": "(* Votre réponse ici *)",
      "metadata": {
        "tags": []
      },
      "outputs": [],
      "execution_count": null
    },
    {
      "id": "704f714c-d891-4762-8c3e-49b0cfde03be",
      "cell_type": "markdown",
      "source": ":::{solution} ex42\n:class: dropdown\n:label: sol42\n\n```ocaml\n# let gray n =\n    let rec gray_next_level k l =\n      if k < n then\n        (* C'est la partie centrale de la construction du code de Gray.\n         * first_half est inversée et a un \"0\" attaché à chaque élément.\n         * La deuxième partie est inversée (elle doit être inversée pour un code de Gray correct).\n         * Chaque élément a un \"1\" attaché à l'avant.*)\n        let (first_half,second_half) =\n          List.fold_left (fun (acc1,acc2) x ->\n              ((\"0\" ^ x) :: acc1, (\"1\" ^ x) :: acc2)) ([], []) l\n        in\n        (* List.rev_append retourne first_half et l'attache à second_half.\n         * Le résultat est la première moitié modifiée dans le bon ordre attachée à\n         * la deuxième moitié modifiée dans l'ordre inversé.*)\n        gray_next_level (k + 1) (List.rev_append first_half second_half)\n      else l\n    in\n      gray_next_level 1 [\"0\"; \"1\"];;\nval gray : int -> string list = <fun>\n```\n:::",
      "metadata": {
        "tags": []
      }
    },
    {
      "id": "88198787-83fc-47d8-8582-c94332eb24ca",
      "cell_type": "markdown",
      "source": ":::{exercise} Code de Huffman 🔴\n:label: ex43\n\n**Tags:** `logic`\n\nTout d'abord, consultez un bon livre sur les mathématiques discrètes ou les algorithmes\npour une description détaillée des codes de Huffman (vous pouvez commencer par la\n[page Wikipedia](https://fr.wikipedia.org/wiki/Codage_de_Huffman)) !\n\nNous considérons un ensemble de symboles avec leurs fréquences.\nPar exemple, si l'alphabet est `\"a\"`,..., `\"f\"`\n(représenté par les positions 0,...5) et que les\nfréquences respectives sont 45, 13, 12, 16, 9, 5 :\n\n```ocaml\n# let fs = [(\"a\", 45); (\"b\", 13); (\"c\", 12); (\"d\", 16);\n          (\"e\", 9); (\"f\", 5)];;\nval fs : (string * int) list =\n  [(\"a\", 45); (\"b\", 13); (\"c\", 12); (\"d\", 16); (\"e\", 9); (\"f\", 5)]\n```\n\nNotre objectif est de construire le\nmot de code de Huffman `c` pour tous les symboles `s`. Dans notre exemple, le résultat pourrait\nêtre\n`hs = [(\"a\", \"0\"); (\"b\", \"101\"); (\"c\", \"100\"); (\"d\", \"111\");\n(\"e\", \"1101\"); (\"f\", \"1100\")]`\n(ou `hs = [(\"a\", \"1\");...]`). La tâche doit être effectuée par la fonction\n`huffman` définie comme suit : `huffman(fs)` retourne la table de code\nde Huffman pour la table de fréquence `fs`\n\n```ocaml\n# huffman fs;;\n- : (string * string) list =\n[(\"a\", \"0\"); (\"c\", \"100\"); (\"b\", \"101\"); (\"f\", \"1100\"); (\"e\", \"1101\");\n (\"d\", \"111\")]\n```\n:::",
      "metadata": {
        "tags": []
      }
    },
    {
      "id": "0009a669-b875-4b4a-8d3b-715202905c44",
      "cell_type": "code",
      "source": "(* Votre réponse ici *)",
      "metadata": {
        "tags": []
      },
      "outputs": [],
      "execution_count": null
    },
    {
      "id": "26c5bf8b-7838-4260-8cb1-a69daf2f4730",
      "cell_type": "markdown",
      "source": ":::{solution} ex43\n:class: dropdown\n:label: sol43\n\n```ocaml\n# (* File de priorité simple où les priorités sont des entiers de 0 à 100.\n     Le nœud avec la probabilité la plus faible vient en premier. *)\n  module Pq = struct\n    type 'a t = {data: 'a list array; mutable first: int}\n    let make() = {data = Array.make 101 []; first = 101}\n        let add q p x =\n      q.data.(p) <- x :: q.data.(p);  q.first <- min p q.first\n          let get_min q =\n      if q.first = 101 then None else\n        match q.data.(q.first) with\n        | [] -> assert false\n        | x :: tl ->\n           let p = q.first in\n           q.data.(q.first) <- tl;\n           while q.first < 101 && q.data.(q.first) = [] do\n             q.first <- q.first + 1\n           done;\n           Some(p, x)\n  end\n    type tree =\n    | Leaf of string\n    | Node of tree * tree\n      let rec huffman_tree q =\n    match Pq.get_min q, Pq.get_min q with\n    | Some(p1, t1), Some(p2, t2) -> Pq.add q (p1 + p2) (Node(t1, t2));\n                                    huffman_tree q\n    | Some(_, t), None | None, Some(_, t) -> t\n    | None, None -> assert false\n      (* Construire le code binaire sans préfixe à partir de l'arbre *)\n  let rec prefixes_of_tree prefix = function\n    | Leaf s -> [(s, prefix)]\n    | Node(t0, t1) ->  prefixes_of_tree (prefix ^ \"0\") t0\n                     @ prefixes_of_tree (prefix ^ \"1\") t1\n                       let huffman fs =\n    if List.fold_left (fun s (_, p) -> s + p) 0 fs <> 100 then\n      failwith \"huffman: la somme des poids doit être 100\";\n    let q = Pq.make () in\n    List.iter (fun (s, f) -> Pq.add q f (Leaf s)) fs;\n    prefixes_of_tree \"\" (huffman_tree q);;\nmodule Pq :\n  sig\n    type 'a t = { data : 'a list array; mutable first : int; }\n    val make : unit -> 'a t\n    val add : 'a t -> int -> 'a -> unit\n    val get_min : 'a t -> (int * 'a) option\n  end\ntype tree = Leaf of string | Node of tree * tree\nval huffman_tree : tree Pq.t -> tree = <fun>\nval prefixes_of_tree : string -> tree -> (string * string) list = <fun>\nval huffman : (string * int) list -> (string * string) list = <fun>\n```\n:::",
      "metadata": {
        "tags": []
      }
    },
    {
      "id": "558d68a8-3f06-4289-b6f6-124eb57a22d8",
      "cell_type": "markdown",
      "source": ":::{exercise} Construire des Arbres Binaires Complètement Équilibrés 🟡\n:label: ex44\n\n**Tags:** `binary-tree`\n\n<img src=\"data:image/gif;base64,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\" alt=\"Arbre Binaire\">\n\n*Un arbre binaire est soit vide, soit composé d'un élément racine et\nde deux successeurs, qui sont eux-mêmes des arbres binaires.*\n\nEn OCaml, on peut définir un nouveau type `binary_tree` qui porte une\nvaleur arbitraire de type `'a` (donc polymorphe) à chaque nœud.\n\n```ocaml\n# type 'a binary_tree =\n  | Empty\n  | Node of 'a * 'a binary_tree * 'a binary_tree;;\ntype 'a binary_tree = Empty | Node of 'a * 'a binary_tree * 'a binary_tree\n```\n\nUn exemple d'arbre portant des données de type `char` est :\n\n```ocaml\n# let example_tree =\n  Node ('a', Node ('b', Node ('d', Empty, Empty), Node ('e', Empty, Empty)),\n       Node ('c', Empty, Node ('f', Node ('g', Empty, Empty), Empty)));;\nval example_tree : char binary_tree =\n  Node ('a', Node ('b', Node ('d', Empty, Empty), Node ('e', Empty, Empty)),\n   Node ('c', Empty, Node ('f', Node ('g', Empty, Empty), Empty)))\n```\n\nEn OCaml, la discipline de typage stricte *garantit* que, si vous obtenez une\nvaleur de type `binary_tree`, alors elle doit avoir été créée avec les deux\nconstructeurs `Empty` et `Node`.\n\nDans un arbre binaire complètement équilibré, la propriété suivante est valable pour\nchaque nœud : le nombre de nœuds dans son sous-arbre gauche et le nombre de\nnœuds dans son sous-arbre droit sont presque égaux, ce qui signifie que leur\ndifférence n'est pas supérieure à un.\n\nÉcrivez une fonction `cbal_tree` pour construire des arbres binaires complètement\néquilibrés pour un nombre de nœuds donné. La fonction doit générer toutes les\nsolutions via le backtracking. Mettez la lettre `'x'` comme information dans tous\nles nœuds de l'arbre.\n\n```ocaml\n# cbal_tree 4;;\n- : char binary_tree/2 list =\n[Node ('x', Node ('x', Empty, Empty),\n  Node ('x', Node ('x', Empty, Empty), Empty));\n Node ('x', Node ('x', Empty, Empty),\n  Node ('x', Empty, Node ('x', Empty, Empty)));\n Node ('x', Node ('x', Node ('x', Empty, Empty), Empty),\n  Node ('x', Empty, Empty));\n Node ('x', Node ('x', Empty, Node ('x', Empty, Empty)),\n  Node ('x', Empty, Empty))]\n```\n:::",
      "metadata": {
        "tags": []
      }
    },
    {
      "id": "9aab8ee9-a53d-4387-906f-4468db0f44d1",
      "cell_type": "code",
      "source": "(* Votre réponse ici *)",
      "metadata": {
        "tags": []
      },
      "outputs": [],
      "execution_count": null
    },
    {
      "id": "4c335f7c-cbc8-458b-8db6-8102a7b48cde",
      "cell_type": "markdown",
      "source": ":::{solution} ex44\n:class: dropdown\n:label: sol44\n\n```ocaml\n# (* Construire tous les arbres avec les sous-arbres [left] et [right] donnés. *)\n  let add_trees_with left right all =\n    let add_right_tree all l =\n      List.fold_left (fun a r -> Node ('x', l, r) :: a) all right in\n    List.fold_left add_right_tree all left\n\n  let rec cbal_tree n =\n    if n = 0 then [Empty]\n    else if n mod 2 = 1 then\n      let t = cbal_tree (n / 2) in\n      add_trees_with t t []\n    else (* n pair: n-1 nœuds pour les sous-arbres gauche et droit au total. *)\n      let t1 = cbal_tree (n / 2 - 1) in\n      let t2 = cbal_tree (n / 2) in\n      add_trees_with t1 t2 (add_trees_with t2 t1 []);;\nval add_trees_with :\n  char binary_tree list ->\n  char binary_tree list -> char binary_tree list -> char binary_tree list =\n  <fun>\nval cbal_tree : int -> char binary_tree list = <fun>\n```\n:::",
      "metadata": {
        "tags": []
      }
    },
    {
      "id": "339b8b54-4743-487c-bf9d-4c450c440bbe",
      "cell_type": "markdown",
      "source": ":::{exercise} Arbres Binaires Symétriques 🟡\n:label: ex45\n\n**Tags:** `binary-tree`\n\nAppelons un arbre binaire symétrique si vous pouvez tracer une ligne verticale\nà travers le nœud racine et que le sous-arbre droit est l'image miroir du\nsous-arbre gauche. Écrivez une fonction `is_symmetric` pour vérifier si un\narbre binaire donné est symétrique.\n\n**Indice :** Écrivez d'abord une fonction `is_mirror` pour vérifier si un arbre\n est l'image miroir d'un autre. Nous ne nous intéressons qu'à la\n structure, pas au contenu des nœuds.\n:::",
      "metadata": {
        "tags": []
      }
    },
    {
      "id": "9fd9c75d-1eed-4291-8b12-0c62498f7d5a",
      "cell_type": "code",
      "source": "(* Votre réponse ici *)",
      "metadata": {
        "tags": []
      },
      "outputs": [],
      "execution_count": null
    },
    {
      "id": "3d99bf2f-482f-43c8-8e51-31bdd8712001",
      "cell_type": "markdown",
      "source": ":::{solution} ex45\n:class: dropdown\n:label: sol45\n\n```ocaml\n# let rec is_mirror t1 t2 =\n    match t1, t2 with\n    | Empty, Empty -> true\n    | Node(_, l1, r1), Node(_, l2, r2) ->\n       is_mirror l1 r2 && is_mirror r1 l2\n    | _ -> false\n\n  let is_symmetric = function\n    | Empty -> true\n    | Node(_, l, r) -> is_mirror l r;;\nval is_mirror : 'a binary_tree -> 'b binary_tree -> bool = <fun>\nval is_symmetric : 'a binary_tree -> bool = <fun>\n```\n:::",
      "metadata": {
        "tags": []
      }
    },
    {
      "id": "9686b8d4-5252-40ee-801c-52b1cd084b6d",
      "cell_type": "markdown",
      "source": ":::{exercise} Arbres Binaires de Recherche (Dictionnaires) 🟡\n:label: ex46\n\n**Tags:** `binary-tree`\n\nConstruire un \n[arbre binaire de recherche](https://fr.wikipedia.org/wiki/Arbre_binaire_de_recherche) \nà partir d'une liste de nombres entiers.\n\n```ocaml\n# construct [3; 2; 5; 7; 1];;\n- : int binary_tree =\nNode (3, Node (2, Node (1, Empty, Empty), Empty),\n Node (5, Empty, Node (7, Empty, Empty)))\n```\n\nEnsuite, utilisez cette fonction pour tester la solution du problème précédent.\n\n```ocaml\n# is_symmetric (construct [5; 3; 18; 1; 4; 12; 21]);;\n- : bool = true\n# not (is_symmetric (construct [3; 2; 5; 7; 4]));;\n- : bool = true\n```\n:::",
      "metadata": {
        "tags": []
      }
    },
    {
      "id": "81dc7bf8-6000-49fa-816a-7867e4be4c73",
      "cell_type": "code",
      "source": "(* Votre réponse ici *)",
      "metadata": {
        "tags": []
      },
      "outputs": [],
      "execution_count": null
    },
    {
      "id": "79518f16-5808-41e4-ad07-1ba6b0a81bd5",
      "cell_type": "markdown",
      "source": ":::{solution} ex46\n:class: dropdown\n:label: sol46\n\n```ocaml\n# let rec insert tree x = match tree with\n    | Empty -> Node (x, Empty, Empty)\n    | Node (y, l, r) ->\n       if x = y then tree\n       else if x < y then Node (y, insert l x, r)\n       else Node (y, l, insert r x)\n  let construct l = List.fold_left insert Empty l;;\nval insert : 'a binary_tree -> 'a -> 'a binary_tree = <fun>\nval construct : 'a list -> 'a binary_tree = <fun>\n```\n:::",
      "metadata": {
        "tags": []
      }
    },
    {
      "id": "a144c63e-01c0-487f-9980-d02118bd3943",
      "cell_type": "markdown",
      "source": ":::{exercise} Paradigme Générer-et-Tester 🟡\n:label: ex47\n\n**Tags:** `binary-tree`\n\nAppliquez le paradigme générer-et-tester pour construire tous les arbres binaires\nsymétriques et complètement équilibrés avec un nombre de nœuds donné.\n\n```ocaml\n# sym_cbal_trees 5;;\n- : char binary_tree list =\n[Node ('x', Node ('x', Node ('x', Empty, Empty), Empty),\n  Node ('x', Empty, Node ('x', Empty, Empty)));\n Node ('x', Node ('x', Empty, Node ('x', Empty, Empty)),\n  Node ('x', Node ('x', Empty, Empty), Empty))]\n```\n\nCombien y a-t-il de tels arbres avec 57 nœuds ? Cherchez combien de\nsolutions il y a pour un nombre de nœuds donné. Et si le nombre est\npair ? Écrivez une fonction appropriée.\n\n```ocaml\n# List.length (sym_cbal_trees 57);;\n- : int = 256\n```\n:::",
      "metadata": {
        "tags": []
      }
    },
    {
      "id": "2e2d6cbb-eb1b-40e4-9852-2fad142158fb",
      "cell_type": "code",
      "source": "(* Votre réponse ici *)",
      "metadata": {
        "tags": []
      },
      "outputs": [],
      "execution_count": null
    },
    {
      "id": "369dc5e0-0147-4cda-b12a-57d9f7b2026c",
      "cell_type": "markdown",
      "source": ":::{solution} ex47\n:class: dropdown\n:label: sol47\n\n```ocaml\n# let sym_cbal_trees n =\n    List.filter is_symmetric (cbal_tree n);;\nval sym_cbal_trees : int -> char binary_tree list = <fun>\n```\n:::",
      "metadata": {
        "tags": []
      }
    },
    {
      "id": "2bb7701e-42cb-4f02-bcc3-57113e1301a3",
      "cell_type": "markdown",
      "source": ":::{exercise} Construire des Arbres Binaires Équilibrés en Hauteur 🟡\n:label: ex48\n\n**Tags:** `binary-tree`\n\nDans un arbre binaire équilibré en hauteur, la propriété suivante est valable pour chaque\nnœud : la hauteur de son sous-arbre gauche et la hauteur de son sous-arbre droit\nsont presque égales, ce qui signifie que leur différence n'est pas supérieure à un.\n\nÉcrivez une fonction `hbal_tree` pour construire des arbres binaires équilibrés en hauteur\npour une hauteur donnée. La fonction doit générer toutes les solutions via\nle backtracking. Mettez la lettre `'x'` comme information dans tous les nœuds de\nl'arbre.\n\n\n```ocaml\n# let t = hbal_tree 3;;\nval t : char binary_tree list =\n  [Node ('x', Node ('x', Empty, Node ('x', Empty, Empty)),\n    Node ('x', Empty, Node ('x', Empty, Empty)));\n   Node ('x', Node ('x', Empty, Node ('x', Empty, Empty)),\n    Node ('x', Node ('x', Empty, Empty), Empty));\n   Node ('x', Node ('x', Empty, Node ('x', Empty, Empty)),\n    Node ('x', Node ('x', Empty, Empty), Node ('x', Empty, Empty)));\n   Node ('x', Node ('x', Node ('x', Empty, Empty), Empty),\n    Node ('x', Empty, Node ('x', Empty, Empty)));\n   Node ('x', Node ('x', Node ('x', Empty, Empty), Empty),\n    Node ('x', Node ('x', Empty, Empty), Empty));\n   Node ('x', Node ('x', Node ('x', Empty, Empty), Empty),\n    Node ('x', Node ('x', Empty, Empty), Node ('x', Empty, Empty)));\n   Node ('x', Node ('x', Node ('x', Empty, Empty), Node ('x', Empty, Empty)),\n    Node ('x', Empty, Node ('x', Empty, Empty)));\n   Node ('x', Node ('x', Node ('x', Empty, Empty), Node ('x', Empty, Empty)),\n    Node ('x', Node ('x', Empty, Empty), Empty));\n   Node ('x', Node ('x', Node ('x', Empty, Empty), Node ('x', Empty, Empty)),\n    Node ('x', Node ('x', Empty, Empty), Node ('x', Empty, Empty)));\n   Node ('x', Node ('x', Empty, Node ('x', Empty, Empty)),\n    Node ('x', Empty, Empty));\n   Node ('x', Node ('x', Node ('x', Empty, Empty), Empty),\n    Node ('x', Empty, Empty));\n   Node ('x', Node ('x', Node ('x', Empty, Empty), Node ('x', Empty, Empty)),\n    Node ('x', Empty, Empty));\n   Node ('x', Node ('x', Empty, Empty),\n    Node ('x', Empty, Node ('x', Empty, Empty)));\n   Node ('x', Node ('x', Empty, Empty),\n    Node ('x', Node ('x', Empty, Empty), Empty));\n   Node ('x', Node ('x', Empty, Empty),\n    Node ('x', Node ('x', Empty, Empty), Node ('x', Empty, Empty)))]\n```\n:::",
      "metadata": {
        "tags": []
      }
    },
    {
      "id": "1c617003-0437-40cb-a8f8-5fc56fba4bea",
      "cell_type": "code",
      "source": "(* Votre réponse ici *)",
      "metadata": {
        "tags": []
      },
      "outputs": [],
      "execution_count": null
    },
    {
      "id": "324842e5-1482-4c2c-955a-a250829f38ec",
      "cell_type": "markdown",
      "source": ":::{solution} ex48\n:class: dropdown\n:label: sol48\n\n```ocaml\n# let rec hbal_tree n =\n    if n = 0 then [Empty]\n    else if n = 1 then [Node ('x', Empty, Empty)]\n    else\n    (* [add_trees_with left right trees] est défini dans une question ci-dessus. *)\n      let t1 = hbal_tree (n - 1)\n      and t2 = hbal_tree (n - 2) in\n      add_trees_with t1 t1 (add_trees_with t1 t2 (add_trees_with t2 t1 []));;\nval hbal_tree : int -> char binary_tree list = <fun>\n```\n:::",
      "metadata": {
        "tags": []
      }
    },
    {
      "id": "0686b643-68be-4d37-94c5-3a4ba24a5072",
      "cell_type": "markdown",
      "source": ":::{exercise} Construire des Arbres Binaires Équilibrés en Hauteur avec un Nombre de Nœuds Donné 🟡\n:label: ex49\n\n**Tags:** `binary-tree`\n\nConsidérez un arbre binaire équilibré en hauteur de hauteur `h`. Quel est le\nnombre maximum de nœuds qu'il peut contenir ? Clairement,\nmax_nodes = 2<sup>`h`</sup> - 1.\n\n```ocaml\n# let max_nodes h = 1 lsl h - 1;;\nval max_nodes : int -> int = <fun>\n```\n\n## Minimum de nœuds\n\nCependant, quel est le nombre minimum de nœuds min_nodes ? Cette question est plus\ndifficile. Essayez de trouver une déclaration récursive et de la transformer en une fonction\n`min_nodes` définie comme suit : `min_nodes h` retourne le nombre minimum\nde nœuds dans un arbre binaire équilibré en hauteur de hauteur `h`.\n\n## Hauteur minimale\n\nD'un autre côté, on pourrait se demander : quelles sont les hauteurs minimale (resp. maximale)\nH qu'un\narbre binaire équilibré en hauteur avec N nœuds peut avoir ?\n`min_height` (resp. `max_height n`) retourne\nla hauteur minimale (resp. maximale) d'un arbre binaire équilibré en hauteur\navec `n` nœuds.\n\n## Construire des arbres\n\nMaintenant, nous pouvons aborder le problème principal : construire tous les arbres binaires\néquilibrés en hauteur avec un nombre de nœuds donné. `hbal_tree_nodes n` retourne une\nliste de tous les arbres binaires équilibrés en hauteur avec `n` nœuds.\n\nDécouvrez combien d'arbres équilibrés en hauteur existent pour `n = 15`.\n\n```ocaml\n# List.length (hbal_tree_nodes 15);;\n- : int = 1553\n```\n:::",
      "metadata": {
        "tags": []
      }
    },
    {
      "id": "a5f39b98-dfa9-4728-9bce-6a685edc91d0",
      "cell_type": "code",
      "source": "(* Votre réponse ici *)",
      "metadata": {
        "tags": []
      },
      "outputs": [],
      "execution_count": null
    },
    {
      "id": "2de798a7-ee8c-47d1-a7d9-1c3a63638ff5",
      "cell_type": "markdown",
      "source": ":::{solution} ex49\n:class: dropdown\n:label: sol49\n\n```ocaml\n# let rec min_nodes h =\n    if h <= 0 then 0 \n    else if h = 1 then 1\n    else min_nodes (h - 1) + min_nodes (h - 2) + 1;;\nval min_nodes : int -> int = <fun>\n```\n:::",
      "metadata": {
        "tags": []
      }
    },
    {
      "id": "d4c99b69-d2e7-43ab-a7bb-8a54e7bf8235",
      "cell_type": "markdown",
      "source": ":::{exercise} Compter les Feuilles d'un Arbre Binaire 🟢\n:label: ex50\n\n**Tags:** `binary-tree`\n\nUne feuille est un nœud sans successeurs. Écrivez une fonction `count_leaves` pour\nles compter.\n\n```ocaml\n# count_leaves Empty;;\n- : int = 0\n```\n:::",
      "metadata": {
        "tags": []
      }
    },
    {
      "id": "75fd9d59-b993-4e7d-92a6-e322ea10e461",
      "cell_type": "code",
      "source": "(* Votre réponse ici *)",
      "metadata": {
        "tags": []
      },
      "outputs": [],
      "execution_count": null
    },
    {
      "id": "c8c6cc8f-1a49-4518-98e1-e20e24e1cc8e",
      "cell_type": "markdown",
      "source": ":::{solution} ex50\n:class: dropdown\n:label: sol50\n\n```ocaml\n# let rec count_leaves = function\n    | Empty -> 0\n    | Node (_, Empty, Empty) -> 1\n    | Node (_, l, r) -> count_leaves l + count_leaves r;;\nval count_leaves : 'a binary_tree -> int = <fun>\n```\n:::",
      "metadata": {
        "tags": []
      }
    },
    {
      "id": "0fd4cb4b-8fba-49c7-ade7-0513b35304e0",
      "cell_type": "markdown",
      "source": ":::{exercise} Collecter les Feuilles d'un Arbre Binaire dans une Liste 🟢\n:label: ex51\n\n**Tags:** `binary-tree`\n\nUne feuille est un nœud sans successeurs. Écrivez une fonction `leaves` pour\nles collecter dans une liste.\n\n```ocaml\n# leaves Empty;;\n- : 'a list = []\n```\n:::",
      "metadata": {
        "tags": []
      }
    },
    {
      "id": "75f9926a-d5b6-4d28-b9cd-7c4d678d79c3",
      "cell_type": "code",
      "source": "(* Votre réponse ici *)",
      "metadata": {
        "tags": []
      },
      "outputs": [],
      "execution_count": null
    },
    {
      "id": "d18a4c35-503e-4d65-8884-5bf6fe41fd7b",
      "cell_type": "markdown",
      "source": ":::{solution} ex51\n:class: dropdown\n:label: sol51\n\n```ocaml\n# (* Avoir un accumulateur acc évite d'utiliser l'inefficace List.append.\n   * Chaque Feuille sera ajoutée directement dans l'accumulateur.\n   * Non récursif terminal, mais ce n'est pas un problème car nous avons un arbre binaire et\n   * la profondeur de la pile est logarithmique. *)\n  let leaves t = \n    let rec leaves_aux t acc = match t with\n      | Empty -> acc\n      | Node (x, Empty, Empty) -> x :: acc\n      | Node (x, l, r) -> leaves_aux l (leaves_aux r acc)\n    in\n    leaves_aux t [];;\nval leaves : 'a binary_tree -> 'a list = <fun>\n```\n:::",
      "metadata": {
        "tags": []
      }
    },
    {
      "id": "d9f6cc88-2f47-4ffb-bbbd-ae8c6b6e1371",
      "cell_type": "markdown",
      "source": ":::{exercise} Collecter les Nœuds Internes d'un Arbre Binaire dans une Liste 🟢\n:label: ex52\n\n**Tags:** `binary-tree`\n\nUn nœud interne d'un arbre binaire a un ou deux successeurs non vides.\nÉcrivez une fonction `internals` pour les collecter dans une liste.\n\n```ocaml\n# internals (Node ('a', Empty, Empty));;\n- : char list = []\n```\n:::",
      "metadata": {
        "tags": []
      }
    },
    {
      "id": "01ccf2d3-eed0-4a4f-8a38-474ad5448aa5",
      "cell_type": "code",
      "source": "(* Votre réponse ici *)",
      "metadata": {
        "tags": []
      },
      "outputs": [],
      "execution_count": null
    },
    {
      "id": "46e07f06-8d24-4641-a4f0-261fcad56a78",
      "cell_type": "markdown",
      "source": ":::{solution} ex52\n:class: dropdown\n:label: sol52\n\n```ocaml\n# (* Avoir un accumulateur acc évite d'utiliser l'inefficace List.append.\n   * Chaque nœud interne sera ajouté directement dans l'accumulateur.\n   * Non récursif terminal, mais ce n'est pas un problème car nous avons un arbre binaire et\n   * la profondeur de la pile est logarithmique. *)\n  let internals t = \n    let rec internals_aux t acc = match t with\n      | Empty -> acc\n      | Node (x, Empty, Empty) -> acc\n      | Node (x, l, r) -> internals_aux l (x :: internals_aux r acc)\n    in\n    internals_aux t [];;\nval internals : 'a binary_tree -> 'a list = <fun>\n```\n:::",
      "metadata": {
        "tags": []
      }
    },
    {
      "id": "c55f9a09-268b-46ce-be75-90e52ed74ed0",
      "cell_type": "markdown",
      "source": ":::{exercise} Collecter les Nœuds à un Niveau Donné dans une Liste 🟢\n:label: ex53\n\n**Tags:** `binary-tree`\n\nUn nœud d'un arbre binaire est au niveau N si le chemin de la racine au\nnœud a une longueur N-1. Le nœud racine est au niveau 1. Écrivez une fonction\n`at_level t l` pour collecter tous les nœuds de l'arbre `t` au niveau `l` dans une\nliste.\n\n```ocaml\n# let example_tree =\n  Node ('a', Node ('b', Node ('d', Empty, Empty), Node ('e', Empty, Empty)),\n       Node ('c', Empty, Node ('f', Node ('g', Empty, Empty), Empty)));;\nval example_tree : char binary_tree =\n  Node ('a', Node ('b', Node ('d', Empty, Empty), Node ('e', Empty, Empty)),\n   Node ('c', Empty, Node ('f', Node ('g', Empty, Empty), Empty)))\n# at_level example_tree 2;;\n- : char list = ['b'; 'c']\n```\n\nEn utilisant `at_level`, il est facile de construire une fonction `levelorder` qui\ncrée la séquence des nœuds par niveau. Cependant, il existe des moyens plus\nefficaces de le faire.\n:::",
      "metadata": {
        "tags": []
      }
    },
    {
      "id": "1d3d6899-6816-4a32-aee9-82795889a3dc",
      "cell_type": "code",
      "source": "(* Votre réponse ici *)",
      "metadata": {
        "tags": []
      },
      "outputs": [],
      "execution_count": null
    },
    {
      "id": "c4b9f7dc-4565-4649-9849-c5ce50566ad8",
      "cell_type": "markdown",
      "source": ":::{solution} ex53\n:class: dropdown\n:label: sol53\n\n```ocaml\n# (* Avoir un accumulateur acc évite d'utiliser l'inefficace List.append.\n   * Chaque nœud au niveau N sera ajouté directement dans l'accumulateur.\n   * Non récursif terminal, mais ce n'est pas un problème car nous avons un arbre binaire et\n   * la profondeur de la pile est logarithmique. *)\n  let at_level t level =\n    let rec at_level_aux t acc counter = match t with\n      | Empty -> acc\n      | Node (x, l, r) ->\n        if counter=level then\n          x :: acc\n        else\n          at_level_aux l (at_level_aux r acc (counter + 1)) (counter + 1)\n    in\n      at_level_aux t [] 1;;\nval at_level : 'a binary_tree -> int -> 'a list = <fun>\n```\n:::",
      "metadata": {
        "tags": []
      }
    },
    {
      "id": "c095ac8f-5974-424f-9ee4-117b198943a4",
      "cell_type": "markdown",
      "source": ":::{exercise} Construire un Arbre Binaire Complet 🟡\n:label: ex54\n\n**Tags:** `binary-tree`\n\nUn arbre binaire *complet* de hauteur H est défini comme suit : Les niveaux\n1,2,3,...,H-1 contiennent le nombre maximum de nœuds (c'est-à-dire 2<sup>i-1</sup>\nau niveau i, notez que nous commençons à compter les niveaux à partir de 1 à la\nracine). Au niveau H, qui peut contenir moins que le nombre maximum possible\nde nœuds, tous les nœuds sont \"ajustés à gauche\". Cela signifie que dans un\nparcours d'arbre par niveau, tous les nœuds internes viennent en premier, les feuilles\nviennent en second, et les successeurs vides (les nils qui ne sont pas vraiment des nœuds !)\nviennent en dernier.\n\nEn particulier, les arbres binaires complets sont utilisés comme structures de données (ou\nschémas d'adressage) pour les tas.\n\nNous pouvons attribuer un numéro d'adresse à chaque nœud d'un arbre binaire\ncomplet en énumérant les nœuds par niveau, en commençant à la racine avec\nle numéro 1. Ce faisant, nous réalisons que pour chaque nœud X avec l'adresse A\nla propriété suivante est valable : L'adresse des successeurs gauche et droit de X\nsont 2\\*A et 2\\*A+1, respectivement, si les successeurs existent.\nCe fait peut être utilisé pour construire élégamment une structure d'arbre binaire\ncomplète. Écrivez une fonction `is_complete_binary_tree` avec la\nspécification suivante : `is_complete_binary_tree n t` retourne `true`\nsi et seulement si `t` est un arbre binaire complet avec `n` nœuds.\n\n```ocaml\n# complete_binary_tree [1; 2; 3; 4; 5; 6];;\n- : int binary_tree =\nNode (1, Node (2, Node (4, Empty, Empty), Node (5, Empty, Empty)),\n Node (3, Node (6, Empty, Empty), Empty))\n```\n:::",
      "metadata": {
        "tags": []
      }
    },
    {
      "id": "06de3563-25ce-4982-b2e7-b6c9b70ef28a",
      "cell_type": "code",
      "source": "(* Votre réponse ici *)",
      "metadata": {
        "tags": []
      },
      "outputs": [],
      "execution_count": null
    },
    {
      "id": "7ba26e85-6cec-49c1-9f21-f840fb4921ed",
      "cell_type": "markdown",
      "source": ":::{solution} ex54\n:class: dropdown\n:label: sol54\n\n```ocaml\n# let rec split_n lst acc n = match (n, lst) with\n    | (0, _) -> (List.rev acc, lst)\n    | (_, []) -> (List.rev acc, [])\n    | (_, h :: t) -> split_n t (h :: acc) (n-1)\n\n  let rec myflatten p c = \n    match (p, c) with\n    | (p, []) -> List.map (fun x -> Node (x, Empty, Empty)) p\n    | (x :: t, [y]) -> Node (x, y, Empty) :: myflatten t []\n    | (ph :: pt, x :: y :: t) -> (Node (ph, x, y)) :: myflatten pt t\n    | _ -> invalid_arg \"myflatten\"\n\n  let complete_binary_tree = function\n    | [] -> Empty\n    | lst ->\n       let rec aux l = function\n         | [] -> []\n         | lst -> let p, c = split_n lst [] (1 lsl l) in\n                  myflatten p (aux (l + 1) c)\n       in\n         List.hd (aux 0 lst);;\nval split_n : 'a list -> 'a list -> int -> 'a list * 'a list = <fun>\nval myflatten : 'a list -> 'a binary_tree list -> 'a binary_tree list = <fun>\nval complete_binary_tree : 'a list -> 'a binary_tree = <fun>\n```\n:::",
      "metadata": {
        "tags": []
      }
    },
    {
      "id": "1bfbbf2b-0fbf-464d-a5f4-9b12fd49d56a",
      "cell_type": "markdown",
      "source": ":::{exercise} Mettre en Page un Arbre Binaire (1) 🟡\n:label: ex55\n\n**Tags:** `binary-tree`\n\nEn préparation du dessin de l'arbre, un algorithme de mise en page est requis pour\ndéterminer la position de chaque nœud dans une grille rectangulaire. Plusieurs\nméthodes de mise en page sont envisageables, l'une d'elles est montrée dans l'illustration.\n\n\n<img src=\"data:image/gif;base64,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\" alt=\"Grille d'Arbre Binaire\">\n\nDans cette stratégie de mise en page, la position d'un nœud v est obtenue par les\ndeux règles suivantes :\n\n* *x(v)* est égal à la position du nœud v dans la séquence *infixe* ;\n* *y(v)* est égal à la profondeur du nœud *v* dans l'arbre.\n\nPour stocker la position des nœuds, nous enrichirons la valeur\nà chaque nœud avec la position `(x,y)`.\n\nL'arbre illustré ci-dessus est\n```ocaml\n# let example_layout_tree =\n  let leaf x = Node (x, Empty, Empty) in\n  Node ('n', Node ('k', Node ('c', leaf 'a',\n                           Node ('h', Node ('g', leaf 'e', Empty), Empty)),\n                 leaf 'm'),\n       Node ('u', Node ('p', Empty, Node ('s', leaf 'q', Empty)), Empty));;\nval example_layout_tree : char binary_tree =\n  Node ('n',\n   Node ('k',\n    Node ('c', Node ('a', Empty, Empty),\n     Node ('h', Node ('g', Node ('e', Empty, Empty), Empty), Empty)),\n    Node ('m', Empty, Empty)),\n   Node ('u', Node ('p', Empty, Node ('s', Node ('q', Empty, Empty), Empty)),\n    Empty))\n```\n\n```ocaml\n# layout_binary_tree_1 example_layout_tree;;\n- : (char * int * int) binary_tree =\nNode (('n', 8, 1),\n Node (('k', 6, 2),\n  Node (('c', 2, 3), Node (('a', 1, 4), Empty, Empty),\n   Node (('h', 5, 4),\n    Node (('g', 4, 5), Node (('e', 3, 6), Empty, Empty), Empty), Empty)),\n  Node (('m', 7, 3), Empty, Empty)),\n Node (('u', 12, 2),\n  Node (('p', 9, 3), Empty,\n   Node (('s', 11, 4), Node (('q', 10, 5), Empty, Empty), Empty)),\n  Empty))\n```\n:::",
      "metadata": {
        "tags": []
      }
    },
    {
      "id": "a0aeaac0-0714-4267-85bb-11ad605602fe",
      "cell_type": "code",
      "source": "(* Votre réponse ici *)",
      "metadata": {
        "tags": []
      },
      "outputs": [],
      "execution_count": null
    },
    {
      "id": "52610086-6e38-4048-9d49-6e2558bf8dd2",
      "cell_type": "markdown",
      "source": ":::{solution} ex55\n:class: dropdown\n:label: sol55\n\n```ocaml\n# let layout_binary_tree_1 t =\n    let rec layout depth x_left = function\n      (* Cette fonction retourne une paire : l'arbre mis en page et la première\n       * position x libre *)\n      | Empty -> (Empty, x_left)\n      | Node (v,l,r) ->\n         let (l', l_x_max) = layout (depth + 1) x_left l in\n         let (r', r_x_max) = layout (depth + 1) (l_x_max + 1) r in\n           (Node ((v, l_x_max, depth), l', r'), r_x_max)\n    in\n      fst (layout 1 1 t);;\nval layout_binary_tree_1 : 'a binary_tree -> ('a * int * int) binary_tree =\n  <fun>\n```\n:::",
      "metadata": {
        "tags": []
      }
    },
    {
      "id": "27d0df52-e030-45c5-9375-a8ffc1fb4df8",
      "cell_type": "markdown",
      "source": ":::{exercise} Mettre en Page un Arbre Binaire (2) 🟡\n:label: ex56\n\n**Tags:** `binary-tree`\n\n<img src=\"data:image/gif;base64,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\" alt=\"Grille d'Arbre Binaire\">\n\nUne méthode de mise en page alternative est illustrée dans cette image. Trouvez\nles règles et écrivez la fonction OCaml correspondante.\n\n**Indice :** À un niveau donné, la distance horizontale entre\nles nœuds voisins est constante.\n\nL'arbre montré est \n```ocaml\n# let example_layout_tree =\n  let leaf x = Node (x, Empty, Empty) in\n  Node ('n', Node ('k', Node ('c', leaf 'a',\n                           Node ('e', leaf 'd', leaf 'g')),\n                 leaf 'm'),\n       Node ('u', Node ('p', Empty, leaf 'q'), Empty));;\nval example_layout_tree : char binary_tree =\n  Node ('n',\n   Node ('k',\n    Node ('c', Node ('a', Empty, Empty),\n     Node ('e', Node ('d', Empty, Empty), Node ('g', Empty, Empty))),\n    Node ('m', Empty, Empty)),\n   Node ('u', Node ('p', Empty, Node ('q', Empty, Empty)), Empty))\n```\n\n```ocaml\n# layout_binary_tree_2 example_layout_tree ;;\n- : (char * int * int) binary_tree =\nNode (('n', 15, 1),\n Node (('k', 7, 2),\n  Node (('c', 3, 3), Node (('a', 1, 4), Empty, Empty),\n   Node (('e', 5, 4), Node (('d', 4, 5), Empty, Empty),\n    Node (('g', 6, 5), Empty, Empty))),\n  Node (('m', 11, 3), Empty, Empty)),\n Node (('u', 23, 2),\n  Node (('p', 19, 3), Empty, Node (('q', 21, 4), Empty, Empty)), Empty))\n```\n:::",
      "metadata": {
        "tags": []
      }
    },
    {
      "id": "0e8902eb-9fa2-47fa-af26-0271bc657a5e",
      "cell_type": "code",
      "source": "(* Votre réponse ici *)",
      "metadata": {
        "tags": []
      },
      "outputs": [],
      "execution_count": null
    },
    {
      "id": "e5df84f1-057e-4644-a06f-094d0c48a5ea",
      "cell_type": "markdown",
      "source": ":::{solution} ex56\n:class: dropdown\n:label: sol56\n\n```ocaml\n# let layout_binary_tree_2 t =\n    let rec height = function\n      | Empty -> 0\n      | Node (_, l, r) -> 1 + max (height l) (height r) in\n    let tree_height = height t in\n    let rec find_missing_left depth = function\n      | Empty -> tree_height - depth\n      | Node (_, l, _) -> find_missing_left (depth + 1) l in\n    let translate_dst = 1 lsl (find_missing_left 0 t) - 1 in\n                        (* rappelez-vous que 1 lsl a = 2ᵃ *)\n    let rec layout depth x_root = function\n      | Empty -> Empty\n      | Node (x, l, r) ->\n         let spacing = 1 lsl (tree_height - depth - 1) in\n         let l' = layout (depth + 1) (x_root - spacing) l\n         and r' = layout (depth + 1) (x_root + spacing) r in\n           Node((x, x_root, depth), l',r') in\n    layout 1 ((1 lsl (tree_height - 1)) - translate_dst) t;;\nval layout_binary_tree_2 : 'a binary_tree -> ('a * int * int) binary_tree =\n  <fun>\n```\n:::",
      "metadata": {
        "tags": []
      }
    },
    {
      "id": "04357a44-e895-4292-990a-74d9bd9f5e36",
      "cell_type": "markdown",
      "source": ":::{exercise} Mettre en Page un Arbre Binaire (3) 🔴\n:label: ex57\n\n**Tags:** `binary-tree`\n\n<img src=\"data:image/gif;base64,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\" alt=\"Grille d'Arbre Binaire\">\n\nEncore une autre stratégie de mise en page est montrée dans l'illustration ci-dessus. La\nméthode produit une mise en page très compacte tout en maintenant une certaine symétrie\ndans chaque nœud. Trouvez les règles et écrivez le\nprédicat correspondant.\n\n**Indice :** Considérez la distance horizontale entre un nœud et ses successeurs.\nÀ quel point pouvez-vous serrer deux sous-arbres pour construire\nl'arbre binaire combiné ? C'est un problème difficile. N'abandonnez pas trop\ntôt !\n\n```ocaml\n# let example_layout_tree =\n  let leaf x = Node (x, Empty, Empty) in\n  Node ('n', Node ('k', Node ('c', leaf 'a',\n                           Node ('h', Node ('g', leaf 'e', Empty), Empty)),\n                 leaf 'm'),\n       Node ('u', Node ('p', Empty, Node ('s', leaf 'q', Empty)), Empty));;\nval example_layout_tree : char binary_tree =\n  Node ('n',\n   Node ('k',\n    Node ('c', Node ('a', Empty, Empty),\n     Node ('h', Node ('g', Node ('e', Empty, Empty), Empty), Empty)),\n    Node ('m', Empty, Empty)),\n   Node ('u', Node ('p', Empty, Node ('s', Node ('q', Empty, Empty), Empty)),\n    Empty))\n# layout_binary_tree_3 example_layout_tree ;;\n- : (char * int * int) binary_tree =\nNode (('n', 5, 1),\n Node (('k', 3, 2),\n  Node (('c', 2, 3), Node (('a', 1, 4), Empty, Empty),\n   Node (('h', 3, 4),\n    Node (('g', 2, 5), Node (('e', 1, 6), Empty, Empty), Empty), Empty)),\n  Node (('m', 4, 3), Empty, Empty)),\n Node (('u', 7, 2),\n  Node (('p', 6, 3), Empty,\n   Node (('s', 7, 4), Node (('q', 6, 5), Empty, Empty), Empty)),\n  Empty))\n```\n\nQuelle mise en page préférez-vous ?\n:::",
      "metadata": {
        "tags": []
      }
    },
    {
      "id": "dc42b538-cffd-4418-8729-52cb6f7c6db6",
      "cell_type": "code",
      "source": "(* Votre réponse ici *)",
      "metadata": {
        "tags": []
      },
      "outputs": [],
      "execution_count": null
    },
    {
      "id": "ee362205-e86c-435a-97e2-909b40599d14",
      "cell_type": "markdown",
      "source": ":::{solution} ex57\n:class: dropdown\n:label: sol57\n\n```ocaml\n# let layout_binary_tree_3 =\n    let rec translate_x d = function\n      | Empty -> Empty\n      | Node ((v, x, y), l, r) ->\n         Node ((v, x + d, y), translate_x d l, translate_x d r) in\n    (* Distance entre un sous-arbre gauche donné par son profil droit [lr]\n       et un sous-arbre droit donné par son profil gauche [rl]. *)\n    let rec dist lr rl = match lr, rl with\n      | lrx :: ltl, rlx :: rtl -> max (lrx - rlx) (dist ltl rtl)\n      | [], _ | _, [] -> 0 in\n    let rec merge_profiles p1 p2 = match p1, p2 with\n      | x1 :: tl1, _ :: tl2 -> x1 :: merge_profiles tl1 tl2\n      | [], _ -> p2\n      | _, [] -> p1 in\n    let rec layout depth = function\n      | Empty -> ([], Empty, [])\n      | Node (v, l, r) ->\n         let (ll, l', lr) = layout (depth + 1) l in\n         let (rl, r', rr) = layout (depth + 1) r in\n         let d = 1 + dist lr rl / 2 in\n         let ll = List.map (fun x -> x - d) ll\n         and lr = List.map (fun x -> x - d) lr\n         and rl = List.map ((+) d) rl\n         and rr = List.map ((+) d) rr in\n         (0 :: merge_profiles ll rl,\n          Node((v, 0, depth), translate_x (-d) l', translate_x d r'),\n          0 :: merge_profiles rr lr) in\n    fun t -> let (l, t', _) = layout 1 t in\n             let x_min = List.fold_left min 0 l in\n             translate_x (1 - x_min) t';;\nval layout_binary_tree_3 : 'a binary_tree -> ('a * int * int) binary_tree =\n  <fun>\n```\n:::",
      "metadata": {
        "tags": []
      }
    },
    {
      "id": "727bc8b1-b0e3-4e97-9e0e-a286cc8c8425",
      "cell_type": "markdown",
      "source": ":::{exercise} Une Représentation en Chaîne de Caractères des Arbres Binaires 🟡\n:label: ex58\n\n**Tags:** `binary-tree`\n\n<img src=\"data:image/gif;base64,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\" alt=\"Arbre Binaire\">\n\nQuelqu'un représente les arbres binaires comme des chaînes de caractères du type suivant (voir\nexemple) : `\"a(b(d,e),c(,f(g,)))\"`.\n\n* Écrivez une fonction OCaml `string_of_tree` qui génère cette\n représentation en chaîne,\n si l'arbre est donné comme d'habitude (comme un terme `Empty` ou `Node(x,l,r)`).\n Ensuite, écrivez une fonction `tree_of_string` qui fait l'inverse ;\n c'est-à-dire, étant donné la représentation\n en chaîne, construisez l'arbre dans la forme habituelle. Enfin,\n combinez les deux prédicats en une seule fonction `tree_string` qui\n peut être utilisée dans les deux directions.\n* Écrivez le même prédicat `tree_string` en utilisant des listes de différence et un\n seul prédicat `tree_dlist` qui effectue la conversion entre un\n arbre et une liste de différence dans les deux directions.\n\nPour simplifier, supposez que l'information dans les nœuds est une seule lettre\net qu'il n'y a pas d'espaces dans la chaîne.\n\n```ocaml\n# let example_layout_tree =\n  let leaf x = Node (x, Empty, Empty) in\n    (Node ('a', Node ('b', leaf 'd', leaf 'e'),\n     Node ('c', Empty, Node ('f', leaf 'g', Empty))));;\nval example_layout_tree : char binary_tree =\n  Node ('a', Node ('b', Node ('d', Empty, Empty), Node ('e', Empty, Empty)),\n   Node ('c', Empty, Node ('f', Node ('g', Empty, Empty), Empty)))\n```\n:::",
      "metadata": {
        "tags": []
      }
    },
    {
      "id": "75ab8462-1943-4f85-aa1c-08d51d7ee11e",
      "cell_type": "code",
      "source": "(* Votre réponse ici *)",
      "metadata": {
        "tags": []
      },
      "outputs": [],
      "execution_count": null
    },
    {
      "id": "01f647d9-9d11-4868-8767-03c0c964493e",
      "cell_type": "markdown",
      "source": ":::{solution} ex58\n:class: dropdown\n:label: sol58\n\n```ocaml\n# let rec string_of_tree = function\n    | Empty -> \"\"\n    | Node(data, l, r) ->\n       let data = String.make 1 data in\n       match l, r with\n       | Empty, Empty -> data\n       | _, _ -> data ^ \"(\" ^ (string_of_tree l)\n                 ^ \",\" ^ (string_of_tree r) ^ \")\";;\nval string_of_tree : char binary_tree -> string = <fun>\n```\n:::",
      "metadata": {
        "tags": []
      }
    },
    {
      "id": "852eeeff-809c-4b3b-9386-88a3ad6532a7",
      "cell_type": "markdown",
      "source": ":::{exercise} Séquences Préfixe et Infixe des Arbres Binaires 🟡\n:label: ex59\n\n**Tags:** `binary-tree`\n\nNous considérons des arbres binaires avec des nœuds identifiés par des lettres\nminuscules uniques, comme dans l'exemple du problème précédent.\n\n1. Écrivez les fonctions `preorder` et `inorder`\n   qui construisent les\n   séquences [préfixe](https://fr.wikipedia.org/wiki/Parcours_d%27arbre#Parcours_pr%C3%A9fixe)\n   et\n   [infixe](https://fr.wikipedia.org/wiki/Parcours_d%27arbre#Parcours_infixe)\n   d'un arbre binaire donné, respectivement. Les\n   résultats doivent être des atomes, par exemple 'abdecfg' pour la séquence préfixe de\n   l'exemple du problème précédent.\n1. Pouvez-vous utiliser `preorder` de la partie 1 du problème dans la direction\n   inverse ; c'est-à-dire, étant donné une séquence préfixe, construire un arbre\n   correspondant ? Sinon, faites les arrangements nécessaires.\n1. Si la séquence préfixe et la séquence infixe des nœuds\n   d'un arbre binaire sont données, alors l'arbre est déterminé\n   sans ambiguïté. Écrivez une fonction `pre_in_tree` qui fait le travail.\n1. Résolvez les problèmes 1 à 3 en utilisant des\n   [listes de différence](https://en.wikipedia.org/wiki/Difference_list).\n   Cool ! Utilisez la\n   fonction `timeit` (définie dans le problème “[Comparer les deux méthodes de\n   calcul de l'indicatrice d'Euler.](#38)”) pour comparer les\n   solutions.\n\nQue se passe-t-il si le même caractère apparaît dans plus d'un nœud. Essayez\npar exemple `pre_in_tree \"aba\" \"baa\"`.\n\n```ocaml\n# preorder (Node (1, Node (2, Empty, Empty), Empty));;\n- : int list = [1; 2]\n```\n:::",
      "metadata": {
        "tags": []
      }
    },
    {
      "id": "14be85d4-b476-480b-948b-04299d1165a8",
      "cell_type": "code",
      "source": "(* Votre réponse ici *)",
      "metadata": {
        "tags": []
      },
      "outputs": [],
      "execution_count": null
    },
    {
      "id": "06d51552-03a4-41a0-b669-54b68dce8c40",
      "cell_type": "markdown",
      "source": ":::{solution} ex59\n:class: dropdown\n:label: sol59\n\n```ocaml\n# let rec preorder = function\n    | Empty -> []\n    | Node (v, l, r) -> v :: (preorder l @ preorder r)\n    let rec inorder = function\n    | Empty -> []\n    | Node (v, l, r) -> inorder l @ (v :: inorder r)\n    let rec split_pre_in p i x accp acci = match (p, i) with\n    | [], [] -> (List.rev accp, List.rev acci), ([], [])\n    | h1 :: t1, h2 :: t2 ->\n       if x = h2 then\n         (List.tl (List.rev (h1 :: accp)), t1),\n         (List.rev (List.tl (h2 :: acci)), t2)\n       else\n         split_pre_in t1 t2 x (h1 :: accp) (h2 :: acci)\n    | _ -> assert false\n    let rec pre_in_tree p i = match (p, i) with\n    | [], [] -> Empty\n    | (h1 :: t1), (h2 :: t2) ->\n       let (lp, rp), (li, ri) = split_pre_in p i h1 [] [] in\n         Node (h1, pre_in_tree lp li, pre_in_tree rp ri)\n    | _ -> invalid_arg \"pre_in_tree\";;\nval preorder : 'a binary_tree -> 'a list = <fun>\nval inorder : 'a binary_tree -> 'a list = <fun>\nval split_pre_in :\n  'a list ->\n  'a list ->\n  'a -> 'a list -> 'a list -> ('a list * 'a list) * ('a list * 'a list) =\n  <fun>\nval pre_in_tree : 'a list -> 'a list -> 'a binary_tree = <fun>\n```\n:::",
      "metadata": {
        "tags": []
      }
    },
    {
      "id": "3badad56-eaf7-4c31-8fed-b2cbe0e518b7",
      "cell_type": "markdown",
      "source": ":::{exercise} Représentation Pointée des Arbres Binaires 🟡\n:label: ex60\n\n**Tags:** `binary-tree`\n\nNous considérons à nouveau des arbres binaires avec des nœuds identifiés par des lettres\nminuscules uniques, comme dans l'exemple du problème “[Une représentation en chaîne\nde caractères des arbres binaires](#67)”. Un tel arbre peut être\nreprésenté par la séquence préfixe de ses nœuds dans laquelle des points (.) sont\ninsérés là où un sous-arbre vide (nil) est rencontré pendant le\nparcours de l'arbre. Par exemple, l'arbre montré dans le problème “[Une représentation en chaîne\nde caractères des arbres binaires](#67)” est représenté par\n'abd..e..c.fg...'. D'abord, essayez d'établir une syntaxe (BNF ou diagrammes\nde syntaxe) puis écrivez une fonction `tree_dotstring` qui fait la\nconversion dans les deux directions. Utilisez des listes de différence.\n:::",
      "metadata": {
        "tags": []
      }
    },
    {
      "id": "4bda0886-c964-4f0c-9482-ab5b71cea45d",
      "cell_type": "code",
      "source": "(* Votre réponse ici *)",
      "metadata": {
        "tags": []
      },
      "outputs": [],
      "execution_count": null
    },
    {
      "id": "ce5f788d-c3fb-4dd2-b58f-93814d50dc67",
      "cell_type": "markdown",
      "source": ":::{solution} ex60\n:class: dropdown\n:label: sol60\n\n```ocaml\n(* solution en attente *)\n```\n:::",
      "metadata": {
        "tags": []
      }
    },
    {
      "id": "c03f3ab4-da2c-4f2c-bdb6-a93484071d99",
      "cell_type": "markdown",
      "source": ":::{exercise} Construction d'Arbre à partir d'une Chaîne de Nœuds 🟡\n:label: ex61\n\n**Tags:** `multiway-tree`\n\n<img src=\"data:image/gif;base64,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\" alt=\"Arbre n-aire\">\n\n*Un arbre n-aire est composé d'un élément racine et d'un\nensemble (éventuellement vide) de successeurs qui sont eux-mêmes des arbres n-aires.\nUn arbre n-aire n'est jamais vide. L'ensemble des arbres successeurs est parfois\nappelé une forêt.*\n\nPour représenter les arbres n-aires, nous utiliserons le type suivant qui est une\ntraduction directe de la définition :\n\n```ocaml\n# type 'a mult_tree = T of 'a * 'a mult_tree list;;\ntype 'a mult_tree = T of 'a * 'a mult_tree list\n```\n\nL'arbre d'exemple représenté ci-contre est donc représenté par\nl'expression OCaml suivante :\n\n```ocaml\n# T ('a', [T ('f', [T ('g', [])]); T ('c', []); T ('b', [T ('d', []); T ('e', [])])]);;\n- : char mult_tree =\nT ('a',\n [T ('f', [T ('g', [])]); T ('c', []); T ('b', [T ('d', []); T ('e', [])])])\n```\n\nNous supposons que les nœuds d'un arbre n-aire contiennent des caractères uniques.\nDans la séquence de parcours en profondeur de ses nœuds, un caractère spécial `^`\na été inséré chaque fois que, pendant le parcours de l'arbre, le mouvement est un\nretour en arrière au niveau précédent.\n\nSelon cette règle, l'arbre de la figure ci-contre est représenté par :\n`afg^^c^bd^e^^^`.\n\nÉcrivez les fonctions `string_of_tree : char mult_tree -> string` pour construire\nla chaîne représentant l'arbre et\n`tree_of_string : string -> char mult_tree` pour construire l'arbre lorsque\nla chaîne est donnée.\n\n\n```ocaml\n# let t = T ('a', [T ('f', [T ('g', [])]); T ('c', []);\n          T ('b', [T ('d', []); T ('e', [])])]);;\nval t : char mult_tree =\n  T ('a',\n   [T ('f', [T ('g', [])]); T ('c', []); T ('b', [T ('d', []); T ('e', [])])])\n```\n:::",
      "metadata": {
        "tags": []
      }
    },
    {
      "id": "c254e0fc-1138-4d88-8bbf-6921768f2f9e",
      "cell_type": "code",
      "source": "(* Votre réponse ici *)",
      "metadata": {
        "tags": []
      },
      "outputs": [],
      "execution_count": null
    },
    {
      "id": "c4d43308-ce68-40d8-9b42-2b85865571da",
      "cell_type": "markdown",
      "source": ":::{solution} ex61\n:class: dropdown\n:label: sol61\n\n```ocaml\n# (* Nous pourrions construire la chaîne finale par concaténation de chaînes mais\n     c'est coûteux en raison du nombre d'opérations. Nous utilisons un\n     tampon à la place. *)\n  let rec add_string_of_tree buf (T (c, sub)) =\n    Buffer.add_char buf c;\n    List.iter (add_string_of_tree buf) sub;\n    Buffer.add_char buf '^';;\nval add_string_of_tree : Buffer.t -> char mult_tree -> unit = <fun>\n\n# let string_of_tree t =\n    let buf = Buffer.create 128 in\n    add_string_of_tree buf t;\n    Buffer.contents buf;;\n\nval string_of_tree : char mult_tree -> string = <fun>\n\n# let tree_of_string s =\n    let rec parse_node chars =\n      match chars with\n      | [] -> failwith \"Fin d'entrée inattendue (attend un nœud)\"\n      | c :: rest ->\n          let (children, rest') = parse_children rest in\n          (T (c, children), rest')\n    and parse_children chars =\n      match chars with\n      | [] -> failwith \"Fin d'entrée inattendue (attend ^)\"\n      | '^' :: rest -> ([], rest)\n      | _ ->\n          let (child, rest') = parse_node chars in\n          let (siblings, rest'') = parse_children rest' in\n          (child :: siblings, rest'')\n    in\n    let (tree, remaining) = parse_node (List.of_seq (String.to_seq s)) in\n    match remaining with\n    | [] -> tree\n    | _ -> failwith \"Entrée supplémentaire après l'arbre\";;\nval tree_of_string : string -> char mult_tree = <fun>\n```\n:::",
      "metadata": {
        "tags": []
      }
    },
    {
      "id": "78e2b61b-b08c-4cd5-aaf5-2e36f4621c14",
      "cell_type": "markdown",
      "source": ":::{exercise} Compter les Nœuds d'un Arbre N-aire 🟢\n:label: ex62\n\n**Tags:** `multiway-tree`\n\n```ocaml\n# count_nodes (T ('a', [T ('f', []) ]));;\n- : int = 2\n```\n:::",
      "metadata": {
        "tags": []
      }
    },
    {
      "id": "9a0262db-1c50-49ac-b942-c98d9fd498ba",
      "cell_type": "code",
      "source": "(* Votre réponse ici *)",
      "metadata": {
        "tags": []
      },
      "outputs": [],
      "execution_count": null
    },
    {
      "id": "7cb34caa-0b8d-4a0d-a89a-1815faf09645",
      "cell_type": "markdown",
      "source": ":::{solution} ex62\n:class: dropdown\n:label: sol62\n\n```ocaml\n# let rec count_nodes (T (_, sub)) =\n    List.fold_left (fun n t -> n + count_nodes t) 1 sub;;\nval count_nodes : 'a mult_tree -> int = <fun>\n```\n:::",
      "metadata": {
        "tags": []
      }
    },
    {
      "id": "9b586872-c252-43ad-93e4-e7a6477a6a38",
      "cell_type": "markdown",
      "source": ":::{exercise} Déterminer la Longueur du Chemin Interne d'un Arbre 🟢\n:label: ex63\n\n**Tags:** `multiway-tree`\n\nNous définissons la longueur du chemin interne d'un arbre n-aire comme la somme totale\ndes longueurs des chemins de la racine à tous les nœuds de l'arbre. Par cette\ndéfinition, l'arbre `t` de la figure du problème précédent a une\nlongueur de chemin interne de 9. Écrivez une fonction `ipl tree` qui retourne la\nlongueur du chemin interne de `tree`.\n\n```ocaml\n# ipl t;;\n- : int = 9\n```\n:::",
      "metadata": {
        "tags": []
      }
    },
    {
      "id": "950dcb39-f274-4e9d-b6c2-3e0a2b005698",
      "cell_type": "code",
      "source": "(* Votre réponse ici *)",
      "metadata": {
        "tags": []
      },
      "outputs": [],
      "execution_count": null
    },
    {
      "id": "547b83a3-840d-4cd0-8d71-259286e7167a",
      "cell_type": "markdown",
      "source": ":::{solution} ex63\n:class: dropdown\n:label: sol63\n\n```ocaml\n# let rec ipl_sub len (T(_, sub)) =\n    (* [len] est la distance du nœud courant à la racine. Ajoutez la\n       distance de tous les sous-nœuds. *)\n    List.fold_left (fun sum t -> sum + ipl_sub (len + 1) t) len sub\n  let ipl t = ipl_sub 0 t;;\nval ipl_sub : int -> 'a mult_tree -> int = <fun>\nval ipl : 'a mult_tree -> int = <fun>\n```\n:::",
      "metadata": {
        "tags": []
      }
    },
    {
      "id": "5295f2ca-de52-48e3-a89a-2164bc5dc789",
      "cell_type": "markdown",
      "source": ":::{exercise} Construire la Séquence des Nœuds de l'Arbre dans l'Ordre Ascendant 🟢\n:label: ex64\n\n**Tags:** `multiway-tree`\n\nÉcrivez une fonction `bottom_up t` qui construit la séquence\nascendante (bottom-up) des nœuds de l'arbre n-aire `t`.\n\n```ocaml\n# bottom_up (T ('a', [T ('b', [])]));;\n- : char list = ['b'; 'a']\n# bottom_up t;;\n- : char list = ['g'; 'f'; 'c'; 'd'; 'e'; 'b'; 'a']\n```\n:::",
      "metadata": {
        "tags": []
      }
    },
    {
      "id": "ce88c9e2-3ec7-4a3b-b394-279b6f51ab67",
      "cell_type": "code",
      "source": "(* Votre réponse ici *)",
      "metadata": {
        "tags": []
      },
      "outputs": [],
      "execution_count": null
    },
    {
      "id": "2071d03c-8e1d-4c0d-8415-a1ea815661a3",
      "cell_type": "markdown",
      "source": ":::{solution} ex64\n:class: dropdown\n:label: sol64\n\n```ocaml\n# let rec prepend_bottom_up (T (c, sub)) l =\n    List.fold_right (fun t l -> prepend_bottom_up t l) sub (c :: l)\n  let bottom_up t = prepend_bottom_up t [];;\nval prepend_bottom_up : 'a mult_tree -> 'a list -> 'a list = <fun>\nval bottom_up : 'a mult_tree -> 'a list = <fun>\n```\n:::",
      "metadata": {
        "tags": []
      }
    },
    {
      "id": "6072d796-ef3e-466e-8602-c07bd0b53f64",
      "cell_type": "markdown",
      "source": ":::{exercise} Représentation d'Arbre de Type Lisp 🟡\n:label: ex65\n\n**Tags:** `multiway-tree`\n\nIl existe une notation particulière pour les arbres n-aires en Lisp. L'image\nmontre comment les structures d'arbres n-aires sont représentées en Lisp.\n\n<img src=\"data:image/png;base64,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\" alt=\"Représentation Lisp des arbres\">\n\nNotez que dans la notation \"lispy\", un nœud avec des successeurs (enfants) dans\nl'arbre est toujours le premier élément d'une liste, suivi de ses\nenfants. La représentation \"lispy\" d'un arbre n-aire est une séquence\nd'atomes et de parenthèses '(' et ')'. C'est très proche de la façon dont les arbres\nsont représentés en OCaml, sauf qu'aucun constructeur `T` n'est utilisé. Écrivez\nune fonction `lispy : char mult_tree -> string` qui retourne la\nnotation lispy de l'arbre.\n\n```ocaml\n# lispy (T ('a', []));;\n- : string = \"a\"\n# lispy (T ('a', [T ('b', [])]));;\n- : string = \"(a b)\"\n# lispy t;;\n- : string = \"(a (f g) c (b d e))\"\n```\n:::",
      "metadata": {
        "tags": []
      }
    },
    {
      "id": "68fe4087-f4b3-429e-bf1b-5ebacab5c145",
      "cell_type": "code",
      "source": "(* Votre réponse ici *)",
      "metadata": {
        "tags": []
      },
      "outputs": [],
      "execution_count": null
    },
    {
      "id": "7ac32779-ce3b-42eb-b5bd-510a31cca48a",
      "cell_type": "markdown",
      "source": ":::{solution} ex65\n:class: dropdown\n:label: sol65\n\n```ocaml\n# let rec add_lispy buf = function\n    | T(c, []) -> Buffer.add_char buf c\n    | T(c, sub) ->\n       Buffer.add_char buf '(';\n       Buffer.add_char buf c;\n       List.iter (fun t -> Buffer.add_char buf ' '; add_lispy buf t) sub;\n       Buffer.add_char buf ')'\n  let lispy t =\n    let buf = Buffer.create 128 in\n    add_lispy buf t;\n    Buffer.contents buf;;\nval add_lispy : Buffer.t -> char mult_tree -> unit = <fun>\nval lispy : char mult_tree -> string = <fun>\n```\n:::",
      "metadata": {
        "tags": []
      }
    },
    {
      "id": "5d85c2f9-4134-4796-88d6-a5cf852881c5",
      "cell_type": "markdown",
      "source": ":::{exercise} Conversions 🟢\n:label: ex66\n\n**Tags:** `graph`\n\n<img src=\"data:image/gif;base64,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\" alt=\"Un graphe\">\n\n*Un graphe est défini comme un ensemble de nœuds et un ensemble d'arêtes, où chaque\narête est une paire de nœuds différents.*\n\nIl existe plusieurs façons de représenter les graphes en OCaml.\n\n* Une méthode consiste à lister toutes les arêtes, une arête étant une paire de nœuds. Sous\n cette forme, le graphe représenté ci-dessus est représenté par\n l'expression suivante :\n\n```ocaml\n# [('h', 'g'); ('k', 'f'); ('f', 'b'); ('f', 'c'); ('c', 'b')];;\n- : (char * char) list =\n[('h', 'g'); ('k', 'f'); ('f', 'b'); ('f', 'c'); ('c', 'b')]\n```\n\nNous appelons cela la **forme de clause d'arête**. Évidemment, les nœuds isolés ne peuvent\npas être représentés.\n\n\n* Une autre méthode consiste à représenter le graphe entier comme un seul objet de données.\n Selon la définition du graphe comme une paire de deux ensembles\n (nœuds et arêtes), nous pouvons utiliser le type OCaml suivant :\n\n```ocaml\n# type 'a graph_term = {nodes : 'a list;  edges : ('a * 'a) list};;\ntype 'a graph_term = { nodes : 'a list; edges : ('a * 'a) list; }\n```\n\nAlors, l'exemple de graphe ci-dessus est représenté par :\n\n```ocaml\n# let example_graph =\n  {nodes = ['b'; 'c'; 'd'; 'f'; 'g'; 'h'; 'k'];\n   edges = [('h', 'g'); ('k', 'f'); ('f', 'b'); ('f', 'c'); ('c', 'b')]};;\nval example_graph : char graph_term =\n  {nodes = ['b'; 'c'; 'd'; 'f'; 'g'; 'h'; 'k'];\n   edges = [('h', 'g'); ('k', 'f'); ('f', 'b'); ('f', 'c'); ('c', 'b')]}\n```\n\nNous appelons cela la **forme de terme de graphe**. Notez que les listes sont conservées\ntriées, ce sont réellement des ensembles, sans éléments dupliqués. Chaque arête\napparaît une seule fois dans la liste des arêtes ; c'est-à-dire une arête d'un nœud x à\nun autre nœud y est représentée par `(x, y)`, le couple `(y, x)` n'est pas\nprésent. La **forme de terme de graphe est notre représentation par défaut.** Vous\npouvez vouloir définir un type similaire en utilisant des ensembles au lieu de listes.\n\n* Une troisième méthode de représentation consiste à associer à chaque nœud l'ensemble\n des nœuds qui lui sont adjacents. Nous appelons cela la\n **forme de liste d'adjacence**. Dans notre exemple :\n\n```ocaml\nlet adjacency_example = ['b', ['c'; 'f'];\n                         'c', ['b'; 'f'];\n                         'd', [];\n                         'f', ['b'; 'c'; 'k'];\n                         'g', ['h'];\n                         'h', ['g'];\n                         'k', ['f']\n                         ];;\nval adjacency_example : (char * char list) list =\n  [('b', ['c'; 'f']); ('c', ['b'; 'f']); ('d', []); ('f', ['b'; 'c'; 'k']);\n   ('g', ['h']); ('h', ['g']); ('k', ['f'])]\n```\n\n* Les représentations que nous avons introduites jusqu'à présent sont bien adaptées au\n traitement automatisé, mais leur syntaxe n'est pas très conviviale. Taper les\n termes à la main est fastidieux et source d'erreurs. Nous pouvons définir une notation plus\n compacte et \"conviviale\" comme suit : Un graphe (avec des nœuds étiquetés par des caractères)\n est représenté par une chaîne d'atomes et de termes du\n type X-Y. Les atomes représentent les nœuds isolés, les termes X-Y décrivent\n les arêtes. Si un X apparaît comme une extrémité d'une arête, il est\n automatiquement défini comme un nœud. Notre exemple pourrait être écrit comme suit :\n\n```ocaml\n# \"b-c f-c g-h d f-b k-f h-g\";;\n- : string = \"b-c f-c g-h d f-b k-f h-g\"\n```\n\nNous appelons cela la **forme conviviale**. Comme le montre l'exemple, la\nliste n'a pas besoin d'être triée et peut même contenir la même arête\nplusieurs fois. Notez le nœud isolé `d`.\n\nÉcrivez des fonctions pour convertir entre les différentes représentations de graphes.\nAvec ces fonctions, toutes les représentations sont équivalentes ; c'est-à-dire que pour les\nproblèmes suivants, vous pouvez toujours choisir librement la forme la plus pratique.\nCe problème n'est pas particulièrement difficile, mais c'est beaucoup de travail pour\ntraiter tous les cas spéciaux.\n:::",
      "metadata": {
        "tags": []
      }
    },
    {
      "id": "c09fc78c-a328-4770-b90e-c858e87614a2",
      "cell_type": "code",
      "source": "(* Votre réponse ici *)",
      "metadata": {
        "tags": []
      },
      "outputs": [],
      "execution_count": null
    },
    {
      "id": "b4bea7ef-a6ff-43dc-918d-800cceef53d8",
      "cell_type": "markdown",
      "source": ":::{solution} ex66\n:class: dropdown\n:label: sol66\n\n```ocaml\n(* exemple en attente *)\n```\n:::",
      "metadata": {
        "tags": []
      }
    },
    {
      "id": "e8314d64-7c15-4535-8713-929fb8340525",
      "cell_type": "markdown",
      "source": ":::{exercise} Chemin d'un Nœud à un Autre 🟡\n:label: ex67\n\n**Tags:** `graph`\n\nÉcrivez une fonction `paths g a b` qui retourne tous les chemins acycliques `p` du\nnœud `a` au nœud `b ≠ a` dans le graphe `g`. La fonction doit retourner\nla liste de tous les chemins via le backtracking.\n\n```ocaml\n# let example_graph =\n  {nodes = ['b'; 'c'; 'd'; 'f'; 'g'; 'h'; 'k'];\n   edges = [('h', 'g'); ('k', 'f'); ('f', 'b'); ('f', 'c'); ('c', 'b')]};;\nval example_graph : char graph_term =\n  {nodes = ['b'; 'c'; 'd'; 'f'; 'g'; 'h'; 'k'];\n   edges = [('h', 'g'); ('k', 'f'); ('f', 'b'); ('f', 'c'); ('c', 'b')]}\n# paths example_graph 'f' 'b';;\n- : char list list = [['f'; 'c'; 'b']; ['f'; 'b']]\n```\n:::",
      "metadata": {
        "tags": []
      }
    },
    {
      "id": "fb8a3cb8-3e45-4890-949b-b5520b8ee719",
      "cell_type": "code",
      "source": "(* Votre réponse ici *)",
      "metadata": {
        "tags": []
      },
      "outputs": [],
      "execution_count": null
    },
    {
      "id": "74392f7b-3bfc-46ad-8f70-673d72472c20",
      "cell_type": "markdown",
      "source": ":::{solution} ex67\n:class: dropdown\n:label: sol67\n\n```ocaml\n# (* Les structures de données utilisées ici sont loin d'être les plus efficaces\n     mais permettent une implémentation simple. *)\n  (* Retourne tous les voisins satisfaisant la condition. *)\n  let neighbors g a cond =\n    let edge l (b, c) = if b = a && cond c then c :: l\n                        else if c = a && cond b then b :: l\n                        else l in\n    List.fold_left edge [] g.edges\n  let rec list_path g a to_b = match to_b with\n    | [] -> assert false (* [to_b] contient le chemin vers [b]. *)\n    | a' :: _ ->\n       if a' = a then [to_b]\n       else\n         let n = neighbors g a' (fun c -> not (List.mem c to_b)) in\n           List.concat_map (fun c -> list_path g a (c :: to_b)) n\n\n  let paths g a b =\n    assert(a <> b);\n    list_path g a [b];;\nval neighbors : 'a graph_term -> 'a -> ('a -> bool) -> 'a list = <fun>\nval list_path : 'a graph_term -> 'a -> 'a list -> 'a list list = <fun>\nval paths : 'a graph_term -> 'a -> 'a -> 'a list list = <fun>\n```\n:::",
      "metadata": {
        "tags": []
      }
    },
    {
      "id": "ee5a8394-e3c9-4ba2-9f77-48cb6eaf21c3",
      "cell_type": "markdown",
      "source": ":::{exercise} Cycle à Partir d'un Nœud Donné 🟢\n:label: ex68\n\n**Tags:** `graph`\n\nÉcrivez une fonction `cycle g a` qui retourne un chemin fermé (cycle) `p`\ncommençant à un nœud donné `a` dans le graphe `g`. Le prédicat doit\nretourner la liste de tous les cycles via le backtracking.\n\n```ocaml\n# let example_graph =\n  {nodes = ['b'; 'c'; 'd'; 'f'; 'g'; 'h'; 'k'];\n   edges = [('h', 'g'); ('k', 'f'); ('f', 'b'); ('f', 'c'); ('c', 'b')]};;\nval example_graph : char graph_term =\n  {nodes = ['b'; 'c'; 'd'; 'f'; 'g'; 'h'; 'k'];\n   edges = [('h', 'g'); ('k', 'f'); ('f', 'b'); ('f', 'c'); ('c', 'b')]}\n# cycles example_graph 'f';;\n- : char list list =\n[['f'; 'b'; 'c'; 'f']; ['f'; 'c'; 'f']; ['f'; 'c'; 'b'; 'f'];\n ['f'; 'b'; 'f']; ['f'; 'k'; 'f']]\n```\n:::",
      "metadata": {
        "tags": []
      }
    },
    {
      "id": "2b87f387-25f0-4780-b863-baa0db88e16c",
      "cell_type": "code",
      "source": "(* Votre réponse ici *)",
      "metadata": {
        "tags": []
      },
      "outputs": [],
      "execution_count": null
    },
    {
      "id": "48c7c9e2-7695-40ab-8201-cd381473e04a",
      "cell_type": "markdown",
      "source": ":::{solution} ex68\n:class: dropdown\n:label: sol68\n\n```ocaml\n# let cycles g a =\n    let n = neighbors g a (fun _ -> true) in\n    let p = List.concat_map (fun c -> list_path g a [c]) n in\n    List.map (fun p -> p @ [a]) p;;\nval cycles : 'a graph_term -> 'a -> 'a list list = <fun>\n```\n:::",
      "metadata": {
        "tags": []
      }
    },
    {
      "id": "6d567092-33e2-400c-ae93-88e176896803",
      "cell_type": "markdown",
      "source": ":::{exercise} Construire Tous les Arbres Couvrants 🟡\n:label: ex69\n\n**Tags:** `graph`\n\n<img src=\"data:image/gif;base64,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\" alt=\"Graphe d'arbre couvrant\">\n\nÉcrivez une fonction `s_tree g` pour construire (par backtracking) tous les [arbres\ncouvrants](https://fr.wikipedia.org/wiki/Arbre_couvrant) d'un graphe donné `g`.\nAvec ce prédicat, trouvez combien d'arbres couvrants il y a pour le\ngraphe représenté à gauche. Les données de cet exemple de graphe se trouvent\ndans le test ci-dessous. Lorsque vous avez une solution correcte pour la fonction `s_tree`,\nutilisez-la pour définir deux autres fonctions utiles : `is_tree graph`\net `is_connected Graph`. Les deux sont des tâches de cinq minutes !\n\n```ocaml\n# let g = {nodes = ['a'; 'b'; 'c'; 'd'; 'e'; 'f'; 'g'; 'h'];\n         edges = [('a', 'b'); ('a', 'd'); ('b', 'c'); ('b', 'e');\n                  ('c', 'e'); ('d', 'e'); ('d', 'f'); ('d', 'g');\n                  ('e', 'h'); ('f', 'g'); ('g', 'h')]};;\nval g : char graph_term =\n  {nodes = ['a'; 'b'; 'c'; 'd'; 'e'; 'f'; 'g'; 'h'];\n   edges =\n    [('a', 'b'); ('a', 'd'); ('b', 'c'); ('b', 'e'); ('c', 'e'); ('d', 'e');\n     ('d', 'f'); ('d', 'g'); ('e', 'h'); ('f', 'g'); ('g', 'h')]}\n```\n:::",
      "metadata": {
        "tags": []
      }
    },
    {
      "id": "ef91815c-86cf-4b79-a877-d4407a05f768",
      "cell_type": "code",
      "source": "(* Votre réponse ici *)",
      "metadata": {
        "tags": []
      },
      "outputs": [],
      "execution_count": null
    },
    {
      "id": "ed30b3c9-a0d6-4966-85f8-13a5df9da2a2",
      "cell_type": "markdown",
      "source": ":::{solution} ex69\n:class: dropdown\n:label: sol69\n\n```ocaml\n(* solution en attente *);;\n```\n:::",
      "metadata": {
        "tags": []
      }
    },
    {
      "id": "a789ab36-c659-4ada-8aa0-1efd84f8a842",
      "cell_type": "markdown",
      "source": ":::{exercise} Construire l'Arbre Couvrant Minimal 🟡\n:label: ex70\n\n**Tags:** `graph`\n\n<img src=\"data:image/gif;base64,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\" alt=\"Graphe d'arbre couvrant\">\n\nÉcrivez une fonction `ms_tree graph` pour construire l'arbre couvrant minimal\nd'un graphe étiqueté donné. Un graphe étiqueté sera représenté comme\nsuit :\n\n```ocaml\n# type ('a, 'b) labeled_graph = {nodes : 'a list;\n                               labeled_edges : ('a * 'a * 'b) list};;\ntype ('a, 'b) labeled_graph = {\n  nodes : 'a list;\n  labeled_edges : ('a * 'a * 'b) list;\n}\n```\n\n(Attention, à partir de maintenant, `nodes` et `edges` masquent les champs précédents\ndu même nom.)\n\n**Indice :** Utilisez l'[algorithme de Prim](https://fr.wikipedia.org/wiki/Algorithme_de_Prim).\nUne petite modification de la solution de P83 fait l'affaire. Les données de l'exemple\nde graphe à droite se trouvent ci-dessous.\n\n```ocaml\n# let g = {nodes = ['a'; 'b'; 'c'; 'd'; 'e'; 'f'; 'g'; 'h'];\n         labeled_edges = [('a', 'b', 5); ('a', 'd', 3); ('b', 'c', 2);\n                          ('b', 'e', 4); ('c', 'e', 6); ('d', 'e', 7);\n                          ('d', 'f', 4); ('d', 'g', 3); ('e', 'h', 5);\n                          ('f', 'g', 4); ('g', 'h', 1)]};;\nval g : (char, int) labeled_graph =\n  {nodes = ['a'; 'b'; 'c'; 'd'; 'e'; 'f'; 'g'; 'h'];\n   labeled_edges =\n    [('a', 'b', 5); ('a', 'd', 3); ('b', 'c', 2); ('b', 'e', 4);\n     ('c', 'e', 6); ('d', 'e', 7); ('d', 'f', 4); ('d', 'g', 3);\n     ('e', 'h', 5); ('f', 'g', 4); ('g', 'h', 1)]}\n```\n:::",
      "metadata": {
        "tags": []
      }
    },
    {
      "id": "ab8c4f0e-d190-4a58-9837-84eceebad62b",
      "cell_type": "code",
      "source": "(* Votre réponse ici *)",
      "metadata": {
        "tags": []
      },
      "outputs": [],
      "execution_count": null
    },
    {
      "id": "e9ddde9e-c2ee-4d3f-bf78-35b07fec4596",
      "cell_type": "markdown",
      "source": ":::{solution} ex70\n:class: dropdown\n:label: sol70\n\n```ocaml\n(* solution en attente *);;\n```\n:::",
      "metadata": {
        "tags": []
      }
    },
    {
      "id": "614ba3ac-88d2-4d49-b4ad-ea8d66fe4825",
      "cell_type": "markdown",
      "source": ":::{exercise} Isomorphisme de Graphes 🟡\n:label: ex71\n\n**Tags:** `graph`\n\nDeux graphes G1(N1,E1) et G2(N2,E2) sont isomorphes s'il existe une\nbijection f: N1 → N2 telle que pour tous les nœuds X,Y de N1, X et Y sont\nadjacents si et seulement si f(X) et f(Y) sont adjacents.\n\nÉcrivez une fonction qui détermine si deux graphes sont isomorphes.\n\n**Indice :** Utilisez une liste ouverte pour représenter la fonction f.\n\n```ocaml\n# let g = {nodes = [1; 2; 3; 4; 5; 6; 7; 8];\n         edges = [(1, 5); (1, 6); (1, 7); (2, 5); (2, 6); (2, 8); (3, 5);\n                  (3, 7); (3, 8); (4, 6); (4, 7); (4, 8)]};;\nval g : int graph_term =\n  {nodes = [1; 2; 3; 4; 5; 6; 7; 8];\n   edges =\n    [(1, 5); (1, 6); (1, 7); (2, 5); (2, 6); (2, 8); (3, 5); (3, 7);\n     (3, 8); (4, 6); (4, 7); (4, 8)]}\n```\n:::",
      "metadata": {
        "tags": []
      }
    },
    {
      "id": "7f450af5-2a5b-44a6-8a7a-3f417059d67a",
      "cell_type": "code",
      "source": "(* Votre réponse ici *)",
      "metadata": {
        "tags": []
      },
      "outputs": [],
      "execution_count": null
    },
    {
      "id": "cb8df247-b6c7-4d67-b2a2-daf7da9d779f",
      "cell_type": "markdown",
      "source": ":::{solution} ex71\n:class: dropdown\n:label: sol71\n\n```ocaml\n(* solution en attente *);;\n```\n:::",
      "metadata": {
        "tags": []
      }
    },
    {
      "id": "38525bf7-a301-4ccf-8169-275d41331821",
      "cell_type": "markdown",
      "source": ":::{exercise} Degré des Nœuds et Coloration de Graphe 🟡\n:label: ex72\n\n**Tags:** `graph`\n\n* Écrivez une fonction `degree graph node` qui détermine le degré d'un\n nœud donné.\n* Écrivez une fonction qui génère une liste de tous les nœuds d'un graphe\n triés par degré décroissant.\n* Utilisez l'algorithme de [Welsh-Powell](https://fr.wikipedia.org/wiki/Algorithme_de_Welsh_et_Powell)\n pour colorier les nœuds d'un graphe de telle manière que les nœuds adjacents aient\n des couleurs différentes.\n:::",
      "metadata": {
        "tags": []
      }
    },
    {
      "id": "c9320e2b-ea5b-4ce0-925b-23e8bc3f318d",
      "cell_type": "code",
      "source": "(* Votre réponse ici *)",
      "metadata": {
        "tags": []
      },
      "outputs": [],
      "execution_count": null
    },
    {
      "id": "769548e0-57ec-4722-acdd-37a6b4842ebb",
      "cell_type": "markdown",
      "source": ":::{solution} ex72\n:class: dropdown\n:label: sol72\n\n```ocaml\n(* exemple en attente *);;\n```\n:::",
      "metadata": {
        "tags": []
      }
    },
    {
      "id": "f32f1626-4ae4-4e22-9d18-feeeb788ec8c",
      "cell_type": "markdown",
      "source": ":::{exercise} Parcours de Graphe en Profondeur 🟡\n:label: ex73\n\n**Tags:** `graph`\n\nÉcrivez une fonction qui génère une\n[séquence de parcours de graphe en profondeur](https://fr.wikipedia.org/wiki/Parcours_en_profondeur).\nLe point de départ doit être spécifié, et la sortie doit\nêtre une liste de nœuds accessibles depuis ce point de départ (dans l'ordre\ndu parcours en profondeur).\n\nPlus précisément, le graphe sera fourni par sa\n[représentation en liste d'adjacence](https://fr.wikipedia.org/wiki/Liste_d%27adjacence)\net vous devez créer un module `M` avec la signature suivante :\n\n```ocaml\n# module type GRAPH = sig\n    type node = char\n    type t\n    val of_adjacency : (node * node list) list -> t\n    val dfs_fold : t -> node -> ('a -> node -> 'a) -> 'a -> 'a\n  end;;\nmodule type GRAPH =\n  sig\n    type node = char\n    type t\n    val of_adjacency : (node * node list) list -> t\n    val dfs_fold : t -> node -> ('a -> node -> 'a) -> 'a -> 'a\n  end\n```\n\noù `M.dfs_fold g n f a` applique `f` sur les nœuds du graphe\n`g` dans l'ordre du parcours en profondeur, en commençant par le nœud `n`.\n\n```ocaml\n# let g = M.of_adjacency\n          ['u', ['v'; 'x'];\n           'v',      ['y'];\n           'w', ['z'; 'y'];\n           'x',      ['v'];\n           'y',      ['x'];\n           'z',      ['z'];\n          ];;\nval g : M.t = <abstr>\n```\n:::",
      "metadata": {
        "tags": []
      }
    },
    {
      "id": "6d77dc05-98c1-4f63-b74d-186a1b30e248",
      "cell_type": "code",
      "source": "(* Votre réponse ici *)",
      "metadata": {
        "tags": []
      },
      "outputs": [],
      "execution_count": null
    },
    {
      "id": "f043870f-6c5c-449d-ab94-288bea45eede",
      "cell_type": "markdown",
      "source": ":::{solution} ex73\n:class: dropdown\n:label: sol73\n\n```ocaml\n# module M : GRAPH = struct\n\n    module Char_map = Map.Make (Char)\n    type node = char\n    type t = (node list) Char_map.t\n\n    let of_adjacency l = \n      List.fold_right (fun (x, y) -> Char_map.add x y) l Char_map.empty\n\n    type colors = White|Gray|Black\n\n    type 'a state = {\n        d : int Char_map.t; (*temps de découverte*)\n      f : int Char_map.t; (*temps de fin*)\n      pred : char Char_map.t; (*prédécesseur*)\n      color : colors Char_map.t; (*couleurs des sommets*)\n      acc : 'a; (*type spécifié par l'utilisateur utilisé par 'fold'*)\n    }\n\n    let dfs_fold g c fn acc =\n      let rec dfs_visit t u {d; f; pred; color; acc} =\n        let edge (t, state) v =\n          if Char_map.find v state.color = White then\n            dfs_visit t v {state with pred = Char_map.add v u state.pred}\n          else  (t, state)\n        in\n        let t, {d; f; pred; color; acc} =\n          let t = t + 1 in\n          List.fold_left edge\n            (t, {d = Char_map.add u t d; f;\n                 pred; color = Char_map.add u Gray color; acc = fn acc u})\n            (Char_map.find u g)\n        in\n        let t = t + 1 in\n        t , {d; f = Char_map.add u t f; pred;\n             color = Char_map.add u Black color; acc}\n      in\n      let v = List.fold_left (fun k (x, _) -> x :: k) []\n                             (Char_map.bindings g) in\n      let initial_state= \n        {d = Char_map.empty;\n         f = Char_map.empty;\n         pred = Char_map.empty;\n         color = List.fold_right (fun x -> Char_map.add x White)\n                                 v Char_map.empty;\n         acc}\n      in\n      (snd (dfs_visit 0 c initial_state)).acc\n  end;;\nmodule M : GRAPH\n```\n:::",
      "metadata": {
        "tags": []
      }
    },
    {
      "id": "62dc8e8a-d13d-4c0c-985c-9f20e993dbd5",
      "cell_type": "markdown",
      "source": ":::{exercise} Composantes Connexes 🟡\n:label: ex74\n\n**Tags:** `graph`\n\nÉcrivez un prédicat qui divise un graphe en ses [composantes\nconnexes](https://fr.wikipedia.org/wiki/Composante_connexe).\n:::",
      "metadata": {
        "tags": []
      }
    },
    {
      "id": "db346832-c4fa-4c65-a0e4-58bf5c11fc96",
      "cell_type": "code",
      "source": "(* Votre réponse ici *)",
      "metadata": {
        "tags": []
      },
      "outputs": [],
      "execution_count": null
    },
    {
      "id": "ca63b1f9-7e7d-483a-9bd7-6cd31a37dd04",
      "cell_type": "markdown",
      "source": ":::{solution} ex74\n:class: dropdown\n:label: sol74\n\n```ocaml\n(* exemple en attente *);;\n```\n:::",
      "metadata": {
        "tags": []
      }
    },
    {
      "id": "5e6c1840-4bbd-4cea-8c5e-6e286cd5b441",
      "cell_type": "markdown",
      "source": ":::{exercise} Graphes Bipartis 🟡\n:label: ex75\n\n**Tags:** `graph`\n\nÉcrivez un prédicat qui détermine si un graphe donné est\n[biparti](https://fr.wikipedia.org/wiki/Graphe_biparti).\n:::",
      "metadata": {
        "tags": []
      }
    },
    {
      "id": "c91a2e80-ba17-46fe-be49-3c9bb80e44d8",
      "cell_type": "code",
      "source": "(* Votre réponse ici *)",
      "metadata": {
        "tags": []
      },
      "outputs": [],
      "execution_count": null
    },
    {
      "id": "28e2375a-9278-4c48-b1a0-6b4a6f1905fa",
      "cell_type": "markdown",
      "source": ":::{solution} ex75\n:class: dropdown\n:label: sol75\n\n```ocaml\n(* exemple en attente *);;\n```\n:::",
      "metadata": {
        "tags": []
      }
    },
    {
      "id": "2a30b267-f80f-4b39-b90c-529c6cb5b7d2",
      "cell_type": "markdown",
      "source": ":::{exercise} Générer des Graphes Simples K-réguliers avec N Nœuds 🔴\n:label: ex76\n\n**Tags:** `graph`\n\nDans un [graphe K-régulier](https://fr.wikipedia.org/wiki/Graphe_r%C3%A9gulier) tous\nles nœuds ont un degré K ; c'est-à-dire que le nombre d'arêtes incidentes à chaque nœud\nest K. Combien y a-t-il de graphes 3-réguliers (non-isomorphes !) avec 6 nœuds ?\n\nVoir aussi la [table des résultats](https://www.ic.unicamp.br/~meidanis/courses/mc336/2009s2/prolog/problemas/p94.txt).\n:::",
      "metadata": {
        "tags": []
      }
    },
    {
      "id": "475dd9d1-6eb9-4155-8297-35a70a23c799",
      "cell_type": "code",
      "source": "(* Votre réponse ici *)",
      "metadata": {
        "tags": []
      },
      "outputs": [],
      "execution_count": null
    },
    {
      "id": "55ce36b8-cef7-4dc3-9c73-985a4e8f0aa3",
      "cell_type": "markdown",
      "source": ":::{solution} ex76\n:class: dropdown\n:label: sol76\n\n```ocaml\n(* exemple en attente *);;\n```\n:::",
      "metadata": {
        "tags": []
      }
    },
    {
      "id": "44ddafeb-9178-4d6f-825a-9041148e0002",
      "cell_type": "markdown",
      "source": ":::{exercise} Problème des Huit Dames 🟡\n:label: ex77\n\nC'est un problème classique en informatique. L'objectif est de\nplacer huit dames sur un échiquier de sorte qu'aucune paire de dames ne s'attaque\nmutuellement ; c'est-à-dire que deux dames ne peuvent pas être sur la même ligne, la même colonne, ou\nsur la même diagonale.\n\n**Indice :** Représentez les positions des dames comme une liste de nombres de 1 à N.\nExemple : `[4; 2; 7; 3; 6; 8; 5; 1]` signifie que la dame de la première colonne est\nsur la ligne 4, la dame de la deuxième colonne est sur la ligne 2, etc. Utilisez le\nparadigme générer-et-tester.\n\n```ocaml\n# queens_positions 4;;\n- : int list list = [[3; 1; 4; 2]; [2; 4; 1; 3]]\n```\n:::",
      "metadata": {
        "tags": []
      }
    },
    {
      "id": "b609f58e-1215-4a56-b4cc-1a3128af9a5b",
      "cell_type": "code",
      "source": "(* Votre réponse ici *)",
      "metadata": {
        "tags": []
      },
      "outputs": [],
      "execution_count": null
    },
    {
      "id": "d590ac0c-8635-4b54-a71d-2b4945a734f7",
      "cell_type": "markdown",
      "source": ":::{solution} ex77\n:class: dropdown\n:label: sol77\n\n```ocaml\n# let possible row col used_rows usedD1 usedD2 =\n    not (List.mem row used_rows\n         || List.mem (row + col) usedD1\n         || List.mem (row - col) usedD2)\n         let queens_positions n =\n    let rec aux row col used_rows usedD1 usedD2 =\n      if col > n then [List.rev used_rows]\n      else\n        (if row < n then aux (row + 1) col used_rows usedD1 usedD2\n         else [])\n        @ (if possible row col used_rows usedD1 usedD2 then\n             aux 1 (col + 1) (row :: used_rows) (row + col :: usedD1)\n                 (row - col :: usedD2)\n           else [])\n    in aux 1 1 [] [] [];;\nval possible : int -> int -> int list -> int list -> int list -> bool = <fun>\nval queens_positions : int -> int list list = <fun>\n```\n:::",
      "metadata": {
        "tags": []
      }
    },
    {
      "id": "e12051fb-a244-4554-a3ad-a77cadc3e42b",
      "cell_type": "markdown",
      "source": ":::{exercise} Le Problème du Cavalier 🟡\n:label: ex78\n\nUn autre problème célèbre est celui-ci : Comment un cavalier peut-il se déplacer sur un échiquier N×N\nde manière à visiter chaque case exactement une fois ?\n\n**Indice :** Représentez les cases par des paires de leurs coordonnées `(x,y)`,\noù `x` et `y` sont des entiers entre 1 et N. Définissez la fonction\n`jump n (x,y)` qui retourne toutes les coordonnées `(u,v)` vers lesquelles un\ncavalier peut sauter depuis `(x,y)` sur un échiquier `n`×`n`. Et enfin,\nreprésentez la solution de notre problème comme une liste de positions du cavalier (le\nparcours du cavalier).\n:::",
      "metadata": {
        "tags": []
      }
    },
    {
      "id": "9114b472-2b64-4117-a683-e6993a599ca9",
      "cell_type": "code",
      "source": "(* Votre réponse ici *)",
      "metadata": {
        "tags": []
      },
      "outputs": [],
      "execution_count": null
    },
    {
      "id": "a808fc7d-477b-4817-8126-5c6c15405f4b",
      "cell_type": "markdown",
      "source": ":::{solution} ex78\n:class: dropdown\n:label: sol78\n\n```ocaml\n(* exemple en attente *);;\n```\n:::",
      "metadata": {
        "tags": []
      }
    },
    {
      "id": "174d6ddd-b68c-45a7-a3c3-6286fc9c6bd1",
      "cell_type": "markdown",
      "source": ":::{exercise} La Conjecture de Von Koch 🔴\n:label: ex79\n\nIl y a plusieurs années, j'ai rencontré un mathématicien intrigué par un problème\npour lequel il ne connaissait pas de solution. Son nom était Von Koch, et je ne\nsais pas si le problème a été résolu depuis.\n\n<img src=\"data:image/gif;base64,R0lGODdhEQGLAHcAACH5BAUAAP8ALAAAAAARAYsAhwQCBPz+/PwCBAAAAAAAAAAAAAAAAAAAAAAAAAAAAAAAAAAAAAAAAAAAAAAAAAAAAAAAAAAAAAAAAAAAAAAAAAAAAAAAAAAAAAAAAAAAAAAAAAAAAAAAAAAAAAAAAAAAAAAAAAAAAAAAAAAAAAAAAAAAAAAAAAAAAAAAAAAAAAAAAAAAAAAAAAAAAAAAAAAAAAAAAAAAAAAAAAAAAAAAAAAAAAAAAAAAAAAAAAAAAAAAAAAAAAAAAAAAAAAAAAAAAAAAAAAAAAAAAAAAAAAAAAAAAAAAAAAAAAAAAAAAAAAAAAAAAAAAAAAAAAAAAAAAAAAAAAAAAAAAAAAAAAAAAAAAAAAAAAAAAAAAAAAAAAAAAAAAAAAAAAAAAAAAAAAAAAAAAAAAAAAAAAAAAAAAAAAAAAAAAAAAAAAAAAAAAAAAAAAAAAAAAAAAAAAAAAAAAAAAAAAAAAAAAAAAAAAAAAAAAAAAAAAAAAAAAAAAAAAAAAAAAAAAAAAAAAAAAAAAAAAAAAAAAAAAAAAAAAAAAAAAAAAAAAAAAAAAAAAAAAAAAAAAAAAAAAAAAAAAAAAAAAAAAAAAAAAAAAAAAAAAAAAAAAAAAAAAAAAAAAAAAAAAAAAAAAAAAAAAAAAAAAAAAAAAAAAAAAAAAAAAAAAAAAAAAAAAAAAAAAAAAAAAAAAAAAAAAAAAAAAAAAAAAAAAAAAAAAAAAAAAAAAAAAAAAAAAAAAAAAAAAAAAAAAAAAAAAAAAAAAAAAAAAAAAAAAAAAAAAAAAAAAAAAAAAAAAAAAAAAAAAAAAAAAAAAAAAAAAAAAAAAAAAAAAAAAAAAAAAAAAAAAAAAAAAAAAAAAAAAAAAAAAAAAAAAAAAAAAAAAAAAAAAAAAAAAAAAAAAAAAAAAAAAAAAAAAAAAAAAAAAAAAAAAAAAAAAAAAAAAAAAAAAAAAAAAAAAAAAAAAAAAAAAAAAAAAAAAAAAAAAAAAAAAAAAAAAAAAAAAAAAAAAAAAAAAAAAAAAAAAAAAAAAAAAAj/AAMIHEiwoMGDCBMqXMiwocOHECNKnEixosWLGDNq3Mixo8ePIEOKHEmypMmTKFOqXMmypcuXMGPKnEmzps2bOA0KyMmzp0+TO38KHUqUooCgRZMqXSpwJ1KmUKP2fCq1qtWYVK9q3XoyK9evYDt6DUu27MSxZtOqTYh2rVu3bUkCiDkXZt2Xd13mrRiX4d6GAAILFpxysOHChgmjTKz4JOPAiBn7PZy4ZOXKcikfzjw4AOaRlzeD1twZYWODpz+mJri6Y2uBrzfGjq1xNmSRtv96vo0aNm+PtHfrrv3b98DgFlfnRV7x9GbmFFP/ll6c9fHqGZlDj6gcNXaMrfdu/4co/eD4h+XFTx8OmzX75O8Lfr+IXfd8+Ob/3m+u33T86P3pd1d9kKnnmn0EHphfdftJVJ9n+Skon0INctcfhN4ZN6GG10loXXvy/Wehaf552FuGHDEYnojkXYgghyAeF6KJGMroHo02oigbey+meGGNHfq4IZBBFifejEJ+mKNxjzXp5G4kRpikeVLuuJCBTmYZ2pAvMjgkjOAJKBqTWpY5W4lWJtQjcX7NaOabX/Zo5JdQThkjmmmeqCObUSKZZ59ghuneZxrOqWSg9B15aJ1/Lhpko44yyueSRFbYoppSegmmpej9KCCOd95oJ52I4sflntnxmCmCcxk4qm9rTv9Kaqn8YYqqoN7FmqqtfnLK6aUO/drpsMCxKCmkahoLLGDLVXhesM4KC62IzzJLrbTWZlvsterFV+20V2ILLoXiapusshZ6W+5k6rJ67mg8rmturvC+i9t833Ya775PctYvvP/em6VlWhI8cLiSLfZYZIQa3LC/Yzoc8VsUV0ysXuiGJe+uUG2Mq8WiYhyVx4mC7GdLJKOccbEmh6zyyCuDWnHKtXYc86sW0wwgzHbdLNRRR4XbM0JA+6TzREfT9FRbSY+o00B94eWzrFtRxfTUHBNkNU9NL8tV1I++XNDWOXV98dcBFC201AyBzZLZ0IYVdFNri6yQ229j/THaWpP/OzRbRutdMlhk4ym2TngfrnjVY/vN9tNCwc2s3I0n+3ffQ0k+GVlIxaV53VAT9bnjcs9N+uJpA602TqNb3jKtjgmOukqtcy17zUzVXmXLut9aVO8nmwy8y0oNH7bwt+9s8+W8J4+084gxj7z0SRkPu1vWH1s99E6/nn324NElvl3j4+XgwgonHLv6JjXJ8MQAwx9iZw+rRlq+LdIv/4H6lxZ/q/vzUf9yY6+QEFBgBQTJAQ2IL7gtcFAIY2BdhoO/CJKLe8IRznO65pz1YLCDvKEOt+w3oATuaITb4lUF/bOcJa1wQYca0HrO9qf3JM1X0MNX8GSlqOspL1TNOp4G/z81KgDqam/XOeLgqOQ7U1HKVY1S16bopDMjlXCHS8wREZEVKh92j4nEQ6IRV3UlLDoRiGbEHRrDmMVIaa+NsNpd1jhExPtYcYhvkoyhnmjEPC5sj4aboxsL5Ef32TFDhTRkD4EIwAW1yk2JdB8VIRlJ9nUxjc8DFCUrGUBG4pGTP/LksRb5xjNWCpOZdKMQ4UgkNpqSlFWEJZIAWank0RKKVIOlLe3juihScZeTFBUg71jEK7pSjTHaItVaecwfarGJyKxRHcXUyFW+MoPQdGYS5YhEZlozmthE5flgqCMc2o+Gy+wlzgKZTnYK8nTauWG0cjhPEs7rhPckDgq3ef9BCVrQnv1U4H5eyMJ/pjCg8zPhQcnpz4Ii0KEPMV0++emQ1U00jiwMmAQ1KtCD/c+SbUtbujh6t9Dpi6Tzq5/AVLrRTm6LpSVNHKxgepDCTYumrzNLUGS6EZvGLqczWddOZcLTdwI1b3wxaUssGr2jUi+iSn1JUbvpVNrFbGkzmaopq2pVo6iOqUCpXFO5ilSMaPUiPm0fBp361dMldalRVRhZPQI2j53VrBId61w1Ute1rgV8ZXEbYHm2V76CNZuFFWdiG9I50C1WnY81q1sji1jKQhWylm1mZis62c2W0rNEEys3PTtYytGts5stben6otqltHZ6oNVsbLUJ2tfegsy2v/NrZnErOt1alreZ8y1lgRs54UaWuD9B7l+NSxblqsW5PWHuY6W7FUnOlj8gLWxo/HfdkxKSu3t9YHcNmlDtDhS6ufMgBOcaT+q+xTkuRO9P4zZedS5SvgSDIS7rezxdclVTo3Tvc72l2PfKUraxPWSBsXfgb3ZXh5U1sJ5EyV9rfge/owmmg68L4NE2T8NerC0pIyxhLu23wrQkMYP1u+DUdgu8GM4wrz5bX3OStTE9JGh468ne27QQoxVmKER7PEEcx3h7+5puwYKMMJQSGadMTiKUo0xlywYEADs=\" alt=\"Numérotation d'arbre\">\n\nQuoi qu'il en soit, l'énigme est la suivante : Étant donné un arbre avec N nœuds (et donc\nN-1 arêtes). Trouvez un moyen d'énumérer les nœuds de 1 à N et,\nen conséquence, les arêtes de 1 à N-1 de telle manière que, pour chaque arête K,\nla différence de ses numéros de nœuds soit égale à K. La conjecture est que\nc'est toujours possible.\n\nPour les petits arbres, le problème est facile à résoudre à la main. Cependant, pour\nles arbres plus grands, et 14 est déjà très grand, il est extrêmement difficile de\ntrouver une solution. Et rappelez-vous, nous ne savons pas avec certitude s'il y a\ntoujours une solution !\n\n<img src=\"data:image/gif;base64,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\" alt=\"Arbre plus grand\">\n\nÉcrivez une fonction qui calcule un schéma de numérotation pour un arbre donné.\nQuelle est la solution pour l'arbre plus grand illustré ici ?\n:::",
      "metadata": {
        "tags": []
      }
    },
    {
      "id": "b42fce3c-23c0-44f8-ae42-40f9978f27dc",
      "cell_type": "code",
      "source": "(* Votre réponse ici *)",
      "metadata": {
        "tags": []
      },
      "outputs": [],
      "execution_count": null
    },
    {
      "id": "a6ad3cdc-86ae-4318-aab5-52eb8eadc428",
      "cell_type": "markdown",
      "source": ":::{solution} ex79\n:class: dropdown\n:label: sol79\n\n```ocaml\n(* exemple en attente *);;\n```\n:::",
      "metadata": {
        "tags": []
      }
    },
    {
      "id": "981206aa-b41b-4f8e-8075-a4d94ff3e059",
      "cell_type": "markdown",
      "source": ":::{exercise} Un Puzzle Arithmétique 🔴\n:label: ex80\n\nÉtant donné une liste de nombres entiers, trouvez une manière correcte d'insérer\ndes signes arithmétiques (opérateurs) de sorte que le résultat soit une équation correcte.\nExemple : Avec la liste de nombres `[2; 3; 5; 7; 11]`, nous pouvons former les\néquations 2 - 3 + 5 + 7 = 11 ou 2 = (3 * 5 + 7) / 11 (et dix autres !).\n:::",
      "metadata": {
        "tags": []
      }
    },
    {
      "id": "2ac10aea-05ce-4fd5-b67e-4d39ac265f69",
      "cell_type": "code",
      "source": "(* Votre réponse ici *)",
      "metadata": {
        "tags": []
      },
      "outputs": [],
      "execution_count": null
    },
    {
      "id": "343624b7-d1ff-4aa9-8e4a-6250285b5196",
      "cell_type": "markdown",
      "source": ":::{solution} ex80\n:class: dropdown\n:label: sol80\n\n```ocaml\n(* exemple en attente *);;\n```\n:::",
      "metadata": {
        "tags": []
      }
    },
    {
      "id": "04ba6876-5bc7-43df-93c0-b1fabf7f01e4",
      "cell_type": "markdown",
      "source": ":::{exercise} Nombres en Toutes Lettres 🟡\n:label: ex81\n\nSur les documents financiers, comme les chèques, les nombres doivent parfois être écrits\nen toutes lettres. Exemple : 175 doit être écrit comme un-sept-cinq. Écrivez une\nfonction `full_words` pour imprimer les nombres entiers (non négatifs) en toutes\nlettres.\n\n```ocaml\n# full_words 175;;\n- : string = \"un-sept-cinq\"\n```\n:::",
      "metadata": {
        "tags": []
      }
    },
    {
      "id": "57691532-9344-4452-8094-5ca3e5e3abcc",
      "cell_type": "code",
      "source": "(* Votre réponse ici *)",
      "metadata": {
        "tags": []
      },
      "outputs": [],
      "execution_count": null
    },
    {
      "id": "0fbb252a-65bd-4687-ab99-ba776127b6e5",
      "cell_type": "markdown",
      "source": ":::{solution} ex81\n:class: dropdown\n:label: sol81\n\n```ocaml\n# let full_words =\n    let digit = [|\"zéro\"; \"un\"; \"deux\"; \"trois\"; \"quatre\"; \"cinq\"; \"six\";\n                  \"sept\"; \"huit\"; \"neuf\"|] in\n    let rec words w n =\n      if n = 0 then (match w with [] -> [digit.(0)] | _ -> w)\n      else words (digit.(n mod 10) :: w) (n / 10)\n    in\n      fun n -> String.concat \"-\" (words [] n);;\nval full_words : int -> string = <fun>\n```\n:::",
      "metadata": {
        "tags": []
      }
    },
    {
      "id": "b1e062f3-dee8-4214-b71f-d79c1e814add",
      "cell_type": "markdown",
      "source": ":::{exercise} Vérificateur de Syntaxe 🟡\n:label: ex82\n\n<img src=\"data:image/gif;base64,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\" alt=\"Graphe de syntaxe\">\n\nDans un certain langage de programmation (Ada), les identifiants sont définis par le\ndiagramme de syntaxe (diagramme ferroviaire) ci-contre. Transformez le diagramme de syntaxe\nen un système de diagrammes de syntaxe qui ne contiennent pas de boucles ; c'est-à-dire qui\nsont purement récursifs. En utilisant ces diagrammes modifiés, écrivez une fonction\n`identifier : string -> bool` qui peut vérifier si une chaîne de caractères donnée\nest un identifiant légal.\n\n```ocaml\n# identifier \"ceci-est-un-long-identifiant\";;\n- : bool = true\n```\n:::",
      "metadata": {
        "tags": []
      }
    },
    {
      "id": "ccfd53e3-d526-4aad-a724-27704ec76a1a",
      "cell_type": "code",
      "source": "(* Votre réponse ici *)",
      "metadata": {
        "tags": []
      },
      "outputs": [],
      "execution_count": null
    },
    {
      "id": "fc90848a-59aa-450f-8907-122a22504050",
      "cell_type": "markdown",
      "source": ":::{solution} ex82\n:class: dropdown\n:label: sol82\n\n```ocaml\n# let identifier =\n    let is_letter c = 'a' <= c && c <= 'z' in\n    let is_letter_or_digit c = is_letter c || ('0' <= c && c <= '9') in\n    let rec is_valid s i not_after_dash =\n      if i < 0 then not_after_dash\n      else if is_letter_or_digit s.[i] then is_valid s (i - 1) true\n      else if s.[i] = '-' && not_after_dash then is_valid s (i - 1) false\n      else false in\n    fun s -> (\n        let n = String.length s in\n      n > 0 && is_letter s.[n - 1] && is_valid s (n - 2) true);;\nval identifier : string -> bool = <fun>\n```\n:::",
      "metadata": {
        "tags": []
      }
    },
    {
      "id": "f13ea90f-7480-4f11-8f4b-e5eb51518819",
      "cell_type": "markdown",
      "source": ":::{exercise} Sudoku 🟡\n:label: ex83\n\nLes puzzles de Sudoku se présentent comme suit :\n\n```text\n   Énoncé du problème                 Solution\n\n    .  .  4 | 8  .  . | .  1  7      9  3  4 | 8  2  5 | 6  1  7\n            |         |                      |         |\n    6  7  . | 9  .  . | .  .  .      6  7  2 | 9  1  4 | 8  5  3\n            |         |                      |         |\n    5  .  8 | .  3  . | .  .  4      5  1  8 | 6  3  7 | 9  2  4\n    --------+---------+--------      --------+---------+--------\n    3  .  . | 7  4  . | 1  .  .      3  2  5 | 7  4  8 | 1  6  9\n            |         |                      |         |\n    .  6  9 | .  .  . | 7  8  .      4  6  9 | 1  5  3 | 7  8  2\n            |         |                      |         |\n    .  .  1 | .  6  9 | .  .  5      7  8  1 | 2  6  9 | 4  3  5\n    --------+---------+--------      --------+---------+--------\n    1  .  . | .  8  . | 3  .  6      1  9  7 | 5  8  2 | 3  4  6\n            |         |                      |         |\n    .  .  . | .  .  6 | .  9  1      8  5  3 | 4  7  6 | 2  9  1\n            |         |                      |         |\n    2  4  . | .  .  1 | 5  .  .      2  4  6 | 3  9  1 | 5  7  8\n```\n\nChaque case du puzzle appartient à une ligne (horizontale) et à une\ncolonne (verticale), ainsi qu'à un seul carré 3x3 (que nous appellerons \"carré\" pour faire court).\nAu début, certaines des cases contiennent un nombre à un chiffre\nentre 1 et 9. Le problème est de remplir les cases manquantes avec des chiffres de\ntelle manière que chaque nombre entre 1 et 9 apparaisse exactement une fois dans\nchaque ligne, dans chaque colonne et dans chaque carré.\n\n```ocaml\n# (* La représentation du plateau n'est pas imposée. Ici \"0\" représente \".\" *);;\n```\n:::",
      "metadata": {
        "tags": []
      }
    },
    {
      "id": "49f60393-1d1c-4e2e-82f0-9c9632999b50",
      "cell_type": "code",
      "source": "(* Votre réponse ici *)",
      "metadata": {
        "tags": []
      },
      "outputs": [],
      "execution_count": null
    },
    {
      "id": "7b10cc4b-0a93-4491-a110-6f1c219f7f05",
      "cell_type": "markdown",
      "source": ":::{solution} ex83\n:class: dropdown\n:label: sol83\n\n```ocaml\n# open Printf\n\n  module Board = struct\n    type t = int array (* 9×9, représentation par ligne. Une valeur de 0\n                          signifie indécis. *)\n\n    let is_valid c = c >= 1\n\n    let get (b : t) (x, y) = b.(x + y * 9)\n\n    let get_as_string (b : t) pos =\n      let i = get b pos in\n      if is_valid i then string_of_int i else \".\"\n\n    let with_val (b : t) (x, y) v =\n      let b = Array.copy b in\n      b.(x + y * 9) <- v;\n      b\n\n    let of_list l : t =\n      let b = Array.make 81 0 in\n      List.iteri (fun y r -> List.iteri (fun x e ->\n        b.(x + y * 9) <- if e >= 0 && e <= 9 then e else 0) r) l;\n      b\n\n    let print b =\n      for y = 0 to 8 do\n        for x = 0 to 8 do\n          printf (if x = 0 then \"%s\" else if x mod 3 = 0 then \" | %s\"\n                  else \"  %s\")  (get_as_string b (x, y))\n        done;\n        if y < 8 then\n          if y mod 3 = 2 then printf \"\\n--------+---------+--------\\n\"\n          else printf \"\\n        |         |        \\n\"\n        else printf \"\\n\"\n      done\n\n    let available b (x, y) =\n      let avail = Array.make 10 true in\n      for i = 0 to 8 do\n        avail.(get b (x, i)) <- false;\n        avail.(get b (i, y)) <- false;\n      done;\n      let sq_x = x - x mod 3 and sq_y = y - y mod 3 in\n      for x = sq_x to sq_x + 2 do\n        for y = sq_y to sq_y + 2 do\n          avail.(get b (x, y)) <- false;\n        done;\n      done;\n      let av = ref [] in\n      for i = 1 (* pas 0 *) to 9 do if avail.(i) then av := i :: !av done;\n      !av\n\n    let next (x,y) = if x < 8 then (x + 1, y) else (0, y + 1)\n\n    (** Essayer de remplir les entrées indécises. *)\n    let rec fill b ((x, y) as pos) =\n      if y > 8 then Some b (* toutes les entrées sont remplies *)\n      else if is_valid(get b pos) then fill b (next pos)\n      else match available b pos with\n           | [] -> None (* pas de solution *)\n           | l -> try_values b pos l\n    and try_values b pos = function\n      | v :: l ->\n         (match fill (with_val b pos v) (next pos) with\n          | Some _ as res -> res\n          | None -> try_values b pos l)\n      | [] -> None\n  end\n\n  let sudoku b = match Board.fill b (0, 0) with\n    | Some b -> b\n    | None -> failwith \"sudoku : pas de solution\";;\nmodule Board :\n  sig\n    type t = int array\n    val is_valid : int -> bool\n    val get : t -> int * int -> int\n    val get_as_string : t -> int * int -> string\n    val with_val : t -> int * int -> int -> int array\n    val of_list : int list list -> t\n    val print : t -> unit\n    val available : t -> int * int -> int list\n    val next : int * int -> int * int\n    val fill : t -> int * int -> t option\n    val try_values : t -> int * int -> int list -> t option\n  end\nval sudoku : Board.t -> Board.t = <fun>\n```\n:::",
      "metadata": {
        "tags": []
      }
    },
    {
      "id": "c8ec6f57-3d3c-4c29-af40-8a793db03904",
      "cell_type": "markdown",
      "source": ":::{exercise} Nonogrammes 🔴\n:label: ex84\n\nVers 1994, un certain type de puzzles était très populaire en Angleterre. Le\njournal \"Sunday Telegraph\" écrivait : \"Les nonogrammes sont des puzzles du Japon\net sont actuellement publiés chaque semaine uniquement dans The Sunday Telegraph.\nUtilisez simplement votre logique et votre habileté pour compléter la grille et révéler une\nimage ou un diagramme.\" En tant que programmeur OCaml, vous êtes dans une meilleure\nsituation : vous pouvez laisser votre ordinateur faire le travail !\n\nLe puzzle se présente comme suit : Essentiellement, chaque ligne et colonne d'un\nbitmap rectangulaire est annotée avec les longueurs respectives de ses\nchaînes distinctes de cellules occupées. La personne qui résout le puzzle\ndoit compléter le bitmap en ne disposant que de ces longueurs.\n\n```text\n          Énoncé du problème :          Solution :\n\n          |_|_|_|_|_|_|_|_| 3         |_|X|X|X|_|_|_|_| 3\n          |_|_|_|_|_|_|_|_| 2 1       |X|X|_|X|_|_|_|_| 2 1\n          |_|_|_|_|_|_|_|_| 3 2       |_|X|X|X|_|_|X|X| 3 2\n          |_|_|_|_|_|_|_|_| 2 2       |_|_|X|X|_|_|X|X| 2 2\n          |_|_|_|_|_|_|_|_| 6         |_|_|X|X|X|X|X|X| 6\n          |_|_|_|_|_|_|_|_| 1 5       |X|_|X|X|X|X|X|_| 1 5\n          |_|_|_|_|_|_|_|_| 6         |X|X|X|X|X|X|_|_| 6\n          |_|_|_|_|_|_|_|_| 1         |_|_|_|_|X|_|_|_| 1\n          |_|_|_|_|_|_|_|_| 2         |_|_|_|X|X|_|_|_| 2\n           1 3 1 7 5 3 4 3             1 3 1 7 5 3 4 3\n           2 1 5 1                     2 1 5 1\n```\n\nPour l'exemple ci-dessus, le problème peut être énoncé comme les deux listes\n`[[3]; [2; 1]; [3; 2]; [2; 2]; [6]; [1; 5]; [6]; [1]; [2]]` et\n`[[1; 2]; [3; 1]; [1; 5]; [7; 1]; [5]; [3]; [4]; [3]]` qui donnent les longueurs \"solides\"\ndes lignes et des colonnes, de haut en bas et de gauche à droite,\nrespectivement. Les puzzles publiés sont plus grands que cet exemple, par exemple\n25×20, et ont apparemment toujours des solutions uniques.\n\n<!-- $MDX skip -->\n```ocaml\n# solve [[3]; [2; 1]; [3; 2]; [2; 2]; [6]; [1; 5]; [6]; [1]; [2]]\n      [[1; 2]; [3; 1]; [1; 5]; [7; 1]; [5]; [3]; [4]; [3]];;\n```\n:::",
      "metadata": {
        "tags": []
      }
    },
    {
      "id": "20004c9b-a12a-4bb7-b4cd-745da83d88d0",
      "cell_type": "code",
      "source": "(* Votre réponse ici *)",
      "metadata": {
        "tags": []
      },
      "outputs": [],
      "execution_count": null
    },
    {
      "id": "7735b201-e282-471d-9aa0-77435a3b51c8",
      "cell_type": "markdown",
      "source": ":::{solution} ex84\n:class: dropdown\n:label: sol84\n\n```ocaml\n# type element = Empty | X (* assurez-vous que nous ne manquons aucun cas dans les motifs *);;\ntype element = Empty | X\n```\n:::",
      "metadata": {
        "tags": []
      }
    },
    {
      "id": "dda871e8-ed22-42fd-9720-29aa44d827d5",
      "cell_type": "markdown",
      "source": ":::{exercise} Mots Croisés 🔴\n:label: ex85\n\n<img src=\"data:image/gif;base64,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\" alt=\"Mots Croisés\">\n\nÉtant donné une grille vide (ou presque vide) de mots croisés et un\nensemble de mots. Le problème est de placer les mots dans la grille.\n\nLe puzzle de mots croisés particulier est spécifié dans un fichier texte qui liste d'abord\nles mots (un mot par ligne) dans un ordre arbitraire. Ensuite, après\nune ligne vide, la grille de mots croisés est définie. Dans cette spécification de grille,\nun emplacement de caractère vide est représenté par un point (.).\nAfin de faciliter la solution, les emplacements de caractères peuvent également\ncontenir des valeurs de caractères prédéfinies. Le puzzle ci-dessus est défini dans le\nfichier\n[p7_09a.dat](https://sites.google.com/site/prologsite/prolog-problems/7/solutions-7/p7_09a.dat?attredirects=0&d=1),\nd'autres exemples sont\n[p7_09b.dat](https://sites.google.com/site/prologsite/prolog-problems/7/solutions-7/p7_09b.dat?attredirects=0&d=1)\net\n[p7_09d.dat](https://sites.google.com/site/prologsite/prolog-problems/7/solutions-7/p7_09d.dat?attredirects=0&d=1).\nIl y a aussi un exemple de puzzle\n([p7_09c.dat](https://sites.google.com/site/prologsite/prolog-problems/7/solutions-7/p7_09c.dat?attredirects=0&d=1))\nqui n'a pas de solution.\n\nLes mots sont des chaînes de caractères (listes de caractères) d'au moins deux caractères. Une\nséquence horizontale ou verticale d'emplacements de caractères dans la grille\nde mots croisés est appelée un site. Notre problème est de trouver une\nmanière compatible de placer des mots sur les sites.\n\n**Indices :**\n\n1. Le problème n'est pas facile. Vous aurez besoin de temps pour le\n comprendre en profondeur. Alors, n'abandonnez pas trop tôt ! Et rappelez-vous que l'\n objectif est une solution propre, pas seulement un bricolage rapide et sale !\n1. Pour des raisons d'efficacité, il est important, au moins pour les plus grands puzzles,\n de trier les mots et les sites dans un ordre particulier.\n:::",
      "metadata": {
        "tags": []
      }
    },
    {
      "id": "5f739a88-8c30-48c3-aca9-9c538a75aa9d",
      "cell_type": "code",
      "source": "(* Votre réponse ici *)",
      "metadata": {
        "tags": []
      },
      "outputs": [],
      "execution_count": null
    },
    {
      "id": "3a1b87e6-8c79-45a1-8e0e-4fb6cf47c93b",
      "cell_type": "markdown",
      "source": ":::{solution} ex85\n:class: dropdown\n:label: sol85\n\n```ocaml\n(* exemple en attente *);;\n```\n:::",
      "metadata": {
        "tags": []
      }
    },
    {
      "id": "aed19b2f-a66b-4945-bb8e-af712fec73c4",
      "cell_type": "markdown",
      "source": ":::{exercise} Séquences Infinies 🟢\n:label: ex86\n\n**Tags:** `seq`\n\nLes listes sont finies, ce qui signifie qu'elles contiennent toujours un nombre fini d'éléments. Les séquences peuvent\nêtre finies ou infinies.\n\nLe but de cet exercice est de définir un type `'a stream` qui ne contient que des\nséquences infinies. En utilisant ce type, définissez les fonctions suivantes :\n```ocaml\nval hd : 'a stream -> 'a\n(** Retourne le premier élément d'un flux *)\nval tl : 'a stream -> 'a stream\n(** Supprime le premier élément d'un flux *)\nval take : int -> 'a stream -> 'a list\n(** [take n seq] retourne les n premières valeurs de [seq] *)\nval unfold : ('a -> 'b * 'a) -> 'a -> 'b stream\n(** Similaire à Seq.unfold *)\nval bang : 'a -> 'a stream\n(** [bang x] produit une séquence infinie de valeurs [x] répétées. *)\nval ints : int -> int stream\n(* Similaire à Seq.ints *)\nval map : ('a -> 'b) -> 'a stream -> 'b stream\n(** Similaire à List.map et Seq.map *)\nval filter: ('a -> bool) -> 'a stream -> 'a stream\n(** Similaire à List.filter et Seq.filter *)\nval iter : ('a -> unit) -> 'a stream -> 'b\n(** Similaire à List.iter et Seq.iter *)\nval to_seq : 'a stream -> 'a Seq.t\n(** Traduit un ['a stream] en un ['a Seq.t] *)\nval of_seq : 'a Seq.t -> 'a stream\n(** Traduit un ['a Seq.t] en un ['a stream]\n    @raise Failure si la séquence d'entrée est finie. *)\n```\n**Astuce :** Utilisez les motifs `let ... =`.\n:::",
      "metadata": {
        "tags": []
      }
    },
    {
      "id": "28db175e-cb0b-4778-8f18-91eaac6c8952",
      "cell_type": "code",
      "source": "(* Votre réponse ici *)",
      "metadata": {
        "tags": []
      },
      "outputs": [],
      "execution_count": null
    },
    {
      "id": "4801cb13-53c5-4dde-908d-ae6b553353d5",
      "cell_type": "markdown",
      "source": ":::{solution} ex86\n:class: dropdown\n:label: sol86\n\n```ocaml\ntype 'a cons = Cons of 'a * 'a stream\nand 'a stream = unit -> 'a cons\n\nlet hd (seq : 'a stream) = let (Cons (x, _)) = seq () in x\nlet tl (seq : 'a stream) = let (Cons (_, seq)) = seq () in seq\nlet rec take n seq = if n = 0 then [] else let (Cons (x, seq)) = seq () in x :: take (n - 1) seq\nlet rec unfold f x () = let (y, x) = f x in Cons (y, unfold f x)\nlet bang x = unfold (fun x -> (x, x)) x\nlet ints x = unfold (fun x -> (x, x + 1)) x\nlet rec map f seq () = let (Cons (x, seq)) = seq () in Cons (f x, map f seq)\nlet rec filter p seq () = let (Cons (x, seq)) = seq () in let seq = filter p seq in if p x then Cons (x, seq) else seq ()\nlet rec iter f seq = let (Cons (x, seq)) = seq () in f x; iter f seq\nlet to_seq seq = Seq.unfold (fun seq -> Some (hd seq, tl seq)) seq\nlet rec of_seq seq () = match seq () with\n| Seq.Nil -> failwith \"Pas une séquence infinie\"\n| Seq.Cons (x, seq) -> Cons (x, of_seq seq)\n```\n:::",
      "metadata": {
        "tags": []
      }
    },
    {
      "id": "f2641851-b735-4a83-8ef0-0fb4634c0c3b",
      "cell_type": "markdown",
      "source": ":::{exercise} Diagonale d'une Séquence de Séquences 🟡\n:label: ex87\n\n**Tags:** `seq`\n\nÉcrivez une fonction `diag : 'a Seq.t Seq.t -> 'a Seq` qui retourne la _diagonale_\nd'une séquence de séquences. La séquence retournée est formée comme suit :\nLe premier élément de la séquence retournée est le premier élément de la première\nséquence ; le deuxième élément de la séquence retournée est le deuxième élément de\nla deuxième séquence ; le troisième élément de la séquence retournée est le troisième\nélément de la troisième séquence ; et ainsi de suite.\n:::",
      "metadata": {
        "tags": []
      }
    },
    {
      "id": "bb5f377d-0e04-4a04-af72-c60278bbb034",
      "cell_type": "code",
      "source": "(* Votre réponse ici *)",
      "metadata": {
        "tags": []
      },
      "outputs": [],
      "execution_count": null
    },
    {
      "id": "4a6cf1ae-cec0-40bd-99cb-064587982afa",
      "cell_type": "markdown",
      "source": ":::{solution} ex87\n:class: dropdown\n:label: sol87\n\n```ocaml\nlet rec diag seq_seq () =\n    let hds, tls = Seq.filter_map Seq.uncons seq_seq |> Seq.split in\n    let hd, tl = Seq.uncons hds |> Option.map fst, Seq.uncons tls |> Option.map snd in\n    let d = Option.fold ~none:Seq.empty ~some:diag tl in\n    Option.fold ~none:Fun.id ~some:Seq.cons hd d ()\n```\n:::",
      "metadata": {
        "tags": []
      }
    }
  ]
}