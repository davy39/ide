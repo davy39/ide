{
  "cells": [
    {
      "cell_type": "markdown",
      "metadata": {},
      "source": [
        "---\n",
        "subject: Programmation\n",
        "venue: OCaml\n",
        "title: \"Présentation de xeus-ocaml\"\n",
        "subtitle: Programmer en OCaml avec Jupyterlite\n",
        "authors:\n",
        "  - name: Davy Cottet\n",
        "    affiliations:\n",
        "      - Lycée Expérimental\n",
        "license: CC-BY-NC-4.0\n",
        "---"
      ]
    },
    {
      "cell_type": "markdown",
      "metadata": {},
      "source": [
        "\n",
        "# Bienvenue dans xeus-ocaml ! 🚀\n",
        "\n",
        "`xeus-ocaml` est un noyau Jupyter pour le langage de programmation OCaml qui s'exécute entièrement dans votre navigateur web, grâce à WebAssembly.\n",
        "\n",
        "Ce notebook vous présentera ses fonctionnalités clés :\n",
        "- **Toplevel OCaml interactif** : Exécutez du code OCaml et visualisez les résultats instantanément.\n",
        "- **Assistance au code** : Profitez de la complétion de code et de l'inspection des types/documentation, grâce à Merlin.\n",
        "- **Affichage riche** : Générez du HTML, du Markdown, des graphiques et plus encore, directement depuis OCaml.\n",
        "- **Chargement dynamique de bibliothèques** : Utilisez la directive `#require` pour charger des bibliothèques externes comme `ocamlgraph`.\n",
        "- **Système de fichiers virtuel** : Manipulez des fichiers en utilisant les fonctions d'entrée/sortie standards d'OCaml.\n",
        "\n",
        "Commençons !\n",
        "\n",
        "## 1. Exécution de base du Toplevel\n",
        "\n",
        "Vous pouvez exécuter du code OCaml comme dans un toplevel classique. Chaque phrase doit se terminer par `;;`."
      ]
    },
    {
      "cell_type": "code",
      "execution_count": null,
      "metadata": {
        "trusted": true
      },
      "outputs": [],
      "source": [
        "1 + 1;;\n",
        "\n",
        "\"Hello, \" ^ \"Jupyter!\";;"
      ]
    },
    {
      "cell_type": "markdown",
      "metadata": {},
      "source": [
        "Le noyau conserve son état entre les cellules. Vous pouvez définir une fonction dans une cellule et l'utiliser dans une autre."
      ]
    },
    {
      "cell_type": "code",
      "execution_count": null,
      "metadata": {
        "trusted": true
      },
      "outputs": [],
      "source": [
        "let greet name = \"Hello, \" ^ name ^ \"!\";;"
      ]
    },
    {
      "cell_type": "code",
      "execution_count": null,
      "metadata": {
        "trusted": true
      },
      "outputs": [],
      "source": [
        "greet \"xeus-ocaml\";;"
      ]
    },
    {
      "cell_type": "markdown",
      "metadata": {},
      "source": [
        "\n",
        "## 2. Assistance au code avec Merlin\n",
        "\n",
        "`xeus-ocaml` intègre Merlin pour offrir une expérience similaire à celle d'un EDI.\n",
        "\n",
        "#### Complétion de code\n",
        "Dans la cellule ci-dessous, placez votre curseur après `List.` et appuyez sur `Tab` pour voir la liste des fonctions disponibles.\n"
      ]
    },
    {
      "cell_type": "code",
      "execution_count": null,
      "metadata": {
        "trusted": true
      },
      "outputs": [],
      "source": [
        "List."
      ]
    },
    {
      "cell_type": "markdown",
      "metadata": {},
      "source": [
        "#### Inspection du code\n",
        "\n",
        "Vous pouvez afficher le type et la documentation d'un identifiant en plaçant votre curseur dessus et en appuyant sur `Maj+Tab`. Vous pouvez également ouvrir l'aide avec `Ctrl+I`."
      ]
    },
    {
      "cell_type": "code",
      "execution_count": null,
      "metadata": {
        "trusted": true
      },
      "outputs": [],
      "source": [
        "List.map"
      ]
    },
    {
      "cell_type": "markdown",
      "metadata": {},
      "source": [
        "## 3. Affichage riche avec `Xlib`\n",
        "\n",
        "Le module `Xlib` est automatiquement ouvert au démarrage, fournissant des fonctions pour générer des affichages riches comme du HTML, du Markdown, et même des graphiques interactifs.\n"
      ]
    },
    {
      "cell_type": "code",
      "execution_count": null,
      "metadata": {
        "trusted": true
      },
      "outputs": [],
      "source": [
        "output_html \"<h1>Ceci est un en-tête HTML</h1><p>Généré depuis OCaml !</p>\";;\n",
        "\n",
        "output_markdown \"# Et ceci est du Markdown\\n\\n* Avec une liste à puces !\\n* Et une autre.\";;\n"
      ]
    },
    {
      "cell_type": "markdown",
      "metadata": {},
      "source": [
        "Vous pouvez également afficher des données structurées comme du JSON et créer des graphiques interactifs avec Vega-Lite."
      ]
    },
    {
      "cell_type": "code",
      "execution_count": null,
      "metadata": {
        "trusted": true
      },
      "outputs": [],
      "source": [
        "(* Affiche un objet JSON *)\n",
        "let json_string = \"{\\\"name\\\": \\\"xeus-ocaml\\\", \\\"is_awesome\\\": true}\";;\n",
        "output_json json_string;;\n",
        "\n",
        "(* Affiche un diagramme en barres Vega-Lite *)\n",
        "let vega_spec = {|\n",
        "  {\n",
        "    \"$schema\": \"https://vega.github.io/schema/vega-lite/v5.json\",\n",
        "    \"description\": \"Un simple diagramme en barres.\",\n",
        "    \"data\": {\n",
        "      \"values\": [\n",
        "        {\"a\": \"A\", \"b\": 28}, {\"a\": \"B\", \"b\": 55}, {\"a\": \"C\", \"b\": 43},\n",
        "        {\"a\": \"D\", \"b\": 91}, {\"a\": \"E\", \"b\": 81}, {\"a\": \"F\", \"b\": 53}\n",
        "      ]\n",
        "    },\n",
        "    \"mark\": \"bar\",\n",
        "    \"encoding\": {\n",
        "      \"x\": {\"field\": \"a\", \"type\": \"nominal\"},\n",
        "      \"y\": {\"field\": \"b\", \"type\": \"quantitative\"}\n",
        "    }\n",
        "  }\n",
        "|};;\n",
        "output_vegalite vega_spec;;\n"
      ]
    },
    {
      "cell_type": "markdown",
      "metadata": {},
      "source": [
        "## 4. Chargement dynamique de bibliothèques avec `ocamlgraph`\n",
        "\n",
        "Vous pouvez charger des bibliothèques externes en utilisant la directive `#require`. Chargeons `ocamlgraph` pour construire et visualiser un graphe.\n"
      ]
    },
    {
      "cell_type": "code",
      "execution_count": null,
      "metadata": {
        "trusted": true
      },
      "outputs": [],
      "source": [
        "#require \"ocamlgraph\";;"
      ]
    },
    {
      "cell_type": "markdown",
      "metadata": {},
      "source": [
        "### Création d'un graphe simple\n",
        "\n",
        "Commençons par définir un module pour un graphe simple, persistant et orienté.\n",
        "- **`Persistent`** : La structure de données du graphe est immuable. Chaque opération (comme l'ajout d'une arête) renvoie un *nouveau* graphe.\n",
        "- **`Digraph`** : Le graphe est orienté (les arêtes ont une source et une destination).\n",
        "- **`Concrete`** : Les sommets eux-mêmes sont les étiquettes (dans ce cas, des chaînes de caractères `string`).\n"
      ]
    },
    {
      "cell_type": "code",
      "execution_count": null,
      "metadata": {
        "trusted": true
      },
      "outputs": [],
      "source": [
        "open Graph;;\n",
        "\n",
        "module G = Persistent.Digraph.Concrete(\n",
        "  struct\n",
        "    type t = string\n",
        "    let compare = String.compare\n",
        "    let hash = Hashtbl.hash\n",
        "    let equal = (=)\n",
        "  end\n",
        ");;\n",
        "\n",
        "(* Crée un graphe vide *)\n",
        "let g = G.empty;;\n",
        "\n",
        "print_endline \"Graphe vide créé.\";;"
      ]
    },
    {
      "cell_type": "markdown",
      "metadata": {},
      "source": [
        "### Ajout de sommets et d'arêtes\n",
        "\n",
        "Comme notre graphe est persistant, nous réaffectons la variable `g` avec le nouveau graphe retourné par chaque opération. Nous allons modéliser un graphe simple de vols entre des villes."
      ]
    },
    {
      "cell_type": "code",
      "execution_count": null,
      "metadata": {
        "trusted": true
      },
      "outputs": [],
      "source": [
        "let g = G.add_vertex g \"Paris\";;\n",
        "let g = G.add_vertex g \"Londres\";;\n",
        "let g = G.add_vertex g \"New York\";;\n",
        "let g = G.add_vertex g \"Tokyo\";;\n",
        "\n",
        "let g = G.add_edge g \"Londres\" \"Paris\";;\n",
        "let g = G.add_edge g \"Paris\" \"New York\";;\n",
        "let g = G.add_edge g \"New York\" \"Tokyo\";;\n",
        "let g = G.add_edge g \"Tokyo\" \"Londres\";; (* Un cycle ! *)\n",
        "let g = G.add_edge g \"Paris\" \"Tokyo\";;\n",
        "\n",
        "print_endline \"4 sommets et 5 arêtes ajoutés.\";;"
      ]
    },
    {
      "cell_type": "markdown",
      "metadata": {},
      "source": [
        "### Inspection du graphe\n",
        "\n",
        "Nous pouvons maintenant interroger le graphe pour obtenir des informations de base comme le nombre de sommets et d'arêtes, et itérer sur ceux-ci."
      ]
    },
    {
      "cell_type": "code",
      "execution_count": null,
      "metadata": {
        "trusted": true
      },
      "outputs": [],
      "source": [
        "Printf.printf \"Nombre de sommets : %d\\n\" (G.nb_vertex g);;\n",
        "Printf.printf \"Nombre d'arêtes : %d\\n\" (G.nb_edges g);;\n",
        "\n",
        "print_endline \"\\nSommets :\";;\n",
        "G.iter_vertex (fun v -> print_endline v) g;;\n",
        "\n",
        "print_endline \"\\nArêtes :\";;\n",
        "G.iter_edges_e (fun (src, dst) -> Printf.printf \"%s -> %s\\n\" src dst) g;;"
      ]
    },
    {
      "cell_type": "markdown",
      "metadata": {},
      "source": [
        "### Exécution d'un algorithme simple : Parcours en profondeur (DFS)\n",
        "\n",
        "OCamlGraph est livré avec de nombreux algorithmes prédéfinis. Utilisons un parcours en profondeur (Depth-First Search). Nous créons un nouveau module `Dfs` en appliquant le foncteur `Graph.Traverse.Dfs` à notre module de graphe `G`."
      ]
    },
    {
      "cell_type": "code",
      "execution_count": null,
      "metadata": {
        "trusted": true
      },
      "outputs": [],
      "source": [
        "module Dfs = Traverse.Dfs(G);;"
      ]
    },
    {
      "cell_type": "markdown",
      "metadata": {},
      "source": [
        "#### Ordre de parcours DFS (préfixe) :"
      ]
    },
    {
      "cell_type": "code",
      "execution_count": null,
      "metadata": {
        "trusted": true
      },
      "outputs": [],
      "source": [
        "Dfs.iter ~pre:(fun v -> Printf.printf \"%s \" v) g;;"
      ]
    },
    {
      "cell_type": "markdown",
      "metadata": {},
      "source": [
        "#### Vérification des cycles"
      ]
    },
    {
      "cell_type": "code",
      "execution_count": null,
      "metadata": {
        "trusted": true
      },
      "outputs": [],
      "source": [
        "if Dfs.has_cycle g then\n",
        "  print_endline \"\\nLe graphe contient au moins un cycle.\"\n",
        "else\n",
        "  print_endline \"\\nLe graphe est un DAG (Graphe Acyclique Orienté).\";;"
      ]
    },
    {
      "cell_type": "markdown",
      "metadata": {},
      "source": [
        "### Visualisation avec Graphviz (format Dot)\n",
        "\n",
        "OCamlGraph peut générer une sortie au format **DOT**, qui peut être utilisée par la suite d'outils Graphviz pour produire une image du graphe.\n",
        "\n",
        "D'abord, nous créons un module `Dot` configuré pour notre graphe `G`, en spécifiant comment les sommets et le graphe dans son ensemble doivent être stylisés."
      ]
    },
    {
      "cell_type": "code",
      "execution_count": null,
      "metadata": {
        "trusted": true
      },
      "outputs": [],
      "source": [
        "module Dot = Graphviz.Dot(\n",
        "  struct\n",
        "    include G (* Utilise notre module de graphe `G` *)\n",
        "\n",
        "    (* Attributs au niveau du graphe *)\n",
        "    let graph_attributes _ = [`Rankdir `LeftToRight]\n",
        "    \n",
        "    (* Attributs par défaut des sommets *)\n",
        "    let default_vertex_attributes _ = []\n",
        "    \n",
        "    (* Attributs spécifiques aux sommets *)\n",
        "    let vertex_name v = Printf.sprintf \"\\\"%s\\\"\" v (* Met les noms des sommets entre guillemets *)\n",
        "    let vertex_attributes _ = [`Shape `Box; `Style `Rounded]\n",
        "    \n",
        "    (* Attributs par défaut des arêtes *)\n",
        "    let default_edge_attributes _ = []\n",
        "    \n",
        "    (* Attributs spécifiques aux arêtes *)\n",
        "    let edge_attributes _ = []\n",
        "    \n",
        "    (* Gestion des sous-graphes (non utilisée ici) *)\n",
        "    let get_subgraph _ = None\n",
        "  end\n",
        ");;"
      ]
    },
    {
      "cell_type": "markdown",
      "metadata": {},
      "source": [
        "### Génération de la chaîne de caractères dot du graphe (graphviz)\n",
        "\n",
        "Maintenant, générons la représentation DOT et affichons-la !"
      ]
    },
    {
      "cell_type": "code",
      "execution_count": null,
      "metadata": {
        "trusted": true
      },
      "outputs": [],
      "source": [
        "let dot_string = Format.asprintf \"%a\" Dot.fprint_graph g"
      ]
    },
    {
      "cell_type": "markdown",
      "metadata": {},
      "source": [
        "### Visualisation SVG avec l'extension intégrée et viz.js"
      ]
    },
    {
      "cell_type": "code",
      "execution_count": null,
      "metadata": {
        "trusted": true
      },
      "outputs": [],
      "source": [
        "output_dot dot_string"
      ]
    },
    {
      "cell_type": "markdown",
      "metadata": {},
      "source": [
        "## 5. Système de fichiers virtuel\n",
        "\n",
        "Le noyau inclut un système de fichiers virtuel en mémoire. Vous pouvez utiliser les fonctions standards d'OCaml `In_channel`, `Out_channel`, et `Sys` pour interagir avec lui."
      ]
    },
    {
      "cell_type": "code",
      "execution_count": null,
      "metadata": {
        "trusted": true
      },
      "outputs": [],
      "source": [
        "(* Écrit un message dans un fichier *)\n",
        "let message = \"Bonjour depuis le système de fichiers virtuel !\";;\n",
        "let oc = open_out \"hello.txt\";;\n",
        "output_string oc message;;\n",
        "close_out oc;;"
      ]
    },
    {
      "cell_type": "code",
      "execution_count": null,
      "metadata": {
        "trusted": true
      },
      "outputs": [],
      "source": [
        "(* Relit le message *)\n",
        "let ic = open_in \"hello.txt\";;\n",
        "let read_message = input_line ic;;\n",
        "close_in ic;;\n",
        "\n",
        "read_message;;"
      ]
    },
    {
      "cell_type": "markdown",
      "metadata": {},
      "source": [
        "Nous pouvons vérifier que le fichier a été créé en listant le contenu du répertoire courant."
      ]
    },
    {
      "cell_type": "code",
      "execution_count": null,
      "metadata": {
        "trusted": true
      },
      "outputs": [],
      "source": [
        "Sys.readdir \".\";;"
      ]
    },
    {
      "cell_type": "markdown",
      "metadata": {},
      "source": [
        "## 🎉 Conclusion\n",
        "\n",
        "Ce notebook a démontré les fonctionnalités principales de `xeus-ocaml`. Vous avez vu comment exécuter du code, obtenir une assistance linguistique riche, afficher des visualisations, charger des bibliothèques et interagir avec un système de fichiers virtuel, le tout depuis votre navigateur.\n",
        "\n",
        "Pour plus d'informations, visitez le [dépôt du projet sur GitHub](https://github.com/davy39/xeus-ocaml)."
      ]
    }
  ],
  "metadata": {
    "kernelspec": {
      "display_name": "ocaml 5.3.0 (xocaml)",
      "language": "ocaml",
      "name": "xocaml"
    },
    "language_info": {
      "codemirror_mode": "ocaml",
      "file_extension": ".ml",
      "mimetype": "text/x-ocaml",
      "name": "ocaml",
      "nbconvert_exporter": "",
      "pygments_lexer": "ocaml",
      "version": "5.2.0"
    }
  },
  "nbformat": 4,
  "nbformat_minor": 4
}
