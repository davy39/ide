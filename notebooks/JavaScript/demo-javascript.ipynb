{
 "cells": [
  {
   "cell_type": "markdown",
   "metadata": {},
   "source": [
    "---\n",
    "subject: Programmation\n",
    "venue: JavaScript\n",
    "title: \"Présentation de xeus-javascript\"\n",
    "subtitle: Programmer en Javascript avec Jupyterlite\n",
    "authors:\n",
    "  - name: Davy Cottet\n",
    "    affiliations:\n",
    "      - Lycée Expérimental\n",
    "license: CC-BY-NC-4.0\n",
    "---"
   ]
  },
  {
   "cell_type": "markdown",
   "metadata": {},
   "source": [
    "# Exécution de code simple\n",
    "La dernière ligne est affichée si c'est une expression, sauf si la ligne se termine par un point-virgule."
   ]
  },
  {
   "cell_type": "code",
   "execution_count": null,
   "metadata": {},
   "outputs": [],
   "source": [
    "let a = 1 + 1;\n",
    "let b = a * 2;\n",
    "b"
   ]
  },
  {
   "cell_type": "markdown",
   "metadata": {},
   "source": [
    "# Affichage formaté simple"
   ]
  },
  {
   "cell_type": "code",
   "execution_count": null,
   "metadata": {
    "vscode": {
     "languageId": "plaintext"
    }
   },
   "outputs": [],
   "source": [
    "// appel explicite de pprint\n",
    "pprint([{fubar:[]}])"
   ]
  },
  {
   "cell_type": "code",
   "execution_count": null,
   "metadata": {
    "vscode": {
     "languageId": "plaintext"
    }
   },
   "outputs": [],
   "source": [
    "// affichage implicite\n",
    "[{fubar:[]}]"
   ]
  },
  {
   "cell_type": "markdown",
   "metadata": {},
   "source": [
    "# Afficher des choses"
   ]
  },
  {
   "cell_type": "code",
   "execution_count": null,
   "metadata": {
    "vscode": {
     "languageId": "plaintext"
    }
   },
   "outputs": [],
   "source": [
    "ijs.display.json({fuu:\"baR\"});"
   ]
  },
  {
   "cell_type": "code",
   "execution_count": null,
   "metadata": {
    "vscode": {
     "languageId": "plaintext"
    }
   },
   "outputs": [],
   "source": [
    "let svg = `<svg fill=\"#000000\" height=\"200px\" width=\"200px\" version=\"1.1\" id=\"Capa_1\" xmlns=\"http://www.w3.org/2000/svg\" xmlns:xlink=\"http://www.w3.org/1999/xlink\" viewBox=\"0 0 471.701 471.701\" xml:space=\"preserve\"><g id=\"SVGRepo_bgCarrier\" stroke-width=\"0\"></g><g id=\"SVGRepo_tracerCarrier\" stroke-linecap=\"round\" stroke-linejoin=\"round\"></g><g id=\"SVGRepo_iconCarrier\"> <g> <path d=\"M433.601,67.001c-24.7-24.7-57.4-38.2-92.3-38.2s-67.7,13.6-92.4,38.3l-12.9,12.9l-13.1-13.1 c-24.7-24.7-57.6-38.4-92.5-38.4c-34.8,0-67.6,13.6-92.2,38.2c-24.7,24.7-38.3,57.5-38.2,92.4c0,34.9,13.7,67.6,38.4,92.3 l187.8,187.8c2.6,2.6,6.1,4,9.5,4c3.4,0,6.9-1.3,9.5-3.9l188.2-187.5c24.7-24.7,38.3-57.5,38.3-92.4 C471.801,124.501,458.301,91.701,433.601,67.001z M414.401,232.701l-178.7,178l-178.3-178.3c-19.6-19.6-30.4-45.6-30.4-73.3 s10.7-53.7,30.3-73.2c19.5-19.5,45.5-30.3,73.1-30.3c27.7,0,53.8,10.8,73.4,30.4l22.6,22.6c5.3,5.3,13.8,5.3,19.1,0l22.4-22.4 c19.6-19.6,45.7-30.4,73.3-30.4c27.6,0,53.6,10.8,73.2,30.3c19.6,19.6,30.3,45.6,30.3,73.3 C444.801,187.101,434.001,213.101,414.401,232.701z\"></path> </g> </g></svg>`\n",
    "ijs.display.svg(svg);"
   ]
  },
  {
   "cell_type": "markdown",
   "metadata": {},
   "source": [
    "# Exécuter du code asynchrone"
   ]
  },
  {
   "cell_type": "code",
   "execution_count": null,
   "metadata": {
    "vscode": {
     "languageId": "plaintext"
    }
   },
   "outputs": [],
   "source": [
    "const sleep = ms => new Promise(r => setTimeout(r, ms));\n",
    "console.log(\"pre sleep\");\n",
    "await sleep(1000);\n",
    "console.log(\"post sleep\");"
   ]
  },
  {
   "cell_type": "markdown",
   "metadata": {},
   "source": [
    "# Auto-complétion\n",
    "appuyez sur tabulation (ijs.display.svg ou ijs.display.html sont quelques-unes des nombreuses complétions possibles)"
   ]
  },
  {
   "cell_type": "code",
   "execution_count": null,
   "metadata": {
    "vscode": {
     "languageId": "plaintext"
    }
   },
   "outputs": [],
   "source": [
    "ij"
   ]
  },
  {
   "cell_type": "markdown",
   "metadata": {},
   "source": [
    "# Portée (Scope)\n",
    "toutes les variables de haut niveau (const/let/var) sont accessibles depuis les autres cellules."
   ]
  },
  {
   "cell_type": "code",
   "execution_count": null,
   "metadata": {
    "vscode": {
     "languageId": "plaintext"
    }
   },
   "outputs": [],
   "source": [
    "var fubar = 42;\n",
    "let fubar_local=43;\n",
    "function call_me(arg){\n",
    "    return arg;\n",
    "}\n",
    "let [fu,bar] = ['fu','bar'];\n",
    "const {ping,pong} = {ping:1, pingpong:2, pong:3}"
   ]
  },
  {
   "cell_type": "code",
   "execution_count": null,
   "metadata": {
    "vscode": {
     "languageId": "plaintext"
    }
   },
   "outputs": [],
   "source": [
    "console.log(fubar);\n",
    "console.log(fubar_local);\n",
    "console.log(call_me(42));\n",
    "console.log(fu,bar);\n",
    "console.log(ping,pong);"
   ]
  },
  {
   "cell_type": "markdown",
   "metadata": {},
   "source": [
    "# Réaffectation de const\n",
    "au sein d'une cellule, const ne peut pas être réaffecté, mais il peut l'être dans une autre cellule, ou\n",
    "lorsque la cellule est ré-exécutée."
   ]
  },
  {
   "cell_type": "code",
   "execution_count": null,
   "metadata": {
    "vscode": {
     "languageId": "plaintext"
    }
   },
   "outputs": [],
   "source": [
    "const some_const_var = 42;\n",
    "some_const_var"
   ]
  },
  {
   "cell_type": "code",
   "execution_count": null,
   "metadata": {
    "vscode": {
     "languageId": "plaintext"
    }
   },
   "outputs": [],
   "source": [
    "const some_const_var = 43;\n",
    "some_const_var"
   ]
  },
  {
   "cell_type": "markdown",
   "metadata": {},
   "source": [
    "# Importations"
   ]
  },
  {
   "cell_type": "code",
   "execution_count": null,
   "metadata": {
    "vscode": {
     "languageId": "plaintext"
    }
   },
   "outputs": [],
   "source": [
    "import * as math from \"https://cdn.jsdelivr.net/npm/mathjs@12.3.0/+esm\"\n",
    "\n",
    "let d = math.derivative('x^2 + x', 'x');\n",
    "`${d}`"
   ]
  },
  {
   "cell_type": "code",
   "execution_count": null,
   "metadata": {
    "vscode": {
     "languageId": "plaintext"
    }
   },
   "outputs": [],
   "source": [
    "const {default: OpenAI} = await import('https://cdn.jsdelivr.net/npm/openai@4.26.0/+esm');\n",
    "console.log(OpenAI.OpenAI);"
   ]
  },
  {
   "cell_type": "code",
   "execution_count": null,
   "metadata": {
    "vscode": {
     "languageId": "plaintext"
    }
   },
   "outputs": [],
   "source": [
    "import OpenAI  from \"https://cdn.jsdelivr.net/npm/openai@4.26.0/+esm\""
   ]
  },
  {
   "cell_type": "code",
   "execution_count": null,
   "metadata": {
    "vscode": {
     "languageId": "plaintext"
    }
   },
   "outputs": [],
   "source": [
    "import {default as fubar} from \"https://cdn.jsdelivr.net/npm/openai@4.26.0/+esm\"\n",
    "new fubar.OpenAI()"
   ]
  },
  {
   "cell_type": "code",
   "execution_count": null,
   "metadata": {
    "vscode": {
     "languageId": "plaintext"
    }
   },
   "outputs": [],
   "source": [
    "import {\n",
    "  atan2, chain, derivative, e, evaluate, log, pi, pow, round, sqrt\n",
    "} from 'https://cdn.jsdelivr.net/npm/mathjs@12.3.0/+esm'\n",
    "\n",
    "sqrt(16)"
   ]
  },
  {
   "cell_type": "markdown",
   "metadata": {
    "vscode": {
     "languageId": "plaintext"
    }
   },
   "source": [
    "# Imports Magiques\n",
    "\n",
    "Pour faciliter la vie, nous avons quelques imports magiques.\n",
    "Pour utiliser les imports magiques, ils doivent être activés (ils sont activés par défaut)."
   ]
  },
  {
   "cell_type": "code",
   "execution_count": null,
   "metadata": {
    "vscode": {
     "languageId": "plaintext"
    }
   },
   "outputs": [],
   "source": [
    "ijs.magic_imports.enabled = true"
   ]
  },
  {
   "cell_type": "markdown",
   "metadata": {},
   "source": [
    "Une fois activées, les sources d'import sont automatiquement transformées en\n",
    "liens CDN jsdelivr."
   ]
  },
  {
   "cell_type": "code",
   "execution_count": null,
   "metadata": {
    "vscode": {
     "languageId": "plaintext"
    }
   },
   "outputs": [],
   "source": [
    "// sans version\n",
    "import * as math from 'mathjs'\n",
    "math.sqrt(9)\n"
   ]
  },
  {
   "cell_type": "code",
   "execution_count": null,
   "metadata": {
    "vscode": {
     "languageId": "plaintext"
    }
   },
   "outputs": [],
   "source": [
    "// version explicite\n",
    "import * as math_12_3_0 from 'mathjs@12.3.0'\n",
    "math_12_3_0.sqrt(9)"
   ]
  },
  {
   "cell_type": "code",
   "execution_count": null,
   "metadata": {
    "vscode": {
     "languageId": "plaintext"
    }
   },
   "outputs": [],
   "source": []
  }
 ],
 "metadata": {
  "kernelspec": {
   "display_name": "Javascript ES6 (xjavascript)",
   "language": "text/x-javascript",
   "name": "xjavascript"
  },
  "language_info": {
   "file_extension": "js",
   "mimetype": "text/x-javascript",
   "name": "xjavascript",
   "version": "ES6"
  }
 },
 "nbformat": 4,
 "nbformat_minor": 4
}
